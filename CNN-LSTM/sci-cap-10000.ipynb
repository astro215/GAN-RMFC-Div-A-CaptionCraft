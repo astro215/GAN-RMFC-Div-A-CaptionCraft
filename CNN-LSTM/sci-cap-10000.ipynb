{
 "cells": [
  {
   "cell_type": "markdown",
   "id": "ef7941fb",
   "metadata": {
    "_cell_guid": "b1076dfc-b9ad-4769-8c92-a6c4dae69d19",
    "_uuid": "8f2839f25d086af736a60e9eeb907d3b93b6e0e5",
    "papermill": {
     "duration": 0.023835,
     "end_time": "2024-03-30T14:48:56.095634",
     "exception": false,
     "start_time": "2024-03-30T14:48:56.071799",
     "status": "completed"
    },
    "tags": []
   },
   "source": [
    "# Image Caption Generator with CNN & LSTM\n",
    "\n",
    "You saw an image and your brain can easily tell what the image is about, but can a computer tell what the image is representing? Computer vision researchers worked on this a lot and they considered it impossible until now! With the advancement in Deep learning techniques, availability of huge datasets and computer power, we can build models that can generate captions for an image.\n",
    "\n",
    "This is what we are going to implement in this Python based project where we will use deep learning techniques of Convolutional Neural Networks and a type of Recurrent Neural Network (LSTM) together.\n",
    "\n",
    "## What is Image Caption Generator?\n",
    "\n",
    "Image caption generator is a task that involves computer vision and natural language processing concepts to recognize the context of an image and describe them in a natural language like English."
   ]
  },
  {
   "cell_type": "markdown",
   "id": "b4d846a2",
   "metadata": {
    "papermill": {
     "duration": 0.022946,
     "end_time": "2024-03-30T14:48:56.142836",
     "exception": false,
     "start_time": "2024-03-30T14:48:56.119890",
     "status": "completed"
    },
    "tags": []
   },
   "source": [
    "### Image Caption Generator with CNN – About the Python based Project\n",
    "\n",
    "The objective of our project is to learn the concepts of a CNN and LSTM model and build a working model of Image caption generator by implementing CNN with LSTM.\n",
    "\n",
    "In this Python project, we will be implementing the caption generator using **CNN (Convolutional Neural Networks)*** and LSTM **(Long short term memory)**. The image features will be extracted from Xception which is a CNN model trained on the imagenet dataset and then we feed the features into the LSTM model which will be responsible for generating the image captions."
   ]
  },
  {
   "cell_type": "markdown",
   "id": "b6cb8768",
   "metadata": {
    "papermill": {
     "duration": 0.022918,
     "end_time": "2024-03-30T14:48:56.188435",
     "exception": false,
     "start_time": "2024-03-30T14:48:56.165517",
     "status": "completed"
    },
    "tags": []
   },
   "source": [
    "# The Dataset of Python based Project\n",
    "\n",
    "For the image caption generator, we will be using the Flickr_8K dataset. There are also other big datasets like Flickr_30K and MSCOCO dataset but it can take weeks just to train the network so we will be using a small Flickr8k dataset. The advantage of a huge dataset is that we can build better models.\n",
    "\n",
    "we get dataset from **Kaggle** you can download it from here also : <a href=\"https://www.kaggle.com/datasets/adityajn105/flickr8k\">Kaggle-Flicker8k</a> (Size: 1GB).\n"
   ]
  },
  {
   "cell_type": "markdown",
   "id": "141034d7",
   "metadata": {
    "papermill": {
     "duration": 0.022455,
     "end_time": "2024-03-30T14:48:56.234117",
     "exception": false,
     "start_time": "2024-03-30T14:48:56.211662",
     "status": "completed"
    },
    "tags": []
   },
   "source": [
    "#### Let's Begin to code."
   ]
  },
  {
   "cell_type": "markdown",
   "id": "a31401ba",
   "metadata": {
    "papermill": {
     "duration": 0.023546,
     "end_time": "2024-03-30T14:48:56.281558",
     "exception": false,
     "start_time": "2024-03-30T14:48:56.258012",
     "status": "completed"
    },
    "tags": []
   },
   "source": [
    "# Import Modules "
   ]
  },
  {
   "cell_type": "code",
   "execution_count": 1,
   "id": "998c5999",
   "metadata": {
    "execution": {
     "iopub.execute_input": "2024-03-30T14:48:56.330242Z",
     "iopub.status.busy": "2024-03-30T14:48:56.329326Z",
     "iopub.status.idle": "2024-03-30T14:49:10.828976Z",
     "shell.execute_reply": "2024-03-30T14:49:10.828216Z"
    },
    "papermill": {
     "duration": 14.526321,
     "end_time": "2024-03-30T14:49:10.831197",
     "exception": false,
     "start_time": "2024-03-30T14:48:56.304876",
     "status": "completed"
    },
    "tags": []
   },
   "outputs": [
    {
     "name": "stderr",
     "output_type": "stream",
     "text": [
      "2024-03-30 14:48:58.695540: E external/local_xla/xla/stream_executor/cuda/cuda_dnn.cc:9261] Unable to register cuDNN factory: Attempting to register factory for plugin cuDNN when one has already been registered\n",
      "2024-03-30 14:48:58.695656: E external/local_xla/xla/stream_executor/cuda/cuda_fft.cc:607] Unable to register cuFFT factory: Attempting to register factory for plugin cuFFT when one has already been registered\n",
      "2024-03-30 14:48:58.851498: E external/local_xla/xla/stream_executor/cuda/cuda_blas.cc:1515] Unable to register cuBLAS factory: Attempting to register factory for plugin cuBLAS when one has already been registered\n"
     ]
    }
   ],
   "source": [
    "import os   # handling the files\n",
    "import pickle # storing numpy features\n",
    "import numpy as np\n",
    "from tqdm.notebook import tqdm # how much data is process till now\n",
    "\n",
    "from tensorflow.keras.applications.vgg16 import VGG16 , preprocess_input # extract features from image data.\n",
    "from tensorflow.keras.preprocessing.image import load_img , img_to_array\n",
    "from tensorflow.keras.preprocessing.text import Tokenizer\n",
    "from tensorflow.keras.preprocessing.sequence import pad_sequences\n",
    "from tensorflow.keras.models import Model\n",
    "from tensorflow.keras.utils import to_categorical, plot_model\n",
    "from tensorflow.keras.layers import Input , Dense , LSTM , Embedding , Dropout , add"
   ]
  },
  {
   "cell_type": "markdown",
   "id": "b6fa4d1b",
   "metadata": {
    "papermill": {
     "duration": 0.023872,
     "end_time": "2024-03-30T14:49:10.879301",
     "exception": false,
     "start_time": "2024-03-30T14:49:10.855429",
     "status": "completed"
    },
    "tags": []
   },
   "source": [
    "**os** - used to handle files using system commands.\n",
    "\n",
    "**pickle** - used to store numpy features extracted\n",
    "\n",
    "**numpy** - used to perform a wide variety of mathematical operations on arrays\n",
    "\n",
    "**tqdm** - progress bar decorator for iterators. Includes a default range iterator printing to stderr.\n",
    "\n",
    "**VGG16, preprocess_input** - imported modules for feature extraction from the image data\n",
    "\n",
    "**load_img, img_to_array** - used for loading the image and converting the image to a numpy array\n",
    "\n",
    "**Tokenizer** - used for loading the text as convert them into a token\n",
    "\n",
    "**pad_sequences** - used for equal distribution of words in sentences filling the remaining spaces with zeros\n",
    "\n",
    "**plot_model** - used to visualize the architecture of the model through different images"
   ]
  },
  {
   "cell_type": "markdown",
   "id": "0d2723a1",
   "metadata": {
    "papermill": {
     "duration": 0.022823,
     "end_time": "2024-03-30T14:49:10.925631",
     "exception": false,
     "start_time": "2024-03-30T14:49:10.902808",
     "status": "completed"
    },
    "tags": []
   },
   "source": [
    "#### Now we must set the directories to use the data"
   ]
  },
  {
   "cell_type": "code",
   "execution_count": 2,
   "id": "6413b502",
   "metadata": {
    "execution": {
     "iopub.execute_input": "2024-03-30T14:49:10.973847Z",
     "iopub.status.busy": "2024-03-30T14:49:10.973091Z",
     "iopub.status.idle": "2024-03-30T14:49:10.976989Z",
     "shell.execute_reply": "2024-03-30T14:49:10.976150Z"
    },
    "papermill": {
     "duration": 0.029806,
     "end_time": "2024-03-30T14:49:10.978914",
     "exception": false,
     "start_time": "2024-03-30T14:49:10.949108",
     "status": "completed"
    },
    "tags": []
   },
   "outputs": [],
   "source": [
    "BASE_DIR = '/kaggle/input/gans-10t-ic'\n",
    "WORKING_DIR = '/kaggle/working'"
   ]
  },
  {
   "cell_type": "markdown",
   "id": "24ea3519",
   "metadata": {
    "papermill": {
     "duration": 0.023185,
     "end_time": "2024-03-30T14:49:11.025692",
     "exception": false,
     "start_time": "2024-03-30T14:49:11.002507",
     "status": "completed"
    },
    "tags": []
   },
   "source": [
    "# Extract Image Features\n",
    "\n",
    "We have to load and restructure the model\n",
    "\n",
    "VGG-16 is a convolutional neural network that is 16 layers deep. You can load a pretrained version of the network trained on more than a million images from the ImageNet database [1]. The pretrained network can classify images into 1000 object categories, such as keyboard, mouse, pencil, and many animals."
   ]
  },
  {
   "cell_type": "code",
   "execution_count": 3,
   "id": "c03ed16f",
   "metadata": {
    "execution": {
     "iopub.execute_input": "2024-03-30T14:49:11.074041Z",
     "iopub.status.busy": "2024-03-30T14:49:11.073754Z",
     "iopub.status.idle": "2024-03-30T14:49:16.495705Z",
     "shell.execute_reply": "2024-03-30T14:49:16.494865Z"
    },
    "papermill": {
     "duration": 5.448916,
     "end_time": "2024-03-30T14:49:16.498998",
     "exception": false,
     "start_time": "2024-03-30T14:49:11.050082",
     "status": "completed"
    },
    "tags": []
   },
   "outputs": [
    {
     "name": "stdout",
     "output_type": "stream",
     "text": [
      "Downloading data from https://storage.googleapis.com/tensorflow/keras-applications/vgg16/vgg16_weights_tf_dim_ordering_tf_kernels.h5\n",
      "\u001b[1m553467096/553467096\u001b[0m \u001b[32m━━━━━━━━━━━━━━━━━━━━\u001b[0m\u001b[37m\u001b[0m \u001b[1m2s\u001b[0m 0us/step\n"
     ]
    },
    {
     "data": {
      "text/html": [
       "<pre style=\"white-space:pre;overflow-x:auto;line-height:normal;font-family:Menlo,'DejaVu Sans Mono',consolas,'Courier New',monospace\"><span style=\"font-weight: bold\">Model: \"functional_1\"</span>\n",
       "</pre>\n"
      ],
      "text/plain": [
       "\u001b[1mModel: \"functional_1\"\u001b[0m\n"
      ]
     },
     "metadata": {},
     "output_type": "display_data"
    },
    {
     "data": {
      "text/html": [
       "<pre style=\"white-space:pre;overflow-x:auto;line-height:normal;font-family:Menlo,'DejaVu Sans Mono',consolas,'Courier New',monospace\">┏━━━━━━━━━━━━━━━━━━━━━━━━━━━━━━━━━┳━━━━━━━━━━━━━━━━━━━━━━━━┳━━━━━━━━━━━━━━━┓\n",
       "┃<span style=\"font-weight: bold\"> Layer (type)                    </span>┃<span style=\"font-weight: bold\"> Output Shape           </span>┃<span style=\"font-weight: bold\">       Param # </span>┃\n",
       "┡━━━━━━━━━━━━━━━━━━━━━━━━━━━━━━━━━╇━━━━━━━━━━━━━━━━━━━━━━━━╇━━━━━━━━━━━━━━━┩\n",
       "│ input_layer (<span style=\"color: #0087ff; text-decoration-color: #0087ff\">InputLayer</span>)        │ (<span style=\"color: #00d7ff; text-decoration-color: #00d7ff\">None</span>, <span style=\"color: #00af00; text-decoration-color: #00af00\">224</span>, <span style=\"color: #00af00; text-decoration-color: #00af00\">224</span>, <span style=\"color: #00af00; text-decoration-color: #00af00\">3</span>)    │             <span style=\"color: #00af00; text-decoration-color: #00af00\">0</span> │\n",
       "├─────────────────────────────────┼────────────────────────┼───────────────┤\n",
       "│ block1_conv1 (<span style=\"color: #0087ff; text-decoration-color: #0087ff\">Conv2D</span>)           │ (<span style=\"color: #00d7ff; text-decoration-color: #00d7ff\">None</span>, <span style=\"color: #00af00; text-decoration-color: #00af00\">224</span>, <span style=\"color: #00af00; text-decoration-color: #00af00\">224</span>, <span style=\"color: #00af00; text-decoration-color: #00af00\">64</span>)   │         <span style=\"color: #00af00; text-decoration-color: #00af00\">1,792</span> │\n",
       "├─────────────────────────────────┼────────────────────────┼───────────────┤\n",
       "│ block1_conv2 (<span style=\"color: #0087ff; text-decoration-color: #0087ff\">Conv2D</span>)           │ (<span style=\"color: #00d7ff; text-decoration-color: #00d7ff\">None</span>, <span style=\"color: #00af00; text-decoration-color: #00af00\">224</span>, <span style=\"color: #00af00; text-decoration-color: #00af00\">224</span>, <span style=\"color: #00af00; text-decoration-color: #00af00\">64</span>)   │        <span style=\"color: #00af00; text-decoration-color: #00af00\">36,928</span> │\n",
       "├─────────────────────────────────┼────────────────────────┼───────────────┤\n",
       "│ block1_pool (<span style=\"color: #0087ff; text-decoration-color: #0087ff\">MaxPooling2D</span>)      │ (<span style=\"color: #00d7ff; text-decoration-color: #00d7ff\">None</span>, <span style=\"color: #00af00; text-decoration-color: #00af00\">112</span>, <span style=\"color: #00af00; text-decoration-color: #00af00\">112</span>, <span style=\"color: #00af00; text-decoration-color: #00af00\">64</span>)   │             <span style=\"color: #00af00; text-decoration-color: #00af00\">0</span> │\n",
       "├─────────────────────────────────┼────────────────────────┼───────────────┤\n",
       "│ block2_conv1 (<span style=\"color: #0087ff; text-decoration-color: #0087ff\">Conv2D</span>)           │ (<span style=\"color: #00d7ff; text-decoration-color: #00d7ff\">None</span>, <span style=\"color: #00af00; text-decoration-color: #00af00\">112</span>, <span style=\"color: #00af00; text-decoration-color: #00af00\">112</span>, <span style=\"color: #00af00; text-decoration-color: #00af00\">128</span>)  │        <span style=\"color: #00af00; text-decoration-color: #00af00\">73,856</span> │\n",
       "├─────────────────────────────────┼────────────────────────┼───────────────┤\n",
       "│ block2_conv2 (<span style=\"color: #0087ff; text-decoration-color: #0087ff\">Conv2D</span>)           │ (<span style=\"color: #00d7ff; text-decoration-color: #00d7ff\">None</span>, <span style=\"color: #00af00; text-decoration-color: #00af00\">112</span>, <span style=\"color: #00af00; text-decoration-color: #00af00\">112</span>, <span style=\"color: #00af00; text-decoration-color: #00af00\">128</span>)  │       <span style=\"color: #00af00; text-decoration-color: #00af00\">147,584</span> │\n",
       "├─────────────────────────────────┼────────────────────────┼───────────────┤\n",
       "│ block2_pool (<span style=\"color: #0087ff; text-decoration-color: #0087ff\">MaxPooling2D</span>)      │ (<span style=\"color: #00d7ff; text-decoration-color: #00d7ff\">None</span>, <span style=\"color: #00af00; text-decoration-color: #00af00\">56</span>, <span style=\"color: #00af00; text-decoration-color: #00af00\">56</span>, <span style=\"color: #00af00; text-decoration-color: #00af00\">128</span>)    │             <span style=\"color: #00af00; text-decoration-color: #00af00\">0</span> │\n",
       "├─────────────────────────────────┼────────────────────────┼───────────────┤\n",
       "│ block3_conv1 (<span style=\"color: #0087ff; text-decoration-color: #0087ff\">Conv2D</span>)           │ (<span style=\"color: #00d7ff; text-decoration-color: #00d7ff\">None</span>, <span style=\"color: #00af00; text-decoration-color: #00af00\">56</span>, <span style=\"color: #00af00; text-decoration-color: #00af00\">56</span>, <span style=\"color: #00af00; text-decoration-color: #00af00\">256</span>)    │       <span style=\"color: #00af00; text-decoration-color: #00af00\">295,168</span> │\n",
       "├─────────────────────────────────┼────────────────────────┼───────────────┤\n",
       "│ block3_conv2 (<span style=\"color: #0087ff; text-decoration-color: #0087ff\">Conv2D</span>)           │ (<span style=\"color: #00d7ff; text-decoration-color: #00d7ff\">None</span>, <span style=\"color: #00af00; text-decoration-color: #00af00\">56</span>, <span style=\"color: #00af00; text-decoration-color: #00af00\">56</span>, <span style=\"color: #00af00; text-decoration-color: #00af00\">256</span>)    │       <span style=\"color: #00af00; text-decoration-color: #00af00\">590,080</span> │\n",
       "├─────────────────────────────────┼────────────────────────┼───────────────┤\n",
       "│ block3_conv3 (<span style=\"color: #0087ff; text-decoration-color: #0087ff\">Conv2D</span>)           │ (<span style=\"color: #00d7ff; text-decoration-color: #00d7ff\">None</span>, <span style=\"color: #00af00; text-decoration-color: #00af00\">56</span>, <span style=\"color: #00af00; text-decoration-color: #00af00\">56</span>, <span style=\"color: #00af00; text-decoration-color: #00af00\">256</span>)    │       <span style=\"color: #00af00; text-decoration-color: #00af00\">590,080</span> │\n",
       "├─────────────────────────────────┼────────────────────────┼───────────────┤\n",
       "│ block3_pool (<span style=\"color: #0087ff; text-decoration-color: #0087ff\">MaxPooling2D</span>)      │ (<span style=\"color: #00d7ff; text-decoration-color: #00d7ff\">None</span>, <span style=\"color: #00af00; text-decoration-color: #00af00\">28</span>, <span style=\"color: #00af00; text-decoration-color: #00af00\">28</span>, <span style=\"color: #00af00; text-decoration-color: #00af00\">256</span>)    │             <span style=\"color: #00af00; text-decoration-color: #00af00\">0</span> │\n",
       "├─────────────────────────────────┼────────────────────────┼───────────────┤\n",
       "│ block4_conv1 (<span style=\"color: #0087ff; text-decoration-color: #0087ff\">Conv2D</span>)           │ (<span style=\"color: #00d7ff; text-decoration-color: #00d7ff\">None</span>, <span style=\"color: #00af00; text-decoration-color: #00af00\">28</span>, <span style=\"color: #00af00; text-decoration-color: #00af00\">28</span>, <span style=\"color: #00af00; text-decoration-color: #00af00\">512</span>)    │     <span style=\"color: #00af00; text-decoration-color: #00af00\">1,180,160</span> │\n",
       "├─────────────────────────────────┼────────────────────────┼───────────────┤\n",
       "│ block4_conv2 (<span style=\"color: #0087ff; text-decoration-color: #0087ff\">Conv2D</span>)           │ (<span style=\"color: #00d7ff; text-decoration-color: #00d7ff\">None</span>, <span style=\"color: #00af00; text-decoration-color: #00af00\">28</span>, <span style=\"color: #00af00; text-decoration-color: #00af00\">28</span>, <span style=\"color: #00af00; text-decoration-color: #00af00\">512</span>)    │     <span style=\"color: #00af00; text-decoration-color: #00af00\">2,359,808</span> │\n",
       "├─────────────────────────────────┼────────────────────────┼───────────────┤\n",
       "│ block4_conv3 (<span style=\"color: #0087ff; text-decoration-color: #0087ff\">Conv2D</span>)           │ (<span style=\"color: #00d7ff; text-decoration-color: #00d7ff\">None</span>, <span style=\"color: #00af00; text-decoration-color: #00af00\">28</span>, <span style=\"color: #00af00; text-decoration-color: #00af00\">28</span>, <span style=\"color: #00af00; text-decoration-color: #00af00\">512</span>)    │     <span style=\"color: #00af00; text-decoration-color: #00af00\">2,359,808</span> │\n",
       "├─────────────────────────────────┼────────────────────────┼───────────────┤\n",
       "│ block4_pool (<span style=\"color: #0087ff; text-decoration-color: #0087ff\">MaxPooling2D</span>)      │ (<span style=\"color: #00d7ff; text-decoration-color: #00d7ff\">None</span>, <span style=\"color: #00af00; text-decoration-color: #00af00\">14</span>, <span style=\"color: #00af00; text-decoration-color: #00af00\">14</span>, <span style=\"color: #00af00; text-decoration-color: #00af00\">512</span>)    │             <span style=\"color: #00af00; text-decoration-color: #00af00\">0</span> │\n",
       "├─────────────────────────────────┼────────────────────────┼───────────────┤\n",
       "│ block5_conv1 (<span style=\"color: #0087ff; text-decoration-color: #0087ff\">Conv2D</span>)           │ (<span style=\"color: #00d7ff; text-decoration-color: #00d7ff\">None</span>, <span style=\"color: #00af00; text-decoration-color: #00af00\">14</span>, <span style=\"color: #00af00; text-decoration-color: #00af00\">14</span>, <span style=\"color: #00af00; text-decoration-color: #00af00\">512</span>)    │     <span style=\"color: #00af00; text-decoration-color: #00af00\">2,359,808</span> │\n",
       "├─────────────────────────────────┼────────────────────────┼───────────────┤\n",
       "│ block5_conv2 (<span style=\"color: #0087ff; text-decoration-color: #0087ff\">Conv2D</span>)           │ (<span style=\"color: #00d7ff; text-decoration-color: #00d7ff\">None</span>, <span style=\"color: #00af00; text-decoration-color: #00af00\">14</span>, <span style=\"color: #00af00; text-decoration-color: #00af00\">14</span>, <span style=\"color: #00af00; text-decoration-color: #00af00\">512</span>)    │     <span style=\"color: #00af00; text-decoration-color: #00af00\">2,359,808</span> │\n",
       "├─────────────────────────────────┼────────────────────────┼───────────────┤\n",
       "│ block5_conv3 (<span style=\"color: #0087ff; text-decoration-color: #0087ff\">Conv2D</span>)           │ (<span style=\"color: #00d7ff; text-decoration-color: #00d7ff\">None</span>, <span style=\"color: #00af00; text-decoration-color: #00af00\">14</span>, <span style=\"color: #00af00; text-decoration-color: #00af00\">14</span>, <span style=\"color: #00af00; text-decoration-color: #00af00\">512</span>)    │     <span style=\"color: #00af00; text-decoration-color: #00af00\">2,359,808</span> │\n",
       "├─────────────────────────────────┼────────────────────────┼───────────────┤\n",
       "│ block5_pool (<span style=\"color: #0087ff; text-decoration-color: #0087ff\">MaxPooling2D</span>)      │ (<span style=\"color: #00d7ff; text-decoration-color: #00d7ff\">None</span>, <span style=\"color: #00af00; text-decoration-color: #00af00\">7</span>, <span style=\"color: #00af00; text-decoration-color: #00af00\">7</span>, <span style=\"color: #00af00; text-decoration-color: #00af00\">512</span>)      │             <span style=\"color: #00af00; text-decoration-color: #00af00\">0</span> │\n",
       "├─────────────────────────────────┼────────────────────────┼───────────────┤\n",
       "│ flatten (<span style=\"color: #0087ff; text-decoration-color: #0087ff\">Flatten</span>)               │ (<span style=\"color: #00d7ff; text-decoration-color: #00d7ff\">None</span>, <span style=\"color: #00af00; text-decoration-color: #00af00\">25088</span>)          │             <span style=\"color: #00af00; text-decoration-color: #00af00\">0</span> │\n",
       "├─────────────────────────────────┼────────────────────────┼───────────────┤\n",
       "│ fc1 (<span style=\"color: #0087ff; text-decoration-color: #0087ff\">Dense</span>)                     │ (<span style=\"color: #00d7ff; text-decoration-color: #00d7ff\">None</span>, <span style=\"color: #00af00; text-decoration-color: #00af00\">4096</span>)           │   <span style=\"color: #00af00; text-decoration-color: #00af00\">102,764,544</span> │\n",
       "├─────────────────────────────────┼────────────────────────┼───────────────┤\n",
       "│ fc2 (<span style=\"color: #0087ff; text-decoration-color: #0087ff\">Dense</span>)                     │ (<span style=\"color: #00d7ff; text-decoration-color: #00d7ff\">None</span>, <span style=\"color: #00af00; text-decoration-color: #00af00\">4096</span>)           │    <span style=\"color: #00af00; text-decoration-color: #00af00\">16,781,312</span> │\n",
       "└─────────────────────────────────┴────────────────────────┴───────────────┘\n",
       "</pre>\n"
      ],
      "text/plain": [
       "┏━━━━━━━━━━━━━━━━━━━━━━━━━━━━━━━━━┳━━━━━━━━━━━━━━━━━━━━━━━━┳━━━━━━━━━━━━━━━┓\n",
       "┃\u001b[1m \u001b[0m\u001b[1mLayer (type)                   \u001b[0m\u001b[1m \u001b[0m┃\u001b[1m \u001b[0m\u001b[1mOutput Shape          \u001b[0m\u001b[1m \u001b[0m┃\u001b[1m \u001b[0m\u001b[1m      Param #\u001b[0m\u001b[1m \u001b[0m┃\n",
       "┡━━━━━━━━━━━━━━━━━━━━━━━━━━━━━━━━━╇━━━━━━━━━━━━━━━━━━━━━━━━╇━━━━━━━━━━━━━━━┩\n",
       "│ input_layer (\u001b[38;5;33mInputLayer\u001b[0m)        │ (\u001b[38;5;45mNone\u001b[0m, \u001b[38;5;34m224\u001b[0m, \u001b[38;5;34m224\u001b[0m, \u001b[38;5;34m3\u001b[0m)    │             \u001b[38;5;34m0\u001b[0m │\n",
       "├─────────────────────────────────┼────────────────────────┼───────────────┤\n",
       "│ block1_conv1 (\u001b[38;5;33mConv2D\u001b[0m)           │ (\u001b[38;5;45mNone\u001b[0m, \u001b[38;5;34m224\u001b[0m, \u001b[38;5;34m224\u001b[0m, \u001b[38;5;34m64\u001b[0m)   │         \u001b[38;5;34m1,792\u001b[0m │\n",
       "├─────────────────────────────────┼────────────────────────┼───────────────┤\n",
       "│ block1_conv2 (\u001b[38;5;33mConv2D\u001b[0m)           │ (\u001b[38;5;45mNone\u001b[0m, \u001b[38;5;34m224\u001b[0m, \u001b[38;5;34m224\u001b[0m, \u001b[38;5;34m64\u001b[0m)   │        \u001b[38;5;34m36,928\u001b[0m │\n",
       "├─────────────────────────────────┼────────────────────────┼───────────────┤\n",
       "│ block1_pool (\u001b[38;5;33mMaxPooling2D\u001b[0m)      │ (\u001b[38;5;45mNone\u001b[0m, \u001b[38;5;34m112\u001b[0m, \u001b[38;5;34m112\u001b[0m, \u001b[38;5;34m64\u001b[0m)   │             \u001b[38;5;34m0\u001b[0m │\n",
       "├─────────────────────────────────┼────────────────────────┼───────────────┤\n",
       "│ block2_conv1 (\u001b[38;5;33mConv2D\u001b[0m)           │ (\u001b[38;5;45mNone\u001b[0m, \u001b[38;5;34m112\u001b[0m, \u001b[38;5;34m112\u001b[0m, \u001b[38;5;34m128\u001b[0m)  │        \u001b[38;5;34m73,856\u001b[0m │\n",
       "├─────────────────────────────────┼────────────────────────┼───────────────┤\n",
       "│ block2_conv2 (\u001b[38;5;33mConv2D\u001b[0m)           │ (\u001b[38;5;45mNone\u001b[0m, \u001b[38;5;34m112\u001b[0m, \u001b[38;5;34m112\u001b[0m, \u001b[38;5;34m128\u001b[0m)  │       \u001b[38;5;34m147,584\u001b[0m │\n",
       "├─────────────────────────────────┼────────────────────────┼───────────────┤\n",
       "│ block2_pool (\u001b[38;5;33mMaxPooling2D\u001b[0m)      │ (\u001b[38;5;45mNone\u001b[0m, \u001b[38;5;34m56\u001b[0m, \u001b[38;5;34m56\u001b[0m, \u001b[38;5;34m128\u001b[0m)    │             \u001b[38;5;34m0\u001b[0m │\n",
       "├─────────────────────────────────┼────────────────────────┼───────────────┤\n",
       "│ block3_conv1 (\u001b[38;5;33mConv2D\u001b[0m)           │ (\u001b[38;5;45mNone\u001b[0m, \u001b[38;5;34m56\u001b[0m, \u001b[38;5;34m56\u001b[0m, \u001b[38;5;34m256\u001b[0m)    │       \u001b[38;5;34m295,168\u001b[0m │\n",
       "├─────────────────────────────────┼────────────────────────┼───────────────┤\n",
       "│ block3_conv2 (\u001b[38;5;33mConv2D\u001b[0m)           │ (\u001b[38;5;45mNone\u001b[0m, \u001b[38;5;34m56\u001b[0m, \u001b[38;5;34m56\u001b[0m, \u001b[38;5;34m256\u001b[0m)    │       \u001b[38;5;34m590,080\u001b[0m │\n",
       "├─────────────────────────────────┼────────────────────────┼───────────────┤\n",
       "│ block3_conv3 (\u001b[38;5;33mConv2D\u001b[0m)           │ (\u001b[38;5;45mNone\u001b[0m, \u001b[38;5;34m56\u001b[0m, \u001b[38;5;34m56\u001b[0m, \u001b[38;5;34m256\u001b[0m)    │       \u001b[38;5;34m590,080\u001b[0m │\n",
       "├─────────────────────────────────┼────────────────────────┼───────────────┤\n",
       "│ block3_pool (\u001b[38;5;33mMaxPooling2D\u001b[0m)      │ (\u001b[38;5;45mNone\u001b[0m, \u001b[38;5;34m28\u001b[0m, \u001b[38;5;34m28\u001b[0m, \u001b[38;5;34m256\u001b[0m)    │             \u001b[38;5;34m0\u001b[0m │\n",
       "├─────────────────────────────────┼────────────────────────┼───────────────┤\n",
       "│ block4_conv1 (\u001b[38;5;33mConv2D\u001b[0m)           │ (\u001b[38;5;45mNone\u001b[0m, \u001b[38;5;34m28\u001b[0m, \u001b[38;5;34m28\u001b[0m, \u001b[38;5;34m512\u001b[0m)    │     \u001b[38;5;34m1,180,160\u001b[0m │\n",
       "├─────────────────────────────────┼────────────────────────┼───────────────┤\n",
       "│ block4_conv2 (\u001b[38;5;33mConv2D\u001b[0m)           │ (\u001b[38;5;45mNone\u001b[0m, \u001b[38;5;34m28\u001b[0m, \u001b[38;5;34m28\u001b[0m, \u001b[38;5;34m512\u001b[0m)    │     \u001b[38;5;34m2,359,808\u001b[0m │\n",
       "├─────────────────────────────────┼────────────────────────┼───────────────┤\n",
       "│ block4_conv3 (\u001b[38;5;33mConv2D\u001b[0m)           │ (\u001b[38;5;45mNone\u001b[0m, \u001b[38;5;34m28\u001b[0m, \u001b[38;5;34m28\u001b[0m, \u001b[38;5;34m512\u001b[0m)    │     \u001b[38;5;34m2,359,808\u001b[0m │\n",
       "├─────────────────────────────────┼────────────────────────┼───────────────┤\n",
       "│ block4_pool (\u001b[38;5;33mMaxPooling2D\u001b[0m)      │ (\u001b[38;5;45mNone\u001b[0m, \u001b[38;5;34m14\u001b[0m, \u001b[38;5;34m14\u001b[0m, \u001b[38;5;34m512\u001b[0m)    │             \u001b[38;5;34m0\u001b[0m │\n",
       "├─────────────────────────────────┼────────────────────────┼───────────────┤\n",
       "│ block5_conv1 (\u001b[38;5;33mConv2D\u001b[0m)           │ (\u001b[38;5;45mNone\u001b[0m, \u001b[38;5;34m14\u001b[0m, \u001b[38;5;34m14\u001b[0m, \u001b[38;5;34m512\u001b[0m)    │     \u001b[38;5;34m2,359,808\u001b[0m │\n",
       "├─────────────────────────────────┼────────────────────────┼───────────────┤\n",
       "│ block5_conv2 (\u001b[38;5;33mConv2D\u001b[0m)           │ (\u001b[38;5;45mNone\u001b[0m, \u001b[38;5;34m14\u001b[0m, \u001b[38;5;34m14\u001b[0m, \u001b[38;5;34m512\u001b[0m)    │     \u001b[38;5;34m2,359,808\u001b[0m │\n",
       "├─────────────────────────────────┼────────────────────────┼───────────────┤\n",
       "│ block5_conv3 (\u001b[38;5;33mConv2D\u001b[0m)           │ (\u001b[38;5;45mNone\u001b[0m, \u001b[38;5;34m14\u001b[0m, \u001b[38;5;34m14\u001b[0m, \u001b[38;5;34m512\u001b[0m)    │     \u001b[38;5;34m2,359,808\u001b[0m │\n",
       "├─────────────────────────────────┼────────────────────────┼───────────────┤\n",
       "│ block5_pool (\u001b[38;5;33mMaxPooling2D\u001b[0m)      │ (\u001b[38;5;45mNone\u001b[0m, \u001b[38;5;34m7\u001b[0m, \u001b[38;5;34m7\u001b[0m, \u001b[38;5;34m512\u001b[0m)      │             \u001b[38;5;34m0\u001b[0m │\n",
       "├─────────────────────────────────┼────────────────────────┼───────────────┤\n",
       "│ flatten (\u001b[38;5;33mFlatten\u001b[0m)               │ (\u001b[38;5;45mNone\u001b[0m, \u001b[38;5;34m25088\u001b[0m)          │             \u001b[38;5;34m0\u001b[0m │\n",
       "├─────────────────────────────────┼────────────────────────┼───────────────┤\n",
       "│ fc1 (\u001b[38;5;33mDense\u001b[0m)                     │ (\u001b[38;5;45mNone\u001b[0m, \u001b[38;5;34m4096\u001b[0m)           │   \u001b[38;5;34m102,764,544\u001b[0m │\n",
       "├─────────────────────────────────┼────────────────────────┼───────────────┤\n",
       "│ fc2 (\u001b[38;5;33mDense\u001b[0m)                     │ (\u001b[38;5;45mNone\u001b[0m, \u001b[38;5;34m4096\u001b[0m)           │    \u001b[38;5;34m16,781,312\u001b[0m │\n",
       "└─────────────────────────────────┴────────────────────────┴───────────────┘\n"
      ]
     },
     "metadata": {},
     "output_type": "display_data"
    },
    {
     "data": {
      "text/html": [
       "<pre style=\"white-space:pre;overflow-x:auto;line-height:normal;font-family:Menlo,'DejaVu Sans Mono',consolas,'Courier New',monospace\"><span style=\"font-weight: bold\"> Total params: </span><span style=\"color: #00af00; text-decoration-color: #00af00\">134,260,544</span> (512.16 MB)\n",
       "</pre>\n"
      ],
      "text/plain": [
       "\u001b[1m Total params: \u001b[0m\u001b[38;5;34m134,260,544\u001b[0m (512.16 MB)\n"
      ]
     },
     "metadata": {},
     "output_type": "display_data"
    },
    {
     "data": {
      "text/html": [
       "<pre style=\"white-space:pre;overflow-x:auto;line-height:normal;font-family:Menlo,'DejaVu Sans Mono',consolas,'Courier New',monospace\"><span style=\"font-weight: bold\"> Trainable params: </span><span style=\"color: #00af00; text-decoration-color: #00af00\">134,260,544</span> (512.16 MB)\n",
       "</pre>\n"
      ],
      "text/plain": [
       "\u001b[1m Trainable params: \u001b[0m\u001b[38;5;34m134,260,544\u001b[0m (512.16 MB)\n"
      ]
     },
     "metadata": {},
     "output_type": "display_data"
    },
    {
     "data": {
      "text/html": [
       "<pre style=\"white-space:pre;overflow-x:auto;line-height:normal;font-family:Menlo,'DejaVu Sans Mono',consolas,'Courier New',monospace\"><span style=\"font-weight: bold\"> Non-trainable params: </span><span style=\"color: #00af00; text-decoration-color: #00af00\">0</span> (0.00 B)\n",
       "</pre>\n"
      ],
      "text/plain": [
       "\u001b[1m Non-trainable params: \u001b[0m\u001b[38;5;34m0\u001b[0m (0.00 B)\n"
      ]
     },
     "metadata": {},
     "output_type": "display_data"
    },
    {
     "name": "stdout",
     "output_type": "stream",
     "text": [
      "None\n"
     ]
    }
   ],
   "source": [
    "# Load vgg16 Model\n",
    "model = VGG16()\n",
    "\n",
    "# restructure model\n",
    "model = Model(inputs = model.inputs , outputs = model.layers[-2].output)\n",
    "\n",
    "# Summerize\n",
    "print(model.summary())"
   ]
  },
  {
   "cell_type": "markdown",
   "id": "c65848ad",
   "metadata": {
    "papermill": {
     "duration": 0.027395,
     "end_time": "2024-03-30T14:49:16.555554",
     "exception": false,
     "start_time": "2024-03-30T14:49:16.528159",
     "status": "completed"
    },
    "tags": []
   },
   "source": [
    "+ Fully connected layer of the VGG16 model is not needed, just the previous layers to extract feature results.\n",
    "\n",
    "+ By preference you may include more layers, but for quicker results avoid adding the unnecessary layers."
   ]
  },
  {
   "cell_type": "markdown",
   "id": "b3e3331a",
   "metadata": {
    "papermill": {
     "duration": 0.027713,
     "end_time": "2024-03-30T14:49:16.610711",
     "exception": false,
     "start_time": "2024-03-30T14:49:16.582998",
     "status": "completed"
    },
    "tags": []
   },
   "source": [
    "# extract the image features\n",
    "Now we extract the image features and load the data for preprocess"
   ]
  },
  {
   "cell_type": "code",
   "execution_count": 4,
   "id": "8efd47e0",
   "metadata": {
    "execution": {
     "iopub.execute_input": "2024-03-30T14:49:16.667020Z",
     "iopub.status.busy": "2024-03-30T14:49:16.666711Z",
     "iopub.status.idle": "2024-03-30T15:02:52.823470Z",
     "shell.execute_reply": "2024-03-30T15:02:52.822549Z"
    },
    "papermill": {
     "duration": 816.18713,
     "end_time": "2024-03-30T15:02:52.825515",
     "exception": false,
     "start_time": "2024-03-30T14:49:16.638385",
     "status": "completed"
    },
    "tags": []
   },
   "outputs": [
    {
     "data": {
      "application/vnd.jupyter.widget-view+json": {
       "model_id": "7dc47c771ec7432faee3d4dee0142caa",
       "version_major": 2,
       "version_minor": 0
      },
      "text/plain": [
       "  0%|          | 0/10000 [00:00<?, ?it/s]"
      ]
     },
     "metadata": {},
     "output_type": "display_data"
    },
    {
     "name": "stderr",
     "output_type": "stream",
     "text": [
      "WARNING: All log messages before absl::InitializeLog() is called are written to STDERR\n",
      "I0000 00:00:1711810162.308610      74 device_compiler.h:186] Compiled cluster using XLA!  This line is logged at most once for the lifetime of the process.\n"
     ]
    }
   ],
   "source": [
    "# extract features from image\n",
    "features = {}\n",
    "directory = os.path.join(BASE_DIR, 'image-train')\n",
    "\n",
    "for img_name in tqdm(os.listdir(directory)):\n",
    "    # load the image from file\n",
    "    img_path = directory + '/' + img_name\n",
    "    image = load_img(img_path, target_size=(224, 224))\n",
    "    # convert image pixels to numpy array\n",
    "    image = img_to_array(image)\n",
    "    # reshape data for model\n",
    "    image = image.reshape((1, image.shape[0], image.shape[1], image.shape[2]))\n",
    "    # preprocess image for vgg\n",
    "    image = preprocess_input(image)\n",
    "    # extract features\n",
    "    feature = model.predict(image, verbose=0)\n",
    "    # get image ID\n",
    "    image_id = img_name.split('.png')[0]\n",
    "    # store feature\n",
    "    features[image_id] = feature"
   ]
  },
  {
   "cell_type": "markdown",
   "id": "24ae9949",
   "metadata": {
    "papermill": {
     "duration": 0.029275,
     "end_time": "2024-03-30T15:02:52.883356",
     "exception": false,
     "start_time": "2024-03-30T15:02:52.854081",
     "status": "completed"
    },
    "tags": []
   },
   "source": [
    "Dictionary 'features' is created and will be loaded with the extracted features of image data\n",
    "\n",
    "**load_img(img_path, target_size=(224, 224))** - custom dimension to resize the image when loaded to the array\n",
    "\n",
    "**image.reshape((1, image.shape[0], image.shape[1], image.shape[2]))** - reshaping the image data to preprocess in a RGB type image.\n",
    "\n",
    "**model.predict(image, verbose=0)** - extraction of features from the image\n",
    "\n",
    "**img_name.split('.')[0]** - split of the image name from the extension to load only the image name."
   ]
  },
  {
   "cell_type": "code",
   "execution_count": 5,
   "id": "8908a8e2",
   "metadata": {
    "execution": {
     "iopub.execute_input": "2024-03-30T15:02:52.942547Z",
     "iopub.status.busy": "2024-03-30T15:02:52.942206Z",
     "iopub.status.idle": "2024-03-30T15:02:53.937661Z",
     "shell.execute_reply": "2024-03-30T15:02:53.936514Z"
    },
    "papermill": {
     "duration": 1.027504,
     "end_time": "2024-03-30T15:02:53.939986",
     "exception": false,
     "start_time": "2024-03-30T15:02:52.912482",
     "status": "completed"
    },
    "tags": []
   },
   "outputs": [
    {
     "name": "stdout",
     "output_type": "stream",
     "text": [
      "rm: cannot remove '/kaggle/working/features.pkl': No such file or directory\r\n"
     ]
    }
   ],
   "source": [
    "!rm /kaggle/working/features.pkl"
   ]
  },
  {
   "cell_type": "code",
   "execution_count": 6,
   "id": "89ac7ef9",
   "metadata": {
    "execution": {
     "iopub.execute_input": "2024-03-30T15:02:53.999123Z",
     "iopub.status.busy": "2024-03-30T15:02:53.998301Z",
     "iopub.status.idle": "2024-03-30T15:02:54.336572Z",
     "shell.execute_reply": "2024-03-30T15:02:54.335724Z"
    },
    "papermill": {
     "duration": 0.37086,
     "end_time": "2024-03-30T15:02:54.338937",
     "exception": false,
     "start_time": "2024-03-30T15:02:53.968077",
     "status": "completed"
    },
    "tags": []
   },
   "outputs": [],
   "source": [
    "# store features in pickle\n",
    "pickle.dump(features, open(os.path.join(WORKING_DIR, 'features.pkl'), 'wb'))"
   ]
  },
  {
   "cell_type": "markdown",
   "id": "34a6f29b",
   "metadata": {
    "papermill": {
     "duration": 0.027371,
     "end_time": "2024-03-30T15:02:54.394895",
     "exception": false,
     "start_time": "2024-03-30T15:02:54.367524",
     "status": "completed"
    },
    "tags": []
   },
   "source": [
    "Extracted features are not stored in the disk, so re-extraction of features can extend running time\n",
    "\n",
    "Dumps and store your dictionary in a pickle for reloading it to save time"
   ]
  },
  {
   "cell_type": "code",
   "execution_count": 7,
   "id": "4c893aaa",
   "metadata": {
    "execution": {
     "iopub.execute_input": "2024-03-30T15:02:54.453785Z",
     "iopub.status.busy": "2024-03-30T15:02:54.453450Z",
     "iopub.status.idle": "2024-03-30T15:02:54.661621Z",
     "shell.execute_reply": "2024-03-30T15:02:54.660799Z"
    },
    "papermill": {
     "duration": 0.240762,
     "end_time": "2024-03-30T15:02:54.664237",
     "exception": false,
     "start_time": "2024-03-30T15:02:54.423475",
     "status": "completed"
    },
    "tags": []
   },
   "outputs": [],
   "source": [
    "# load features from pickle\n",
    "with open(os.path.join(WORKING_DIR, 'features.pkl'), 'rb') as f:\n",
    "    features = pickle.load(f)"
   ]
  },
  {
   "cell_type": "code",
   "execution_count": 8,
   "id": "36b642fe",
   "metadata": {
    "execution": {
     "iopub.execute_input": "2024-03-30T15:02:54.721656Z",
     "iopub.status.busy": "2024-03-30T15:02:54.721312Z",
     "iopub.status.idle": "2024-03-30T15:02:54.725121Z",
     "shell.execute_reply": "2024-03-30T15:02:54.724309Z"
    },
    "papermill": {
     "duration": 0.034134,
     "end_time": "2024-03-30T15:02:54.726960",
     "exception": false,
     "start_time": "2024-03-30T15:02:54.692826",
     "status": "completed"
    },
    "tags": []
   },
   "outputs": [],
   "source": [
    "# features"
   ]
  },
  {
   "cell_type": "markdown",
   "id": "02c89b0c",
   "metadata": {
    "papermill": {
     "duration": 0.028303,
     "end_time": "2024-03-30T15:02:54.782952",
     "exception": false,
     "start_time": "2024-03-30T15:02:54.754649",
     "status": "completed"
    },
    "tags": []
   },
   "source": [
    "Load all your stored feature data to your project for quicker runtime "
   ]
  },
  {
   "cell_type": "markdown",
   "id": "55eee9fc",
   "metadata": {
    "papermill": {
     "duration": 0.02816,
     "end_time": "2024-03-30T15:02:54.839835",
     "exception": false,
     "start_time": "2024-03-30T15:02:54.811675",
     "status": "completed"
    },
    "tags": []
   },
   "source": [
    "## Load the Captions Data\n",
    "\n",
    "Let us store the captions data from the text file"
   ]
  },
  {
   "cell_type": "code",
   "execution_count": 9,
   "id": "265892fa",
   "metadata": {
    "execution": {
     "iopub.execute_input": "2024-03-30T15:02:54.899385Z",
     "iopub.status.busy": "2024-03-30T15:02:54.898779Z",
     "iopub.status.idle": "2024-03-30T15:02:54.953139Z",
     "shell.execute_reply": "2024-03-30T15:02:54.952317Z"
    },
    "papermill": {
     "duration": 0.087427,
     "end_time": "2024-03-30T15:02:54.955279",
     "exception": false,
     "start_time": "2024-03-30T15:02:54.867852",
     "status": "completed"
    },
    "tags": []
   },
   "outputs": [],
   "source": [
    "with open(os.path.join(BASE_DIR, 'needed_format.txt'), 'r') as f:\n",
    "    next(f)\n",
    "    captions_doc = f.read()"
   ]
  },
  {
   "cell_type": "code",
   "execution_count": null,
   "id": "a69469ab",
   "metadata": {
    "papermill": {
     "duration": 0.029066,
     "end_time": "2024-03-30T15:02:55.014115",
     "exception": false,
     "start_time": "2024-03-30T15:02:54.985049",
     "status": "completed"
    },
    "tags": []
   },
   "outputs": [],
   "source": []
  },
  {
   "cell_type": "markdown",
   "id": "0c373e79",
   "metadata": {
    "papermill": {
     "duration": 0.028467,
     "end_time": "2024-03-30T15:02:55.072280",
     "exception": false,
     "start_time": "2024-03-30T15:02:55.043813",
     "status": "completed"
    },
    "tags": []
   },
   "source": [
    "### Now we split and append the captions data with the image"
   ]
  },
  {
   "cell_type": "code",
   "execution_count": 10,
   "id": "be5d8ee9",
   "metadata": {
    "execution": {
     "iopub.execute_input": "2024-03-30T15:02:55.133700Z",
     "iopub.status.busy": "2024-03-30T15:02:55.132749Z",
     "iopub.status.idle": "2024-03-30T15:02:55.199357Z",
     "shell.execute_reply": "2024-03-30T15:02:55.198492Z"
    },
    "papermill": {
     "duration": 0.101087,
     "end_time": "2024-03-30T15:02:55.202707",
     "exception": false,
     "start_time": "2024-03-30T15:02:55.101620",
     "status": "completed"
    },
    "tags": []
   },
   "outputs": [
    {
     "data": {
      "application/vnd.jupyter.widget-view+json": {
       "model_id": "163a67b12d7d4ce69cbf390a90cb185e",
       "version_major": 2,
       "version_minor": 0
      },
      "text/plain": [
       "  0%|          | 0/10001 [00:00<?, ?it/s]"
      ]
     },
     "metadata": {},
     "output_type": "display_data"
    }
   ],
   "source": [
    "# create mapping of image to captions\n",
    "mapping = {}\n",
    "# process lines\n",
    "for line in tqdm(captions_doc.split('\\n')):\n",
    "    # split the line by comma(,)\n",
    "    tokens = line.split(',')\n",
    "    if len(tokens) < 2:\n",
    "        continue\n",
    "    image_path, caption = tokens[0], tokens[1:]\n",
    "    # extract image_id from image_path\n",
    "    image_id = image_path.split('\\\\')[-1].split('.png')[0]\n",
    "    # convert caption list to string\n",
    "    caption = \" \".join(caption)\n",
    "    # create list if needed\n",
    "    if image_id not in mapping:\n",
    "        mapping[image_id] = []\n",
    "    # store the caption\n",
    "    mapping[image_id].append(caption)\n"
   ]
  },
  {
   "cell_type": "markdown",
   "id": "aba4a7ee",
   "metadata": {
    "papermill": {
     "duration": 0.030413,
     "end_time": "2024-03-30T15:02:55.263930",
     "exception": false,
     "start_time": "2024-03-30T15:02:55.233517",
     "status": "completed"
    },
    "tags": []
   },
   "source": [
    "+ Dictionary 'mapping' is created with key as image_id and values as the corresponding caption text\n",
    "\n",
    "+ Same image may have multiple captions, **if image_id not in mapping: mapping[image_id] = []** creates a list for appending captions to the corresponding image"
   ]
  },
  {
   "cell_type": "markdown",
   "id": "aa2adad7",
   "metadata": {
    "papermill": {
     "duration": 0.029554,
     "end_time": "2024-03-30T15:02:55.323576",
     "exception": false,
     "start_time": "2024-03-30T15:02:55.294022",
     "status": "completed"
    },
    "tags": []
   },
   "source": [
    "#### Now let us see the no. of images loaded"
   ]
  },
  {
   "cell_type": "code",
   "execution_count": 11,
   "id": "9e6cd3f6",
   "metadata": {
    "execution": {
     "iopub.execute_input": "2024-03-30T15:02:55.383613Z",
     "iopub.status.busy": "2024-03-30T15:02:55.383258Z",
     "iopub.status.idle": "2024-03-30T15:02:55.389116Z",
     "shell.execute_reply": "2024-03-30T15:02:55.388267Z"
    },
    "papermill": {
     "duration": 0.037224,
     "end_time": "2024-03-30T15:02:55.391023",
     "exception": false,
     "start_time": "2024-03-30T15:02:55.353799",
     "status": "completed"
    },
    "tags": []
   },
   "outputs": [
    {
     "data": {
      "text/plain": [
       "10000"
      ]
     },
     "execution_count": 11,
     "metadata": {},
     "output_type": "execute_result"
    }
   ],
   "source": [
    "len(mapping)"
   ]
  },
  {
   "cell_type": "markdown",
   "id": "536012b5",
   "metadata": {
    "papermill": {
     "duration": 0.02853,
     "end_time": "2024-03-30T15:02:55.448230",
     "exception": false,
     "start_time": "2024-03-30T15:02:55.419700",
     "status": "completed"
    },
    "tags": []
   },
   "source": [
    "# Preprocess Text Data"
   ]
  },
  {
   "cell_type": "code",
   "execution_count": 12,
   "id": "ce2adf56",
   "metadata": {
    "execution": {
     "iopub.execute_input": "2024-03-30T15:02:55.506857Z",
     "iopub.status.busy": "2024-03-30T15:02:55.506569Z",
     "iopub.status.idle": "2024-03-30T15:02:55.513061Z",
     "shell.execute_reply": "2024-03-30T15:02:55.512198Z"
    },
    "papermill": {
     "duration": 0.037577,
     "end_time": "2024-03-30T15:02:55.514874",
     "exception": false,
     "start_time": "2024-03-30T15:02:55.477297",
     "status": "completed"
    },
    "tags": []
   },
   "outputs": [],
   "source": [
    "def clean(mapping):\n",
    "    for key, captions in mapping.items():\n",
    "        for i in range(len(captions)):\n",
    "            # take one caption at a time\n",
    "            caption = captions[i]\n",
    "            # preprocessing steps\n",
    "            # convert to lowercase\n",
    "            caption = caption.lower()\n",
    "            # delete digits, special chars, etc., \n",
    "            caption = caption.replace('[^A-Za-z]', '')\n",
    "            # delete additional spaces\n",
    "            caption = caption.replace('\\s+', ' ')\n",
    "            # add start and end tags to the caption\n",
    "            caption = 'startseq ' + \" \".join([word for word in caption.split() if len(word)>1]) + ' endseq'\n",
    "            captions[i] = caption"
   ]
  },
  {
   "cell_type": "markdown",
   "id": "9e53f3cc",
   "metadata": {
    "papermill": {
     "duration": 0.028062,
     "end_time": "2024-03-30T15:02:55.571775",
     "exception": false,
     "start_time": "2024-03-30T15:02:55.543713",
     "status": "completed"
    },
    "tags": []
   },
   "source": [
    "Defined to clean and convert the text for quicker process and better results"
   ]
  },
  {
   "cell_type": "code",
   "execution_count": 13,
   "id": "6fd9d5fe",
   "metadata": {
    "execution": {
     "iopub.execute_input": "2024-03-30T15:02:55.631828Z",
     "iopub.status.busy": "2024-03-30T15:02:55.631160Z",
     "iopub.status.idle": "2024-03-30T15:02:55.635152Z",
     "shell.execute_reply": "2024-03-30T15:02:55.634288Z"
    },
    "papermill": {
     "duration": 0.036295,
     "end_time": "2024-03-30T15:02:55.637038",
     "exception": false,
     "start_time": "2024-03-30T15:02:55.600743",
     "status": "completed"
    },
    "tags": []
   },
   "outputs": [],
   "source": [
    "# mapping"
   ]
  },
  {
   "cell_type": "markdown",
   "id": "7eec530c",
   "metadata": {
    "papermill": {
     "duration": 0.02822,
     "end_time": "2024-03-30T15:02:55.694229",
     "exception": false,
     "start_time": "2024-03-30T15:02:55.666009",
     "status": "completed"
    },
    "tags": []
   },
   "source": [
    "Let us visualize the text **before** and **after** cleaning"
   ]
  },
  {
   "cell_type": "code",
   "execution_count": 14,
   "id": "00092eb2",
   "metadata": {
    "execution": {
     "iopub.execute_input": "2024-03-30T15:02:55.751659Z",
     "iopub.status.busy": "2024-03-30T15:02:55.751340Z",
     "iopub.status.idle": "2024-03-30T15:02:55.756901Z",
     "shell.execute_reply": "2024-03-30T15:02:55.756081Z"
    },
    "papermill": {
     "duration": 0.036473,
     "end_time": "2024-03-30T15:02:55.758717",
     "exception": false,
     "start_time": "2024-03-30T15:02:55.722244",
     "status": "completed"
    },
    "tags": []
   },
   "outputs": [
    {
     "data": {
      "text/plain": [
       "['classification accuracies are plotted as functios of the number of features .']"
      ]
     },
     "execution_count": 14,
     "metadata": {},
     "output_type": "execute_result"
    }
   ],
   "source": [
    "# before preprocess of text\n",
    "mapping['1301.3323v4-Figure10-1']"
   ]
  },
  {
   "cell_type": "code",
   "execution_count": 15,
   "id": "d5afcb3c",
   "metadata": {
    "execution": {
     "iopub.execute_input": "2024-03-30T15:02:55.818301Z",
     "iopub.status.busy": "2024-03-30T15:02:55.817764Z",
     "iopub.status.idle": "2024-03-30T15:02:55.910381Z",
     "shell.execute_reply": "2024-03-30T15:02:55.909682Z"
    },
    "papermill": {
     "duration": 0.124623,
     "end_time": "2024-03-30T15:02:55.912250",
     "exception": false,
     "start_time": "2024-03-30T15:02:55.787627",
     "status": "completed"
    },
    "tags": []
   },
   "outputs": [],
   "source": [
    "# preprocess the text\n",
    "clean(mapping)"
   ]
  },
  {
   "cell_type": "code",
   "execution_count": 16,
   "id": "6d5ed6bd",
   "metadata": {
    "execution": {
     "iopub.execute_input": "2024-03-30T15:02:55.972636Z",
     "iopub.status.busy": "2024-03-30T15:02:55.972322Z",
     "iopub.status.idle": "2024-03-30T15:02:55.977944Z",
     "shell.execute_reply": "2024-03-30T15:02:55.976995Z"
    },
    "papermill": {
     "duration": 0.037663,
     "end_time": "2024-03-30T15:02:55.979881",
     "exception": false,
     "start_time": "2024-03-30T15:02:55.942218",
     "status": "completed"
    },
    "tags": []
   },
   "outputs": [
    {
     "data": {
      "text/plain": [
       "['startseq classification accuracies are plotted as functios of the number of features endseq']"
      ]
     },
     "execution_count": 16,
     "metadata": {},
     "output_type": "execute_result"
    }
   ],
   "source": [
    "# after preprocess of text\n",
    "mapping['1301.3323v4-Figure10-1']"
   ]
  },
  {
   "cell_type": "markdown",
   "id": "7dc25981",
   "metadata": {
    "papermill": {
     "duration": 0.028382,
     "end_time": "2024-03-30T15:02:56.037605",
     "exception": false,
     "start_time": "2024-03-30T15:02:56.009223",
     "status": "completed"
    },
    "tags": []
   },
   "source": [
    "#### Next we will store the preprocessed captions into a list"
   ]
  },
  {
   "cell_type": "code",
   "execution_count": 17,
   "id": "4fa9d138",
   "metadata": {
    "execution": {
     "iopub.execute_input": "2024-03-30T15:02:56.095857Z",
     "iopub.status.busy": "2024-03-30T15:02:56.095222Z",
     "iopub.status.idle": "2024-03-30T15:02:56.105292Z",
     "shell.execute_reply": "2024-03-30T15:02:56.104528Z"
    },
    "papermill": {
     "duration": 0.041288,
     "end_time": "2024-03-30T15:02:56.107203",
     "exception": false,
     "start_time": "2024-03-30T15:02:56.065915",
     "status": "completed"
    },
    "tags": []
   },
   "outputs": [],
   "source": [
    "all_captions = []\n",
    "for key in mapping:\n",
    "    for caption in mapping[key]:\n",
    "        all_captions.append(caption)"
   ]
  },
  {
   "cell_type": "code",
   "execution_count": 18,
   "id": "20480c8a",
   "metadata": {
    "execution": {
     "iopub.execute_input": "2024-03-30T15:02:56.165880Z",
     "iopub.status.busy": "2024-03-30T15:02:56.165595Z",
     "iopub.status.idle": "2024-03-30T15:02:56.170864Z",
     "shell.execute_reply": "2024-03-30T15:02:56.169967Z"
    },
    "papermill": {
     "duration": 0.036892,
     "end_time": "2024-03-30T15:02:56.172805",
     "exception": false,
     "start_time": "2024-03-30T15:02:56.135913",
     "status": "completed"
    },
    "tags": []
   },
   "outputs": [
    {
     "data": {
      "text/plain": [
       "10000"
      ]
     },
     "execution_count": 18,
     "metadata": {},
     "output_type": "execute_result"
    }
   ],
   "source": [
    "len(all_captions)"
   ]
  },
  {
   "cell_type": "markdown",
   "id": "4877f53e",
   "metadata": {
    "papermill": {
     "duration": 0.02886,
     "end_time": "2024-03-30T15:02:56.230965",
     "exception": false,
     "start_time": "2024-03-30T15:02:56.202105",
     "status": "completed"
    },
    "tags": []
   },
   "source": [
    "No. of unique captions stored"
   ]
  },
  {
   "cell_type": "markdown",
   "id": "c8a76d56",
   "metadata": {
    "papermill": {
     "duration": 0.029051,
     "end_time": "2024-03-30T15:02:56.288864",
     "exception": false,
     "start_time": "2024-03-30T15:02:56.259813",
     "status": "completed"
    },
    "tags": []
   },
   "source": [
    "# 10 Captions\n",
    "Let us see the first ten captions"
   ]
  },
  {
   "cell_type": "code",
   "execution_count": 19,
   "id": "b773a1ae",
   "metadata": {
    "execution": {
     "iopub.execute_input": "2024-03-30T15:02:56.348190Z",
     "iopub.status.busy": "2024-03-30T15:02:56.347454Z",
     "iopub.status.idle": "2024-03-30T15:02:56.353112Z",
     "shell.execute_reply": "2024-03-30T15:02:56.352313Z"
    },
    "papermill": {
     "duration": 0.037467,
     "end_time": "2024-03-30T15:02:56.355095",
     "exception": false,
     "start_time": "2024-03-30T15:02:56.317628",
     "status": "completed"
    },
    "tags": []
   },
   "outputs": [
    {
     "data": {
      "text/plain": [
       "['startseq classification accuracies are plotted as functios of the number of features endseq',\n",
       " 'startseq \"tests on synthetic networks generated by the dg-dc model each point is based on 30 randomly generated networks with 2400. for each network and each model we choose the best result from independent runs initialized either with random assignments the suffix or the true block assignment the suffix each run consisted of the kl-heuristic followed by 06 mcmc steps our degree-generated dg block model performs much better on these networks than the degree-corrected dc model the non-degree-corrected sbm model doesn work at all .\" endseq',\n",
       " 'startseq ndcg with too fast decay 2−r does not converge does not have good distinguishability power either endseq',\n",
       " \"startseq graphical image of `` two-factor model '' for advertising repetition previous researches have found that the repetitive advertising has both positive and negative effects on consumers attitude toward advertised products and the net effect is described as an inverted u-shaped curve endseq\",\n",
       " 'startseq \"an illustration of the trade-off between required control gain and the degree of the barrier function needed to successfully attain the desired probability of failure threshold using higher order polynomials allows us to guarantee that the desired probability bound is satisfied for smaller control gain up until some point the desired failure probability bound for here we note that the degree of barrier function for which we search greatly affects the control gain needed to achieve the control objective in some sense searching for higher-order polynomial refines the probability of failure bound requiring lower control effort however these high order polynomials require more computation time eventually the degree of the polynomial reaches saturation point where it does not further decrease the k∗ required .\" endseq',\n",
       " 'startseq \"anti-sparse coding vs lsh on synthetic data search quality recall in vector set of 000 vectors as function of the number of bits of the representation .\" endseq',\n",
       " 'startseq comparison of measured knee torques during the simulation experiment endseq',\n",
       " 'startseq \"experimentally measured mutual information for the regular uniform distribution and ps-6-qam with the four shaped distributions p1 p2 p3 and p. shaping gain of .3 loops i.e. 1032 km can be observed at mutual information of bits per qam symbol from table we display the reference operating points refi and the operating points opi .\" endseq',\n",
       " 'startseq \"regions of interest for the space of subgraphs vertex starvation happens in the region with too few vertices to ensure solution even for fully connected subgraph edge starvation happens in the region where the radius is too low to guarantee connectivity .\" endseq',\n",
       " 'startseq \"empirical histogram erlang-2 student and gaussian pdfs of te operated noise pwp coe cients at snr of 15 db .\" endseq']"
      ]
     },
     "execution_count": 19,
     "metadata": {},
     "output_type": "execute_result"
    }
   ],
   "source": [
    "all_captions[:10]"
   ]
  },
  {
   "cell_type": "markdown",
   "id": "8a181d71",
   "metadata": {
    "papermill": {
     "duration": 0.028824,
     "end_time": "2024-03-30T15:02:56.412882",
     "exception": false,
     "start_time": "2024-03-30T15:02:56.384058",
     "status": "completed"
    },
    "tags": []
   },
   "source": [
    "# Processing of Text Data\n",
    "Now we start processing the text data"
   ]
  },
  {
   "cell_type": "code",
   "execution_count": 20,
   "id": "8dcb777f",
   "metadata": {
    "execution": {
     "iopub.execute_input": "2024-03-30T15:02:56.473327Z",
     "iopub.status.busy": "2024-03-30T15:02:56.472627Z",
     "iopub.status.idle": "2024-03-30T15:02:56.800599Z",
     "shell.execute_reply": "2024-03-30T15:02:56.799813Z"
    },
    "papermill": {
     "duration": 0.360784,
     "end_time": "2024-03-30T15:02:56.802748",
     "exception": false,
     "start_time": "2024-03-30T15:02:56.441964",
     "status": "completed"
    },
    "tags": []
   },
   "outputs": [],
   "source": [
    "# tokenize the text\n",
    "tokenizer = Tokenizer()\n",
    "tokenizer.fit_on_texts(all_captions)\n",
    "vocab_size = len(tokenizer.word_index) + 1"
   ]
  },
  {
   "cell_type": "code",
   "execution_count": 21,
   "id": "08b0f541",
   "metadata": {
    "execution": {
     "iopub.execute_input": "2024-03-30T15:02:56.862719Z",
     "iopub.status.busy": "2024-03-30T15:02:56.862124Z",
     "iopub.status.idle": "2024-03-30T15:02:56.867530Z",
     "shell.execute_reply": "2024-03-30T15:02:56.866707Z"
    },
    "papermill": {
     "duration": 0.037163,
     "end_time": "2024-03-30T15:02:56.869349",
     "exception": false,
     "start_time": "2024-03-30T15:02:56.832186",
     "status": "completed"
    },
    "tags": []
   },
   "outputs": [
    {
     "data": {
      "text/plain": [
       "18106"
      ]
     },
     "execution_count": 21,
     "metadata": {},
     "output_type": "execute_result"
    }
   ],
   "source": [
    "vocab_size"
   ]
  },
  {
   "cell_type": "markdown",
   "id": "f70be797",
   "metadata": {
    "papermill": {
     "duration": 0.028626,
     "end_time": "2024-03-30T15:02:56.928211",
     "exception": false,
     "start_time": "2024-03-30T15:02:56.899585",
     "status": "completed"
    },
    "tags": []
   },
   "source": [
    "No. of unique words"
   ]
  },
  {
   "cell_type": "code",
   "execution_count": 22,
   "id": "a98d0d5f",
   "metadata": {
    "execution": {
     "iopub.execute_input": "2024-03-30T15:02:56.987321Z",
     "iopub.status.busy": "2024-03-30T15:02:56.986750Z",
     "iopub.status.idle": "2024-03-30T15:02:57.008480Z",
     "shell.execute_reply": "2024-03-30T15:02:57.007605Z"
    },
    "papermill": {
     "duration": 0.053342,
     "end_time": "2024-03-30T15:02:57.010409",
     "exception": false,
     "start_time": "2024-03-30T15:02:56.957067",
     "status": "completed"
    },
    "tags": []
   },
   "outputs": [
    {
     "data": {
      "text/plain": [
       "245"
      ]
     },
     "execution_count": 22,
     "metadata": {},
     "output_type": "execute_result"
    }
   ],
   "source": [
    "# get maximum length of the caption available\n",
    "max_length = max(len(caption.split()) for caption in all_captions)\n",
    "max_length"
   ]
  },
  {
   "cell_type": "markdown",
   "id": "90b67824",
   "metadata": {
    "papermill": {
     "duration": 0.028801,
     "end_time": "2024-03-30T15:02:57.068785",
     "exception": false,
     "start_time": "2024-03-30T15:02:57.039984",
     "status": "completed"
    },
    "tags": []
   },
   "source": [
    "+ Finding the maximum length of the captions, used for reference for the padding sequence."
   ]
  },
  {
   "cell_type": "markdown",
   "id": "d71bf5c7",
   "metadata": {
    "papermill": {
     "duration": 0.02849,
     "end_time": "2024-03-30T15:02:57.126576",
     "exception": false,
     "start_time": "2024-03-30T15:02:57.098086",
     "status": "completed"
    },
    "tags": []
   },
   "source": [
    "# Train Test Split"
   ]
  },
  {
   "cell_type": "markdown",
   "id": "56aadf15",
   "metadata": {
    "papermill": {
     "duration": 0.028621,
     "end_time": "2024-03-30T15:02:57.184007",
     "exception": false,
     "start_time": "2024-03-30T15:02:57.155386",
     "status": "completed"
    },
    "tags": []
   },
   "source": [
    "#### After preprocessing the data now we will train, test and split"
   ]
  },
  {
   "cell_type": "code",
   "execution_count": 23,
   "id": "aab2a703",
   "metadata": {
    "execution": {
     "iopub.execute_input": "2024-03-30T15:02:57.244535Z",
     "iopub.status.busy": "2024-03-30T15:02:57.243915Z",
     "iopub.status.idle": "2024-03-30T15:02:57.248960Z",
     "shell.execute_reply": "2024-03-30T15:02:57.248137Z"
    },
    "papermill": {
     "duration": 0.037032,
     "end_time": "2024-03-30T15:02:57.250765",
     "exception": false,
     "start_time": "2024-03-30T15:02:57.213733",
     "status": "completed"
    },
    "tags": []
   },
   "outputs": [],
   "source": [
    "image_ids = list(mapping.keys())\n",
    "split = int(len(image_ids) * 0.90)\n",
    "train = image_ids[:split]\n",
    "test = image_ids[split:]"
   ]
  },
  {
   "cell_type": "markdown",
   "id": "0026b2ec",
   "metadata": {
    "papermill": {
     "duration": 0.028466,
     "end_time": "2024-03-30T15:02:57.307946",
     "exception": false,
     "start_time": "2024-03-30T15:02:57.279480",
     "status": "completed"
    },
    "tags": []
   },
   "source": [
    "**Now we will define a batch and include the padding sequence**"
   ]
  },
  {
   "cell_type": "code",
   "execution_count": 24,
   "id": "b38d9208",
   "metadata": {
    "execution": {
     "iopub.execute_input": "2024-03-30T15:02:57.366856Z",
     "iopub.status.busy": "2024-03-30T15:02:57.366225Z",
     "iopub.status.idle": "2024-03-30T15:02:57.375599Z",
     "shell.execute_reply": "2024-03-30T15:02:57.374731Z"
    },
    "papermill": {
     "duration": 0.040847,
     "end_time": "2024-03-30T15:02:57.377524",
     "exception": false,
     "start_time": "2024-03-30T15:02:57.336677",
     "status": "completed"
    },
    "tags": []
   },
   "outputs": [],
   "source": [
    "# create data generator to get data in batch (avoids session crash)\n",
    "def data_generator(data_keys, mapping, features, tokenizer, max_length, vocab_size, batch_size):\n",
    "    # loop over images\n",
    "    X1, X2, y = list(), list(), list()\n",
    "    n = 0\n",
    "    while 1:\n",
    "        for key in data_keys:\n",
    "            n += 1\n",
    "            captions = mapping[key]\n",
    "            # process each caption\n",
    "            for caption in captions:\n",
    "                # encode the sequence\n",
    "                seq = tokenizer.texts_to_sequences([caption])[0]\n",
    "                # split the sequence into X, y pairs\n",
    "                for i in range(1, len(seq)):\n",
    "                    # split into input and output pairs\n",
    "                    in_seq, out_seq = seq[:i], seq[i]\n",
    "                    # pad input sequence\n",
    "                    in_seq = pad_sequences([in_seq], maxlen=max_length)[0]\n",
    "                    # encode output sequence\n",
    "                    out_seq = to_categorical([out_seq],num_classes=vocab_size)[0]\n",
    "                    # store the sequences\n",
    "                    X1.append(features[key][0])\n",
    "                    X2.append(in_seq)\n",
    "                    y.append(out_seq)\n",
    "            if n == batch_size:\n",
    "                X1, X2, y = np.array(X1), np.array(X2), np.array(y)\n",
    "                yield (X1, X2), y\n",
    "                X1, X2, y = list(), list(), list()\n",
    "                n = 0"
   ]
  },
  {
   "cell_type": "markdown",
   "id": "3e106f57",
   "metadata": {
    "papermill": {
     "duration": 0.030847,
     "end_time": "2024-03-30T15:02:57.438716",
     "exception": false,
     "start_time": "2024-03-30T15:02:57.407869",
     "status": "completed"
    },
    "tags": []
   },
   "source": [
    "Padding sequence normalizes the size of all captions to the max size filling them with zeros for better results."
   ]
  },
  {
   "cell_type": "markdown",
   "id": "16a4b80b",
   "metadata": {
    "papermill": {
     "duration": 0.030949,
     "end_time": "2024-03-30T15:02:57.500070",
     "exception": false,
     "start_time": "2024-03-30T15:02:57.469121",
     "status": "completed"
    },
    "tags": []
   },
   "source": [
    "# Model Creation"
   ]
  },
  {
   "cell_type": "code",
   "execution_count": 25,
   "id": "174b7ff1",
   "metadata": {
    "execution": {
     "iopub.execute_input": "2024-03-30T15:02:57.560487Z",
     "iopub.status.busy": "2024-03-30T15:02:57.559805Z",
     "iopub.status.idle": "2024-03-30T15:02:58.672297Z",
     "shell.execute_reply": "2024-03-30T15:02:58.671406Z"
    },
    "papermill": {
     "duration": 1.146658,
     "end_time": "2024-03-30T15:02:58.676496",
     "exception": false,
     "start_time": "2024-03-30T15:02:57.529838",
     "status": "completed"
    },
    "tags": []
   },
   "outputs": [
    {
     "data": {
      "image/png": "[encoded data removed]",
      "text/plain": [
       "<IPython.core.display.Image object>"
      ]
     },
     "execution_count": 25,
     "metadata": {},
     "output_type": "execute_result"
    }
   ],
   "source": [
    "# encoder model\n",
    "# image feature layers\n",
    "inputs1 = Input(shape=(4096,))\n",
    "fe1 = Dropout(0.4)(inputs1)\n",
    "fe2 = Dense(1024, activation='relu')(fe1)\n",
    "fe3 = Dense(512, activation='relu')(fe2)\n",
    "fe4 = Dense(256, activation='relu')(fe3)\n",
    "# sequence feature layers\n",
    "inputs2 = Input(shape=(max_length,))\n",
    "se1 = Embedding(vocab_size, 256, mask_zero=True)(inputs2)\n",
    "se2 = Dropout(0.4)(se1)\n",
    "se3 = LSTM(256)(se2)\n",
    "\n",
    "# decoder model\n",
    "decoder1 = add([fe4, se3])\n",
    "decoder2 = Dense(256, activation='relu')(decoder1)\n",
    "outputs = Dense(vocab_size, activation='softmax')(decoder2)\n",
    "\n",
    "model = Model(inputs=[inputs1, inputs2], outputs=outputs)\n",
    "model.compile(loss='categorical_crossentropy', optimizer='adam')\n",
    "\n",
    "# plot the model\n",
    "plot_model(model, show_shapes=True)"
   ]
  },
  {
   "cell_type": "markdown",
   "id": "bf219daf",
   "metadata": {
    "papermill": {
     "duration": 0.034116,
     "end_time": "2024-03-30T15:02:58.744839",
     "exception": false,
     "start_time": "2024-03-30T15:02:58.710723",
     "status": "completed"
    },
    "tags": []
   },
   "source": [
    "+ **shape=(4096,)** - output length of the features from the VGG model\n",
    "\n",
    "+ **Dense** - single dimension linear layer array\n",
    "\n",
    "+ **Dropout()** - used to add regularization to the data, avoiding over fitting & dropping out a fraction of the data from the layers\n",
    "\n",
    "+ **model.compile()** - compilation of the model\n",
    "\n",
    "+ **loss=’sparse_categorical_crossentropy’** - loss function for category outputs\n",
    "\n",
    "+ **optimizer=’adam’** - automatically adjust the learning rate for the model over the no. of epochs\n",
    "\n",
    "+ Model plot shows the concatenation of the inputs and outputs into a single layer\n",
    "\n",
    "+ Feature extraction of image was already done using VGG, no CNN model was needed in this step."
   ]
  },
  {
   "cell_type": "markdown",
   "id": "666dda3a",
   "metadata": {
    "papermill": {
     "duration": 0.033069,
     "end_time": "2024-03-30T15:02:58.810614",
     "exception": false,
     "start_time": "2024-03-30T15:02:58.777545",
     "status": "completed"
    },
    "tags": []
   },
   "source": [
    "# Train Model\n",
    "Now let us train the model"
   ]
  },
  {
   "cell_type": "code",
   "execution_count": 26,
   "id": "751b90ad",
   "metadata": {
    "execution": {
     "iopub.execute_input": "2024-03-30T15:02:58.877539Z",
     "iopub.status.busy": "2024-03-30T15:02:58.876819Z",
     "iopub.status.idle": "2024-03-30T19:11:24.349221Z",
     "shell.execute_reply": "2024-03-30T19:11:24.348204Z"
    },
    "papermill": {
     "duration": 14905.51052,
     "end_time": "2024-03-30T19:11:24.353676",
     "exception": false,
     "start_time": "2024-03-30T15:02:58.843156",
     "status": "completed"
    },
    "tags": []
   },
   "outputs": [
    {
     "name": "stdout",
     "output_type": "stream",
     "text": [
      "\u001b[1m281/281\u001b[0m \u001b[32m━━━━━━━━━━━━━━━━━━━━\u001b[0m\u001b[37m\u001b[0m \u001b[1m156s\u001b[0m 533ms/step - loss: 7.3094\n",
      "\u001b[1m281/281\u001b[0m \u001b[32m━━━━━━━━━━━━━━━━━━━━\u001b[0m\u001b[37m\u001b[0m \u001b[1m147s\u001b[0m 521ms/step - loss: 6.2354\n",
      "\u001b[1m281/281\u001b[0m \u001b[32m━━━━━━━━━━━━━━━━━━━━\u001b[0m\u001b[37m\u001b[0m \u001b[1m146s\u001b[0m 521ms/step - loss: 5.8573\n",
      "\u001b[1m281/281\u001b[0m \u001b[32m━━━━━━━━━━━━━━━━━━━━\u001b[0m\u001b[37m\u001b[0m \u001b[1m147s\u001b[0m 522ms/step - loss: 5.5718\n",
      "\u001b[1m281/281\u001b[0m \u001b[32m━━━━━━━━━━━━━━━━━━━━\u001b[0m\u001b[37m\u001b[0m \u001b[1m147s\u001b[0m 524ms/step - loss: 5.3226\n",
      "\u001b[1m281/281\u001b[0m \u001b[32m━━━━━━━━━━━━━━━━━━━━\u001b[0m\u001b[37m\u001b[0m \u001b[1m147s\u001b[0m 522ms/step - loss: 5.1516\n",
      "\u001b[1m281/281\u001b[0m \u001b[32m━━━━━━━━━━━━━━━━━━━━\u001b[0m\u001b[37m\u001b[0m \u001b[1m147s\u001b[0m 522ms/step - loss: 4.9058\n",
      "\u001b[1m281/281\u001b[0m \u001b[32m━━━━━━━━━━━━━━━━━━━━\u001b[0m\u001b[37m\u001b[0m \u001b[1m147s\u001b[0m 523ms/step - loss: 4.7312\n",
      "\u001b[1m281/281\u001b[0m \u001b[32m━━━━━━━━━━━━━━━━━━━━\u001b[0m\u001b[37m\u001b[0m \u001b[1m147s\u001b[0m 524ms/step - loss: 4.6136\n",
      "\u001b[1m281/281\u001b[0m \u001b[32m━━━━━━━━━━━━━━━━━━━━\u001b[0m\u001b[37m\u001b[0m \u001b[1m148s\u001b[0m 526ms/step - loss: 4.5168\n",
      "\u001b[1m281/281\u001b[0m \u001b[32m━━━━━━━━━━━━━━━━━━━━\u001b[0m\u001b[37m\u001b[0m \u001b[1m148s\u001b[0m 527ms/step - loss: 4.2563\n",
      "\u001b[1m281/281\u001b[0m \u001b[32m━━━━━━━━━━━━━━━━━━━━\u001b[0m\u001b[37m\u001b[0m \u001b[1m146s\u001b[0m 519ms/step - loss: 4.0962\n",
      "\u001b[1m281/281\u001b[0m \u001b[32m━━━━━━━━━━━━━━━━━━━━\u001b[0m\u001b[37m\u001b[0m \u001b[1m146s\u001b[0m 519ms/step - loss: 3.9824\n",
      "\u001b[1m281/281\u001b[0m \u001b[32m━━━━━━━━━━━━━━━━━━━━\u001b[0m\u001b[37m\u001b[0m \u001b[1m146s\u001b[0m 518ms/step - loss: 3.8111\n",
      "\u001b[1m281/281\u001b[0m \u001b[32m━━━━━━━━━━━━━━━━━━━━\u001b[0m\u001b[37m\u001b[0m \u001b[1m146s\u001b[0m 520ms/step - loss: 3.7589\n",
      "\u001b[1m281/281\u001b[0m \u001b[32m━━━━━━━━━━━━━━━━━━━━\u001b[0m\u001b[37m\u001b[0m \u001b[1m146s\u001b[0m 520ms/step - loss: 3.5703\n",
      "\u001b[1m281/281\u001b[0m \u001b[32m━━━━━━━━━━━━━━━━━━━━\u001b[0m\u001b[37m\u001b[0m \u001b[1m146s\u001b[0m 520ms/step - loss: 3.3824\n",
      "\u001b[1m281/281\u001b[0m \u001b[32m━━━━━━━━━━━━━━━━━━━━\u001b[0m\u001b[37m\u001b[0m \u001b[1m147s\u001b[0m 523ms/step - loss: 3.3394\n",
      "\u001b[1m281/281\u001b[0m \u001b[32m━━━━━━━━━━━━━━━━━━━━\u001b[0m\u001b[37m\u001b[0m \u001b[1m144s\u001b[0m 512ms/step - loss: 3.2467\n",
      "\u001b[1m281/281\u001b[0m \u001b[32m━━━━━━━━━━━━━━━━━━━━\u001b[0m\u001b[37m\u001b[0m \u001b[1m144s\u001b[0m 512ms/step - loss: 3.3396\n",
      "\u001b[1m281/281\u001b[0m \u001b[32m━━━━━━━━━━━━━━━━━━━━\u001b[0m\u001b[37m\u001b[0m \u001b[1m144s\u001b[0m 512ms/step - loss: 3.1117\n",
      "\u001b[1m281/281\u001b[0m \u001b[32m━━━━━━━━━━━━━━━━━━━━\u001b[0m\u001b[37m\u001b[0m \u001b[1m144s\u001b[0m 514ms/step - loss: 3.0546\n",
      "\u001b[1m281/281\u001b[0m \u001b[32m━━━━━━━━━━━━━━━━━━━━\u001b[0m\u001b[37m\u001b[0m \u001b[1m145s\u001b[0m 514ms/step - loss: 3.1038\n",
      "\u001b[1m281/281\u001b[0m \u001b[32m━━━━━━━━━━━━━━━━━━━━\u001b[0m\u001b[37m\u001b[0m \u001b[1m144s\u001b[0m 514ms/step - loss: 2.9650\n",
      "\u001b[1m281/281\u001b[0m \u001b[32m━━━━━━━━━━━━━━━━━━━━\u001b[0m\u001b[37m\u001b[0m \u001b[1m145s\u001b[0m 516ms/step - loss: 2.8516\n",
      "\u001b[1m281/281\u001b[0m \u001b[32m━━━━━━━━━━━━━━━━━━━━\u001b[0m\u001b[37m\u001b[0m \u001b[1m145s\u001b[0m 517ms/step - loss: 2.8377\n",
      "\u001b[1m281/281\u001b[0m \u001b[32m━━━━━━━━━━━━━━━━━━━━\u001b[0m\u001b[37m\u001b[0m \u001b[1m145s\u001b[0m 516ms/step - loss: 2.7576\n",
      "\u001b[1m281/281\u001b[0m \u001b[32m━━━━━━━━━━━━━━━━━━━━\u001b[0m\u001b[37m\u001b[0m \u001b[1m145s\u001b[0m 515ms/step - loss: 2.8343\n",
      "\u001b[1m281/281\u001b[0m \u001b[32m━━━━━━━━━━━━━━━━━━━━\u001b[0m\u001b[37m\u001b[0m \u001b[1m145s\u001b[0m 515ms/step - loss: 2.7059\n",
      "\u001b[1m281/281\u001b[0m \u001b[32m━━━━━━━━━━━━━━━━━━━━\u001b[0m\u001b[37m\u001b[0m \u001b[1m145s\u001b[0m 514ms/step - loss: 2.6582\n",
      "\u001b[1m281/281\u001b[0m \u001b[32m━━━━━━━━━━━━━━━━━━━━\u001b[0m\u001b[37m\u001b[0m \u001b[1m146s\u001b[0m 521ms/step - loss: 2.5661\n",
      "\u001b[1m281/281\u001b[0m \u001b[32m━━━━━━━━━━━━━━━━━━━━\u001b[0m\u001b[37m\u001b[0m \u001b[1m145s\u001b[0m 514ms/step - loss: 2.4849\n",
      "\u001b[1m281/281\u001b[0m \u001b[32m━━━━━━━━━━━━━━━━━━━━\u001b[0m\u001b[37m\u001b[0m \u001b[1m145s\u001b[0m 516ms/step - loss: 2.7229\n",
      "\u001b[1m281/281\u001b[0m \u001b[32m━━━━━━━━━━━━━━━━━━━━\u001b[0m\u001b[37m\u001b[0m \u001b[1m145s\u001b[0m 515ms/step - loss: 2.6385\n",
      "\u001b[1m281/281\u001b[0m \u001b[32m━━━━━━━━━━━━━━━━━━━━\u001b[0m\u001b[37m\u001b[0m \u001b[1m145s\u001b[0m 515ms/step - loss: 2.7752\n",
      "\u001b[1m281/281\u001b[0m \u001b[32m━━━━━━━━━━━━━━━━━━━━\u001b[0m\u001b[37m\u001b[0m \u001b[1m145s\u001b[0m 517ms/step - loss: 2.6343\n",
      "\u001b[1m281/281\u001b[0m \u001b[32m━━━━━━━━━━━━━━━━━━━━\u001b[0m\u001b[37m\u001b[0m \u001b[1m145s\u001b[0m 515ms/step - loss: 2.5518\n",
      "\u001b[1m281/281\u001b[0m \u001b[32m━━━━━━━━━━━━━━━━━━━━\u001b[0m\u001b[37m\u001b[0m \u001b[1m145s\u001b[0m 516ms/step - loss: 2.4371\n",
      "\u001b[1m281/281\u001b[0m \u001b[32m━━━━━━━━━━━━━━━━━━━━\u001b[0m\u001b[37m\u001b[0m \u001b[1m145s\u001b[0m 515ms/step - loss: 2.4283\n",
      "\u001b[1m281/281\u001b[0m \u001b[32m━━━━━━━━━━━━━━━━━━━━\u001b[0m\u001b[37m\u001b[0m \u001b[1m145s\u001b[0m 515ms/step - loss: 2.4357\n",
      "\u001b[1m281/281\u001b[0m \u001b[32m━━━━━━━━━━━━━━━━━━━━\u001b[0m\u001b[37m\u001b[0m \u001b[1m145s\u001b[0m 517ms/step - loss: 2.3509\n",
      "\u001b[1m281/281\u001b[0m \u001b[32m━━━━━━━━━━━━━━━━━━━━\u001b[0m\u001b[37m\u001b[0m \u001b[1m146s\u001b[0m 519ms/step - loss: 2.2613\n",
      "\u001b[1m281/281\u001b[0m \u001b[32m━━━━━━━━━━━━━━━━━━━━\u001b[0m\u001b[37m\u001b[0m \u001b[1m145s\u001b[0m 515ms/step - loss: 2.2384\n",
      "\u001b[1m281/281\u001b[0m \u001b[32m━━━━━━━━━━━━━━━━━━━━\u001b[0m\u001b[37m\u001b[0m \u001b[1m144s\u001b[0m 513ms/step - loss: 2.2237\n",
      "\u001b[1m281/281\u001b[0m \u001b[32m━━━━━━━━━━━━━━━━━━━━\u001b[0m\u001b[37m\u001b[0m \u001b[1m145s\u001b[0m 514ms/step - loss: 2.1676\n",
      "\u001b[1m281/281\u001b[0m \u001b[32m━━━━━━━━━━━━━━━━━━━━\u001b[0m\u001b[37m\u001b[0m \u001b[1m143s\u001b[0m 510ms/step - loss: 2.1588\n",
      "\u001b[1m281/281\u001b[0m \u001b[32m━━━━━━━━━━━━━━━━━━━━\u001b[0m\u001b[37m\u001b[0m \u001b[1m144s\u001b[0m 514ms/step - loss: 2.1185\n",
      "\u001b[1m281/281\u001b[0m \u001b[32m━━━━━━━━━━━━━━━━━━━━\u001b[0m\u001b[37m\u001b[0m \u001b[1m144s\u001b[0m 511ms/step - loss: 2.0975\n",
      "\u001b[1m281/281\u001b[0m \u001b[32m━━━━━━━━━━━━━━━━━━━━\u001b[0m\u001b[37m\u001b[0m \u001b[1m145s\u001b[0m 517ms/step - loss: 2.0590\n",
      "\u001b[1m281/281\u001b[0m \u001b[32m━━━━━━━━━━━━━━━━━━━━\u001b[0m\u001b[37m\u001b[0m \u001b[1m145s\u001b[0m 516ms/step - loss: 2.0289\n",
      "\u001b[1m281/281\u001b[0m \u001b[32m━━━━━━━━━━━━━━━━━━━━\u001b[0m\u001b[37m\u001b[0m \u001b[1m146s\u001b[0m 519ms/step - loss: 1.9877\n",
      "\u001b[1m281/281\u001b[0m \u001b[32m━━━━━━━━━━━━━━━━━━━━\u001b[0m\u001b[37m\u001b[0m \u001b[1m146s\u001b[0m 521ms/step - loss: 1.9418\n",
      "\u001b[1m281/281\u001b[0m \u001b[32m━━━━━━━━━━━━━━━━━━━━\u001b[0m\u001b[37m\u001b[0m \u001b[1m147s\u001b[0m 523ms/step - loss: 1.9148\n",
      "\u001b[1m281/281\u001b[0m \u001b[32m━━━━━━━━━━━━━━━━━━━━\u001b[0m\u001b[37m\u001b[0m \u001b[1m147s\u001b[0m 522ms/step - loss: 1.8753\n",
      "\u001b[1m281/281\u001b[0m \u001b[32m━━━━━━━━━━━━━━━━━━━━\u001b[0m\u001b[37m\u001b[0m \u001b[1m146s\u001b[0m 520ms/step - loss: 1.8535\n",
      "\u001b[1m281/281\u001b[0m \u001b[32m━━━━━━━━━━━━━━━━━━━━\u001b[0m\u001b[37m\u001b[0m \u001b[1m146s\u001b[0m 519ms/step - loss: 1.8562\n",
      "\u001b[1m281/281\u001b[0m \u001b[32m━━━━━━━━━━━━━━━━━━━━\u001b[0m\u001b[37m\u001b[0m \u001b[1m147s\u001b[0m 522ms/step - loss: 1.8604\n",
      "\u001b[1m281/281\u001b[0m \u001b[32m━━━━━━━━━━━━━━━━━━━━\u001b[0m\u001b[37m\u001b[0m \u001b[1m147s\u001b[0m 523ms/step - loss: 1.8430\n",
      "\u001b[1m281/281\u001b[0m \u001b[32m━━━━━━━━━━━━━━━━━━━━\u001b[0m\u001b[37m\u001b[0m \u001b[1m146s\u001b[0m 517ms/step - loss: 1.8053\n",
      "\u001b[1m281/281\u001b[0m \u001b[32m━━━━━━━━━━━━━━━━━━━━\u001b[0m\u001b[37m\u001b[0m \u001b[1m147s\u001b[0m 522ms/step - loss: 1.7925\n",
      "\u001b[1m281/281\u001b[0m \u001b[32m━━━━━━━━━━━━━━━━━━━━\u001b[0m\u001b[37m\u001b[0m \u001b[1m145s\u001b[0m 515ms/step - loss: 1.7703\n",
      "\u001b[1m281/281\u001b[0m \u001b[32m━━━━━━━━━━━━━━━━━━━━\u001b[0m\u001b[37m\u001b[0m \u001b[1m147s\u001b[0m 522ms/step - loss: 1.7477\n",
      "\u001b[1m281/281\u001b[0m \u001b[32m━━━━━━━━━━━━━━━━━━━━\u001b[0m\u001b[37m\u001b[0m \u001b[1m145s\u001b[0m 517ms/step - loss: 1.7330\n",
      "\u001b[1m281/281\u001b[0m \u001b[32m━━━━━━━━━━━━━━━━━━━━\u001b[0m\u001b[37m\u001b[0m \u001b[1m146s\u001b[0m 518ms/step - loss: 1.7118\n",
      "\u001b[1m281/281\u001b[0m \u001b[32m━━━━━━━━━━━━━━━━━━━━\u001b[0m\u001b[37m\u001b[0m \u001b[1m145s\u001b[0m 516ms/step - loss: 1.6878\n",
      "\u001b[1m281/281\u001b[0m \u001b[32m━━━━━━━━━━━━━━━━━━━━\u001b[0m\u001b[37m\u001b[0m \u001b[1m145s\u001b[0m 516ms/step - loss: 1.6719\n",
      "\u001b[1m281/281\u001b[0m \u001b[32m━━━━━━━━━━━━━━━━━━━━\u001b[0m\u001b[37m\u001b[0m \u001b[1m146s\u001b[0m 518ms/step - loss: 1.6414\n",
      "\u001b[1m281/281\u001b[0m \u001b[32m━━━━━━━━━━━━━━━━━━━━\u001b[0m\u001b[37m\u001b[0m \u001b[1m145s\u001b[0m 514ms/step - loss: 1.6273\n",
      "\u001b[1m281/281\u001b[0m \u001b[32m━━━━━━━━━━━━━━━━━━━━\u001b[0m\u001b[37m\u001b[0m \u001b[1m144s\u001b[0m 514ms/step - loss: 1.6147\n",
      "\u001b[1m281/281\u001b[0m \u001b[32m━━━━━━━━━━━━━━━━━━━━\u001b[0m\u001b[37m\u001b[0m \u001b[1m145s\u001b[0m 514ms/step - loss: 1.5959\n",
      "\u001b[1m281/281\u001b[0m \u001b[32m━━━━━━━━━━━━━━━━━━━━\u001b[0m\u001b[37m\u001b[0m \u001b[1m144s\u001b[0m 513ms/step - loss: 1.5736\n",
      "\u001b[1m281/281\u001b[0m \u001b[32m━━━━━━━━━━━━━━━━━━━━\u001b[0m\u001b[37m\u001b[0m \u001b[1m145s\u001b[0m 515ms/step - loss: 1.5721\n",
      "\u001b[1m281/281\u001b[0m \u001b[32m━━━━━━━━━━━━━━━━━━━━\u001b[0m\u001b[37m\u001b[0m \u001b[1m146s\u001b[0m 520ms/step - loss: 1.5553\n",
      "\u001b[1m281/281\u001b[0m \u001b[32m━━━━━━━━━━━━━━━━━━━━\u001b[0m\u001b[37m\u001b[0m \u001b[1m146s\u001b[0m 518ms/step - loss: 1.5444\n",
      "\u001b[1m281/281\u001b[0m \u001b[32m━━━━━━━━━━━━━━━━━━━━\u001b[0m\u001b[37m\u001b[0m \u001b[1m146s\u001b[0m 518ms/step - loss: 1.5259\n",
      "\u001b[1m281/281\u001b[0m \u001b[32m━━━━━━━━━━━━━━━━━━━━\u001b[0m\u001b[37m\u001b[0m \u001b[1m146s\u001b[0m 519ms/step - loss: 1.5134\n",
      "\u001b[1m281/281\u001b[0m \u001b[32m━━━━━━━━━━━━━━━━━━━━\u001b[0m\u001b[37m\u001b[0m \u001b[1m146s\u001b[0m 518ms/step - loss: 1.4900\n",
      "\u001b[1m281/281\u001b[0m \u001b[32m━━━━━━━━━━━━━━━━━━━━\u001b[0m\u001b[37m\u001b[0m \u001b[1m146s\u001b[0m 520ms/step - loss: 1.4837\n",
      "\u001b[1m281/281\u001b[0m \u001b[32m━━━━━━━━━━━━━━━━━━━━\u001b[0m\u001b[37m\u001b[0m \u001b[1m145s\u001b[0m 515ms/step - loss: 1.4771\n",
      "\u001b[1m281/281\u001b[0m \u001b[32m━━━━━━━━━━━━━━━━━━━━\u001b[0m\u001b[37m\u001b[0m \u001b[1m147s\u001b[0m 521ms/step - loss: 1.4642\n",
      "\u001b[1m281/281\u001b[0m \u001b[32m━━━━━━━━━━━━━━━━━━━━\u001b[0m\u001b[37m\u001b[0m \u001b[1m145s\u001b[0m 517ms/step - loss: 1.4610\n",
      "\u001b[1m281/281\u001b[0m \u001b[32m━━━━━━━━━━━━━━━━━━━━\u001b[0m\u001b[37m\u001b[0m \u001b[1m148s\u001b[0m 525ms/step - loss: 1.4505\n",
      "\u001b[1m281/281\u001b[0m \u001b[32m━━━━━━━━━━━━━━━━━━━━\u001b[0m\u001b[37m\u001b[0m \u001b[1m147s\u001b[0m 523ms/step - loss: 1.4413\n",
      "\u001b[1m281/281\u001b[0m \u001b[32m━━━━━━━━━━━━━━━━━━━━\u001b[0m\u001b[37m\u001b[0m \u001b[1m147s\u001b[0m 523ms/step - loss: 1.4205\n",
      "\u001b[1m281/281\u001b[0m \u001b[32m━━━━━━━━━━━━━━━━━━━━\u001b[0m\u001b[37m\u001b[0m \u001b[1m146s\u001b[0m 520ms/step - loss: 1.4104\n",
      "\u001b[1m281/281\u001b[0m \u001b[32m━━━━━━━━━━━━━━━━━━━━\u001b[0m\u001b[37m\u001b[0m \u001b[1m146s\u001b[0m 520ms/step - loss: 1.4015\n",
      "\u001b[1m281/281\u001b[0m \u001b[32m━━━━━━━━━━━━━━━━━━━━\u001b[0m\u001b[37m\u001b[0m \u001b[1m146s\u001b[0m 517ms/step - loss: 1.3992\n",
      "\u001b[1m281/281\u001b[0m \u001b[32m━━━━━━━━━━━━━━━━━━━━\u001b[0m\u001b[37m\u001b[0m \u001b[1m147s\u001b[0m 524ms/step - loss: 1.3879\n",
      "\u001b[1m281/281\u001b[0m \u001b[32m━━━━━━━━━━━━━━━━━━━━\u001b[0m\u001b[37m\u001b[0m \u001b[1m146s\u001b[0m 521ms/step - loss: 1.3810\n",
      "\u001b[1m281/281\u001b[0m \u001b[32m━━━━━━━━━━━━━━━━━━━━\u001b[0m\u001b[37m\u001b[0m \u001b[1m147s\u001b[0m 522ms/step - loss: 1.3636\n",
      "\u001b[1m281/281\u001b[0m \u001b[32m━━━━━━━━━━━━━━━━━━━━\u001b[0m\u001b[37m\u001b[0m \u001b[1m147s\u001b[0m 521ms/step - loss: 1.3539\n",
      "\u001b[1m281/281\u001b[0m \u001b[32m━━━━━━━━━━━━━━━━━━━━\u001b[0m\u001b[37m\u001b[0m \u001b[1m151s\u001b[0m 536ms/step - loss: 1.3420\n",
      "\u001b[1m281/281\u001b[0m \u001b[32m━━━━━━━━━━━━━━━━━━━━\u001b[0m\u001b[37m\u001b[0m \u001b[1m147s\u001b[0m 521ms/step - loss: 1.3371\n",
      "\u001b[1m281/281\u001b[0m \u001b[32m━━━━━━━━━━━━━━━━━━━━\u001b[0m\u001b[37m\u001b[0m \u001b[1m146s\u001b[0m 520ms/step - loss: 1.3331\n",
      "\u001b[1m281/281\u001b[0m \u001b[32m━━━━━━━━━━━━━━━━━━━━\u001b[0m\u001b[37m\u001b[0m \u001b[1m148s\u001b[0m 526ms/step - loss: 1.3145\n",
      "\u001b[1m281/281\u001b[0m \u001b[32m━━━━━━━━━━━━━━━━━━━━\u001b[0m\u001b[37m\u001b[0m \u001b[1m148s\u001b[0m 526ms/step - loss: 1.3126\n",
      "\u001b[1m281/281\u001b[0m \u001b[32m━━━━━━━━━━━━━━━━━━━━\u001b[0m\u001b[37m\u001b[0m \u001b[1m150s\u001b[0m 532ms/step - loss: 1.3052\n",
      "\u001b[1m281/281\u001b[0m \u001b[32m━━━━━━━━━━━━━━━━━━━━\u001b[0m\u001b[37m\u001b[0m \u001b[1m150s\u001b[0m 533ms/step - loss: 1.2956\n",
      "\u001b[1m281/281\u001b[0m \u001b[32m━━━━━━━━━━━━━━━━━━━━\u001b[0m\u001b[37m\u001b[0m \u001b[1m150s\u001b[0m 532ms/step - loss: 1.2897\n",
      "\u001b[1m281/281\u001b[0m \u001b[32m━━━━━━━━━━━━━━━━━━━━\u001b[0m\u001b[37m\u001b[0m \u001b[1m152s\u001b[0m 541ms/step - loss: 1.2798\n"
     ]
    }
   ],
   "source": [
    "# train the model\n",
    "epochs = 100\n",
    "batch_size = 32\n",
    "steps = len(train) // batch_size\n",
    "\n",
    "for i in range(epochs):\n",
    "    # create data generator\n",
    "    generator = data_generator(train, mapping, features, tokenizer, max_length, vocab_size, batch_size)\n",
    "    # fit for one epoch\n",
    "    model.fit(generator, epochs=1, steps_per_epoch=steps, verbose=1)"
   ]
  },
  {
   "cell_type": "markdown",
   "id": "fbbf9f05",
   "metadata": {
    "papermill": {
     "duration": 2.424248,
     "end_time": "2024-03-30T19:11:29.182150",
     "exception": false,
     "start_time": "2024-03-30T19:11:26.757902",
     "status": "completed"
    },
    "tags": []
   },
   "source": [
    "+ **steps = len(train) // batch_size** - back propagation and fetch the next data\n",
    "\n",
    "+ Loss decreases gradually over the iterations\n",
    "\n",
    "+ Increase the no. of epochs for better results\n",
    "\n",
    "+ Assign the no. of epochs and batch size accordingly for quicker results\n",
    "\n",
    "\n",
    "### You can save the model in the working directory for reuse"
   ]
  },
  {
   "cell_type": "code",
   "execution_count": 27,
   "id": "d77dc368",
   "metadata": {
    "execution": {
     "iopub.execute_input": "2024-03-30T19:11:33.941882Z",
     "iopub.status.busy": "2024-03-30T19:11:33.941392Z",
     "iopub.status.idle": "2024-03-30T19:11:34.515821Z",
     "shell.execute_reply": "2024-03-30T19:11:34.514776Z"
    },
    "papermill": {
     "duration": 3.018369,
     "end_time": "2024-03-30T19:11:34.518816",
     "exception": false,
     "start_time": "2024-03-30T19:11:31.500447",
     "status": "completed"
    },
    "tags": []
   },
   "outputs": [],
   "source": [
    "# save the model\n",
    "model.save(WORKING_DIR+'/best_model.h5')"
   ]
  },
  {
   "cell_type": "markdown",
   "id": "5061646c",
   "metadata": {
    "papermill": {
     "duration": 2.343254,
     "end_time": "2024-03-30T19:11:39.302216",
     "exception": false,
     "start_time": "2024-03-30T19:11:36.958962",
     "status": "completed"
    },
    "tags": []
   },
   "source": [
    "# Generate Captions for the Image"
   ]
  },
  {
   "cell_type": "code",
   "execution_count": 28,
   "id": "2d7c19e4",
   "metadata": {
    "execution": {
     "iopub.execute_input": "2024-03-30T19:11:44.102410Z",
     "iopub.status.busy": "2024-03-30T19:11:44.102044Z",
     "iopub.status.idle": "2024-03-30T19:11:44.107197Z",
     "shell.execute_reply": "2024-03-30T19:11:44.106325Z"
    },
    "papermill": {
     "duration": 2.40349,
     "end_time": "2024-03-30T19:11:44.109185",
     "exception": false,
     "start_time": "2024-03-30T19:11:41.705695",
     "status": "completed"
    },
    "tags": []
   },
   "outputs": [],
   "source": [
    "def idx_to_word(integer, tokenizer):\n",
    "    for word, index in tokenizer.word_index.items():\n",
    "        if index == integer:\n",
    "            return word\n",
    "    return None"
   ]
  },
  {
   "cell_type": "markdown",
   "id": "2a66fec2",
   "metadata": {
    "papermill": {
     "duration": 2.291027,
     "end_time": "2024-03-30T19:11:48.844492",
     "exception": false,
     "start_time": "2024-03-30T19:11:46.553465",
     "status": "completed"
    },
    "tags": []
   },
   "source": [
    "+ Convert the predicted index from the model into a word"
   ]
  },
  {
   "cell_type": "code",
   "execution_count": 29,
   "id": "a052946d",
   "metadata": {
    "execution": {
     "iopub.execute_input": "2024-03-30T19:11:53.897083Z",
     "iopub.status.busy": "2024-03-30T19:11:53.896704Z",
     "iopub.status.idle": "2024-03-30T19:11:53.904046Z",
     "shell.execute_reply": "2024-03-30T19:11:53.903073Z"
    },
    "papermill": {
     "duration": 2.624071,
     "end_time": "2024-03-30T19:11:53.906043",
     "exception": false,
     "start_time": "2024-03-30T19:11:51.281972",
     "status": "completed"
    },
    "tags": []
   },
   "outputs": [],
   "source": [
    "# generate caption for an image\n",
    "def predict_caption(model, image, tokenizer, max_length):\n",
    "    # add start tag for generation process\n",
    "    in_text = 'startseq'\n",
    "    # iterate over the max length of sequence\n",
    "    for i in range(max_length):\n",
    "        # encode input sequence\n",
    "        sequence = tokenizer.texts_to_sequences([in_text])[0]\n",
    "        # pad the sequence\n",
    "        sequence = pad_sequences([sequence], max_length)\n",
    "        # predict next word\n",
    "        yhat = model.predict([image, sequence], verbose=0)\n",
    "        # get index with high probability\n",
    "        yhat = np.argmax(yhat)\n",
    "        # convert index to word\n",
    "        word = idx_to_word(yhat, tokenizer)\n",
    "        # stop if word not found\n",
    "        if word is None:\n",
    "            break\n",
    "        # append word as input for generating next word\n",
    "        in_text += \" \" + word\n",
    "        # stop if we reach end tag\n",
    "        if word == 'endseq':\n",
    "            break\n",
    "    return in_text"
   ]
  },
  {
   "cell_type": "markdown",
   "id": "9a6e5f86",
   "metadata": {
    "papermill": {
     "duration": 2.409922,
     "end_time": "2024-03-30T19:11:58.583072",
     "exception": false,
     "start_time": "2024-03-30T19:11:56.173150",
     "status": "completed"
    },
    "tags": []
   },
   "source": [
    "+ Captiongenerator appending all the words for an image\n",
    "\n",
    "+ The caption starts with 'startseq' and the model continues to predict the caption until the 'endseq' appeared"
   ]
  },
  {
   "cell_type": "markdown",
   "id": "123bc187",
   "metadata": {
    "papermill": {
     "duration": 2.379922,
     "end_time": "2024-03-30T19:12:03.378934",
     "exception": false,
     "start_time": "2024-03-30T19:12:00.999012",
     "status": "completed"
    },
    "tags": []
   },
   "source": [
    "# Model Validation\n",
    "Now we validate the data using BLEU Score"
   ]
  },
  {
   "cell_type": "code",
   "execution_count": 30,
   "id": "8434d662",
   "metadata": {
    "execution": {
     "iopub.execute_input": "2024-03-30T19:12:08.108328Z",
     "iopub.status.busy": "2024-03-30T19:12:08.107981Z",
     "iopub.status.idle": "2024-03-30T19:50:00.263919Z",
     "shell.execute_reply": "2024-03-30T19:50:00.262714Z"
    },
    "papermill": {
     "duration": 2274.538322,
     "end_time": "2024-03-30T19:50:00.265914",
     "exception": false,
     "start_time": "2024-03-30T19:12:05.727592",
     "status": "completed"
    },
    "tags": []
   },
   "outputs": [
    {
     "data": {
      "application/vnd.jupyter.widget-view+json": {
       "model_id": "006ed76e5266402781044a9b7accbf17",
       "version_major": 2,
       "version_minor": 0
      },
      "text/plain": [
       "  0%|          | 0/1000 [00:00<?, ?it/s]"
      ]
     },
     "metadata": {},
     "output_type": "display_data"
    },
    {
     "name": "stdout",
     "output_type": "stream",
     "text": [
      "BLEU-1: 0.171191\n",
      "BLEU-2: 0.054204\n"
     ]
    }
   ],
   "source": [
    "from nltk.translate.bleu_score import corpus_bleu\n",
    "# validate with test data\n",
    "actual, predicted = list(), list()\n",
    "\n",
    "for key in tqdm(test):\n",
    "    # get actual caption\n",
    "    captions = mapping[key]\n",
    "    # predict the caption for image\n",
    "    y_pred = predict_caption(model, features[key], tokenizer, max_length)\n",
    "    # split into words\n",
    "    actual_captions = [caption.split() for caption in captions]\n",
    "    y_pred = y_pred.split()\n",
    "    # append to the list\n",
    "    actual.append(actual_captions)\n",
    "    predicted.append(y_pred)\n",
    "# calcuate BLEU score\n",
    "print(\"BLEU-1: %f\" % corpus_bleu(actual, predicted, weights=(1.0, 0, 0, 0)))\n",
    "print(\"BLEU-2: %f\" % corpus_bleu(actual, predicted, weights=(0.5, 0.5, 0, 0)))\n"
   ]
  },
  {
   "cell_type": "markdown",
   "id": "9115d429",
   "metadata": {
    "papermill": {
     "duration": 2.269045,
     "end_time": "2024-03-30T19:50:04.937258",
     "exception": false,
     "start_time": "2024-03-30T19:50:02.668213",
     "status": "completed"
    },
    "tags": []
   },
   "source": [
    "+ BLEU Score is used to evaluate the predicted text against a reference text, in a list of tokens.\n",
    "\n",
    "+ The reference text contains all the words appended from the captions data (actual_captions)\n",
    "\n",
    "+ A BLEU Score more than **0.4 is considered a good result**, for a better score increase the no. of epochs accordingly."
   ]
  },
  {
   "cell_type": "code",
   "execution_count": 31,
   "id": "36959448",
   "metadata": {
    "execution": {
     "iopub.execute_input": "2024-03-30T19:50:09.625595Z",
     "iopub.status.busy": "2024-03-30T19:50:09.624503Z",
     "iopub.status.idle": "2024-03-30T19:50:09.648634Z",
     "shell.execute_reply": "2024-03-30T19:50:09.647795Z"
    },
    "papermill": {
     "duration": 2.336544,
     "end_time": "2024-03-30T19:50:09.651355",
     "exception": false,
     "start_time": "2024-03-30T19:50:07.314811",
     "status": "completed"
    },
    "tags": []
   },
   "outputs": [
    {
     "data": {
      "text/plain": [
       "['1806.09095v1-Figure5-1',\n",
       " '1512.03152v1-Figure3-1',\n",
       " '1707.04491v4-Figure9-1',\n",
       " '1401.7713v1-Figure7-1',\n",
       " '1801.05338v2-Figure4-1',\n",
       " '1808.00822v2-Figure1-1',\n",
       " '1011.4328v3-Figure4-1',\n",
       " '1306.2735v1-Figure2-1',\n",
       " '1903.01550v1-Figure6-1',\n",
       " '2009.10444v1-Figure10-1',\n",
       " '1012.4824v1-Figure5-1',\n",
       " '1904.00429v3-Figure2-1',\n",
       " '1904.00670v3-Figure9-1',\n",
       " '1709.04545v3-Figure7-1',\n",
       " '1708.02758v1-Figure13-1',\n",
       " '1603.01399v2-TableI-1',\n",
       " '2001.09453v1-Figure1-1',\n",
       " '1102.3561v1-Figure11-1',\n",
       " '1009.4300v1-Figure5-1',\n",
       " '2008.07192v1-Figure4-1',\n",
       " '1604.02723v1-Figure10-1',\n",
       " '1711.06588v3-Figure5-1',\n",
       " '2003.14141v1-Figure2-1',\n",
       " '1611.07941v1-Figure5-1',\n",
       " '1409.4489v1-Figure7-1',\n",
       " '1804.08458v1-Figure6-1',\n",
       " '1812.09504v1-Figure5-1',\n",
       " '1810.12044v1-Figure4-1',\n",
       " '1106.5158v1-Figure7-1',\n",
       " '1808.09688v1-Figure3-1',\n",
       " '2002.10429v1-Figure8-1',\n",
       " '1307.3158v1-Figure7-1',\n",
       " '2001.00748v2-Figure10-1',\n",
       " '1401.8226v1-Figure2-1',\n",
       " '1503.05968v3-Figure1-1',\n",
       " '2001.03917v1-Figure2-1',\n",
       " '1304.5297v1-Figure6-1',\n",
       " '2010.14908v1-Figure10-1',\n",
       " '1712.04038v2-Figure4-1',\n",
       " '1001.3206v2-Figure2-1',\n",
       " '1101.0653v1-Figure9-1',\n",
       " '1107.4067v2-Figure7-1',\n",
       " '1802.06958v1-Figure14-1',\n",
       " '1111.6695v1-Figure3-1',\n",
       " '2010.08687v3-Figure8-1',\n",
       " '1410.3988v2-Figure3-1',\n",
       " '1703.07394v1-Figure9-1',\n",
       " '1906.08176v1-Figure1-1',\n",
       " '1905.11247v1-Figure11-1',\n",
       " '1901.00798v1-Figure3-1',\n",
       " '2008.10779v1-Figure2-1',\n",
       " '1806.04561v1-Figure1-1',\n",
       " '1605.02196v1-Figure14-1',\n",
       " '1501.01184v2-Figure3-1',\n",
       " '1305.4537v5-Figure6-1',\n",
       " '1602.08447v1-Figure16-1',\n",
       " '1712.02436v1-Figure4.19-1',\n",
       " '1007.3835v1-Figure7-1',\n",
       " '1608.07793v2-Figure1-1',\n",
       " '1406.2431v3-Figure2-1',\n",
       " '1605.08002v2-Figure8-1',\n",
       " '1909.05997v2-Figure7-1',\n",
       " '1910.11388v1-Figure8-1',\n",
       " '2009.08070v1-Figure5-1',\n",
       " '2009.09090v1-Figure10-1',\n",
       " '1808.04142v2-Figure4-1',\n",
       " '1206.3281v1-Figure8-1',\n",
       " '1102.4728v2-Figure11-1',\n",
       " '1708.05443v1-Figure9-1',\n",
       " '1404.2371v1-Figure1-1',\n",
       " '1512.04906v1-Figure2-1',\n",
       " '1901.03662v1-Figure2-1',\n",
       " '1907.08456v2-Figure3-1',\n",
       " '1902.06468v1-Figure12-1',\n",
       " '1007.2327v2-Figure1-1',\n",
       " '1909.12326v4-Figure2-1',\n",
       " '1006.1422v1-Figure8-1',\n",
       " '1804.02967v2-Figure5-1',\n",
       " '2006.09938v2-Figure5-1',\n",
       " '1607.06429v1-Figure12-1',\n",
       " '1406.5653v1-Figure5-1',\n",
       " '1201.6388v1-Figure1-1',\n",
       " '2008.07707v1-Figure5-1',\n",
       " '2004.09363v3-Figure10-1',\n",
       " '1211.3384v3-Figure6-1',\n",
       " '1804.08305v1-Figure2-1',\n",
       " '2005.00242v2-Figure13-1',\n",
       " '1905.06402v1-Figure4-1',\n",
       " '1606.04929v1-Figure3-1',\n",
       " '1506.03744v2-Figure6-1',\n",
       " '1410.4601v1-Figure6-1',\n",
       " '1904.13032v1-Figure4-1',\n",
       " '2004.03325v1-Figure4-1',\n",
       " '1602.04701v2-Figure1-1',\n",
       " '1811.04734v3-Figure4-1',\n",
       " '1609.08925v2-Figure4.345-1',\n",
       " '1808.08896v2-Figure22-1',\n",
       " '1905.09384v2-Figure3-1',\n",
       " '1510.08186v1-Figure7-1',\n",
       " '1905.02430v1-Figure7-1',\n",
       " '1907.05231v1-Figure4-1',\n",
       " '1307.3645v1-Figure9-1',\n",
       " '1911.08459v1-Figure3-1',\n",
       " '1803.08833v2-Figure4-1',\n",
       " '1709.06922v2-Figure21-1',\n",
       " '1605.00873v1-Figure9-1',\n",
       " '2006.16508v1-Table5-1',\n",
       " '1904.04309v1-Figure2.5-1',\n",
       " '1705.09985v1-Figure5-1',\n",
       " '1012.3030v3-Figure3.5-1',\n",
       " '1606.02753v1-Figure2-1',\n",
       " '1403.0879v1-Figure9-1',\n",
       " '1604.06416v1-Figure1-1',\n",
       " '1307.4514v2-Figure5.14-1',\n",
       " '1804.00344v3-Figure3-1',\n",
       " '1802.04376v1-Figure5-1',\n",
       " '1512.04912v1-Figure3-1',\n",
       " '2005.00263v1-Figure19-1',\n",
       " '1805.02301v3-Figure6-1',\n",
       " '1805.06169v1-Figure4-1',\n",
       " '1204.2433v1-Figure7-1',\n",
       " '1510.04905v1-Figure1-1',\n",
       " '2002.01045v2-Figure7-1',\n",
       " '1708.05869v2-Figure14-1',\n",
       " '1803.09615v2-Figure16-1',\n",
       " '1812.01108v1-Figure7-1',\n",
       " '1610.01934v5-Figure5-1',\n",
       " '1904.12111v2-Figure7-1',\n",
       " '2007.05750v1-Figure8-1',\n",
       " '1911.09636v1-Figure6-1',\n",
       " '1812.01659v2-Figure8-1',\n",
       " '1704.06729v1-Figure8-1',\n",
       " '1507.06955v5-Figure2-1',\n",
       " '1910.08953v1-Figure2-1',\n",
       " '2004.02658v1-Figure8-1',\n",
       " '1801.04270v2-Figure2-1',\n",
       " '1305.5626v1-Figure1-1',\n",
       " '1712.01472v3-Figure14-1',\n",
       " '2001.03010v1-Figure5-1',\n",
       " '1506.07491v3-Figure7-1',\n",
       " '1708.04816v1-Figure2-1',\n",
       " '1710.03791v2-Figure10-1',\n",
       " '1904.06786v2-Figure3-1',\n",
       " '1908.07956v2-Figure2-1',\n",
       " '1905.12621v1-Figure3-1',\n",
       " '1611.07848v3-Figure4-1',\n",
       " '2007.06372v2-Figure9-1',\n",
       " '1204.1425v1-Figure3-1',\n",
       " '1701.02940v1-Figure2-1',\n",
       " '2006.14318v1-Figure26.17-1',\n",
       " '1903.07852v1-Figure5-1',\n",
       " '1308.5121v1-Figure7-1',\n",
       " '1108.4585v1-Figure9-1',\n",
       " '2010.00682v1-Figure5-1',\n",
       " '1804.02822v1-Figure2-1',\n",
       " '1103.2348v1-Figure5-1',\n",
       " '1812.04406v1-Figure7-1',\n",
       " '1809.00317v1-Figure7-1',\n",
       " '1207.2080v3-Figure12-1',\n",
       " '1302.2082v3-Figure7-1',\n",
       " '1809.00903v2-Figure3-1',\n",
       " '1108.4658v1-Figure7-1',\n",
       " '1804.07438v1-Figure4-1',\n",
       " '2006.06443v1-Figure7-1',\n",
       " '1807.09830v1-Figure1-1',\n",
       " '1805.08278v2-Figure4.3-1',\n",
       " '2009.12507v1-TableI-1',\n",
       " '2007.14354v1-Figure5-1',\n",
       " '1612.04022v3-Figure3-1',\n",
       " '1001.2274v2-Figure2-1',\n",
       " '1208.4269v2-Figure16-1',\n",
       " '2002.12830v1-Figure4-1',\n",
       " '1905.03395v2-Figure4-1',\n",
       " '1611.09168v1-Figure1-1',\n",
       " '2005.05444v1-Figure2-1',\n",
       " '1607.04340v2-Figure1-1',\n",
       " '1209.5218v2-Figure4-1',\n",
       " '2005.11218v1-Figure7-1',\n",
       " '1302.2331v1-Figure2-1',\n",
       " '2004.06519v1-Figure12-1',\n",
       " '1902.01459v2-Figure9-1',\n",
       " '2001.03192v1-Figure6-1',\n",
       " '1709.09447v1-Figure6-1',\n",
       " '1908.06268v1-Figure1-1',\n",
       " '1301.2314v1-Figure7-1',\n",
       " '1001.0773v1-Figure2-1',\n",
       " '1806.07621v7-Figure3-1',\n",
       " '1907.09804v3-Figure6-1',\n",
       " '1310.4874v1-Figure2-1',\n",
       " '1912.10514v2-Figure3-1',\n",
       " '1904.10743v1-Figure4-1',\n",
       " '1312.7839v3-Figure6-1',\n",
       " '1211.7277v1-Figure6-1',\n",
       " '1710.02076v1-Figure4-1',\n",
       " '1504.06434v1-Figure8-1',\n",
       " '2001.10946v1-Figure6-1',\n",
       " '1308.4166v1-Figure1-1',\n",
       " '1907.01516v2-Figure14-1',\n",
       " '1210.5314v2-Figure5-1',\n",
       " '1301.5121v1-Figure7.5-1',\n",
       " '1912.00662v1-Figure8-1',\n",
       " '1504.04464v1-Figure10-1',\n",
       " '2011.03147v1-Figure5-1',\n",
       " '1309.0392v1-Figure5-1',\n",
       " '1903.06985v1-Figure2-1',\n",
       " '1805.03554v2-Figure2-1',\n",
       " '1803.07297v1-Figure4.6-1',\n",
       " '1704.05986v2-Figure2-1',\n",
       " '1811.04734v3-Figure5-1',\n",
       " '1507.02132v1-Figure3-1',\n",
       " '1105.3531v4-Figure5-1',\n",
       " '2006.14599v1-Figure5-1',\n",
       " '1702.08044v1-Figure5-1',\n",
       " '1808.07285v1-Figure11-1',\n",
       " '2002.04094v1-Figure4-1',\n",
       " '1603.01942v3-Figure11-1',\n",
       " '1503.01881v2-Figure6-1',\n",
       " '1907.01040v1-Figure2-1',\n",
       " '1609.08656v1-Figure7-1',\n",
       " '1410.6795v1-Figure7-1',\n",
       " '2007.10141v1-Figure12-1',\n",
       " '1901.06732v4-Figure5-1',\n",
       " '1202.4736v2-Figure6-1',\n",
       " '1802.10051v2-Figure1-1',\n",
       " '2003.09526v1-Figure1-1',\n",
       " '1808.00963v1-Figure6.6-1',\n",
       " '1708.06700v1-Figure4-1',\n",
       " '1412.6376v1-Figure3-1',\n",
       " '2003.07816v1-Figure3-1',\n",
       " '1511.08899v1-Figure4-1',\n",
       " '1505.02493v3-Figure2-1',\n",
       " '1708.09347v1-Figure11-1',\n",
       " '1706.03866v1-Figure3-1',\n",
       " '1601.01488v1-Figure6-1',\n",
       " '2010.08667v1-Figure7-1',\n",
       " '1812.01659v2-Figure6-1',\n",
       " '1907.01095v3-Figure3-1',\n",
       " '2008.11510v1-Figure11-1',\n",
       " '1810.13395v5-Figure4-1',\n",
       " '1508.00230v1-Figure8-1',\n",
       " '1312.0718v2-Figure9-1',\n",
       " '1607.07186v2-Figure3-1',\n",
       " '1401.6380v1-Figure6-1',\n",
       " '2004.12846v2-Figure7-1',\n",
       " '1602.00849v2-Figure5-1',\n",
       " '1606.06576v1-Figure12-1',\n",
       " '2001.00914v1-Figure15-1',\n",
       " '1605.01424v1-Figure2-1',\n",
       " '1508.05784v1-Figure6-1',\n",
       " '2009.09787v1-Figure11-1',\n",
       " '1301.0859v1-Figure6-1',\n",
       " '1911.05490v1-Figure7-1',\n",
       " '1804.03648v1-Figure8-1',\n",
       " '1103.0326v1-Figure4-1',\n",
       " '1909.02212v1-Figure12-1',\n",
       " '1810.05453v3-Figure6-1',\n",
       " '1703.06652v1-Figure8-1',\n",
       " '1607.03725v6-Figure12-1',\n",
       " '1409.5506v3-Figure1-1',\n",
       " '1711.08224v1-Figure16-1',\n",
       " '2005.14261v1-Figure4-1',\n",
       " '1811.09766v1-Figure5-1',\n",
       " '2006.00271v1-Figure17-1',\n",
       " '1604.00554v1-Figure3-1',\n",
       " '1910.00188v1-Figure20-1',\n",
       " '1709.04693v2-Figure6-1',\n",
       " '1302.5794v1-Figure2-1',\n",
       " '1910.09706v2-Figure6-1',\n",
       " '1709.03723v1-Figure6-1',\n",
       " '1208.1270v5-Figure5.8-1',\n",
       " '1609.08925v2-Figure4.101-1',\n",
       " '1609.06868v1-Figure1-1',\n",
       " '2011.08327v1-Figure11-1',\n",
       " '1905.00958v1-Figure4-1',\n",
       " '1502.06775v2-Figure11-1',\n",
       " '2005.10442v1-Figure7-1',\n",
       " '2005.13905v1-Figure8-1',\n",
       " '1905.06626v3-Figure7-16-1',\n",
       " '1612.08352v1-Figure2-1',\n",
       " '1911.01351v1-Figure1-1',\n",
       " '2002.10429v1-Figure19-1',\n",
       " '1212.0640v1-Figure3-1',\n",
       " '1510.02676v1-Figure2-1',\n",
       " '2005.14147v3-Figure1-1',\n",
       " '1709.08773v1-Figure6-1',\n",
       " '1410.4218v2-Figure3-1',\n",
       " '2010.12993v2-Figure3-1',\n",
       " '2003.12012v1-Figure9-1',\n",
       " '1903.02657v2-Figure7-1',\n",
       " '1506.01977v1-Figure4-1',\n",
       " '1907.11264v1-Figure6-1',\n",
       " '1501.04711v1-Figure3-1',\n",
       " '2010.09318v2-Figure1-1',\n",
       " '1802.01987v3-Figure5-1',\n",
       " '1506.06691v1-Figure13-1',\n",
       " '1601.06368v1-Figure10-1',\n",
       " '1705.08722v2-Figure3-1',\n",
       " '1912.11578v1-Figure2-1',\n",
       " '1602.01174v1-Figure7-1',\n",
       " '2009.11952v1-Figure6-1',\n",
       " '1506.08621v3-Figure3-1',\n",
       " '1807.00002v1-Figure3-1',\n",
       " '1711.07530v3-Figure8-1',\n",
       " '1503.00800v1-Figure4-1',\n",
       " '2006.06599v2-Figure2-1',\n",
       " '1610.06974v1-Figure4-1',\n",
       " '1802.00706v1-Figure3-1',\n",
       " '2010.10451v1-Figure10-1',\n",
       " '1907.03880v1-Figure5-1',\n",
       " '1802.00102v1-Figure1-1',\n",
       " '2002.08196v2-Figure2-1',\n",
       " '1911.01162v1-Figure6-1',\n",
       " '1103.1224v2-Figure7-1',\n",
       " '1707.04390v1-Figure12-1',\n",
       " '1606.03672v1-Figure4-1',\n",
       " '1505.00437v7-Figure2-1',\n",
       " '1506.06066v1-Figure4-1',\n",
       " '1611.01678v1-Figure3-1',\n",
       " '1910.03732v1-Figure1-1',\n",
       " '2009.12820v1-Figure1-1',\n",
       " '1606.07674v2-Figure2-1',\n",
       " '1704.01886v1-Figure4-1',\n",
       " '1211.5107v1-Figure4-1',\n",
       " '1911.05706v1-Figure7-1',\n",
       " '1109.3563v2-Figure3-1',\n",
       " '2006.15938v3-Figure9-1',\n",
       " '1607.07590v2-Figure1-1',\n",
       " '2005.01101v1-Figure5-1',\n",
       " '1806.10171v5-Figure9-1',\n",
       " '1004.4821v1-Figure18-1',\n",
       " '1903.08566v3-Figure6-1',\n",
       " '1910.05652v2-Figure6-1',\n",
       " '1608.07666v1-Figure4-1',\n",
       " '2008.13447v1-Figure1-1',\n",
       " '1808.10082v4-Figure5-1',\n",
       " '1201.6034v1-Figure7-1',\n",
       " '1710.09797v4-Figure1-1',\n",
       " '1805.03218v1-Figure4-1',\n",
       " '1012.0736v1-Figure6-1',\n",
       " '1812.01839v3-Figure6-1',\n",
       " '1901.10876v2-Figure3.7-1',\n",
       " '1809.05815v1-Figure6-1',\n",
       " '1801.06716v1-Figure4-1',\n",
       " '2004.09960v1-Figure2-1',\n",
       " '1410.6793v2-Figure32-1',\n",
       " '1506.06149v1-Figure1-1',\n",
       " '1009.3798v2-Figure4-1',\n",
       " '1511.01436v1-Figure10-1',\n",
       " '1201.5450v1-Figure5-1',\n",
       " '1601.01218v1-Figure9-1',\n",
       " '2009.03362v1-Figure10-1',\n",
       " '2007.00390v1-Figure2-1',\n",
       " '1908.09295v2-Figure4-1',\n",
       " '1912.06270v1-Figure16-1',\n",
       " '1308.5146v4-Figure11-1',\n",
       " '1907.02696v1-Figure4-1',\n",
       " '2010.11340v2-Figure8-1',\n",
       " '2002.02830v1-Figure3-1',\n",
       " '1807.09011v1-Figure4-1',\n",
       " '1010.0237v1-Figure13-1',\n",
       " '1610.04141v1-Figure4-1',\n",
       " '1810.00988v1-Figure4-1',\n",
       " '1607.02249v2-Figure8-1',\n",
       " '1909.12948v1-Figure3-1',\n",
       " '1705.03124v1-Figure1-1',\n",
       " '1705.09488v5-Figure5-1',\n",
       " '1402.1371v1-Figure1-1',\n",
       " '1811.06451v2-Figure4-1',\n",
       " '1704.07139v2-Figure8-1',\n",
       " '1408.5196v1-Figure2-1',\n",
       " '1609.08925v2-Figure4.153-1',\n",
       " '1908.08264v2-Figure2-1',\n",
       " '1801.03857v4-Figure7-1',\n",
       " '2001.00084v1-Figure4-1',\n",
       " '1610.09465v2-Figure3-1',\n",
       " '1307.0813v2-Figure2-1',\n",
       " '1510.09099v1-Figure6-1',\n",
       " '2005.06703v1-Figure4-1',\n",
       " '1708.04444v1-Figure7-1',\n",
       " '2006.13472v1-Figure11-1',\n",
       " '1211.6727v1-Figure2-1',\n",
       " '1910.12806v1-Figure1-1',\n",
       " '1902.03415v1-Figure5-1',\n",
       " '2002.08420v1-Figure7-1',\n",
       " '1712.05130v1-Figure7-1',\n",
       " '1804.09498v2-Figure15-1',\n",
       " '2004.05371v1-Figure16-1',\n",
       " '1707.04338v2-Figure7-1',\n",
       " '1608.03533v9-Figure1-1',\n",
       " '2003.11761v1-Figure11-1',\n",
       " '1910.00608v1-Figure4-1',\n",
       " '1806.00885v1-Figure11-1',\n",
       " '1203.3967v2-Figure291-1',\n",
       " '1807.04458v2-Figure4-1',\n",
       " '2002.02869v1-Figure4-1',\n",
       " '1805.05381v1-Figure5-1',\n",
       " '1311.0274v1-Figure3-1',\n",
       " '2003.03819v1-Figure12-1',\n",
       " '2005.05588v1-Figure16-1',\n",
       " '1701.04577v1-Figure3-1',\n",
       " '1311.4715v1-Figure2-1',\n",
       " '1610.08193v1-Figure5-1',\n",
       " '1908.08288v1-Figure7-1',\n",
       " '1908.08748v1-Figure3-1',\n",
       " '1209.5715v1-Figure12-1',\n",
       " '1805.01033v1-Figure4-1',\n",
       " '1910.04483v3-Figure20-1',\n",
       " '1210.8196v1-Figure12-1',\n",
       " '1305.1175v2-Figure4-1',\n",
       " '1711.08823v1-Figure5-1',\n",
       " '2006.05850v2-Figure1-1',\n",
       " '2002.05950v2-Figure26-1',\n",
       " '1809.07702v1-Figure10-1',\n",
       " '2008.12172v1-Figure7-1',\n",
       " '1807.02401v2-FigureB.1-1',\n",
       " '1611.08550v1-Figure1-1',\n",
       " '1712.10085v2-Figure6-1',\n",
       " '2010.06740v1-Figure6-1',\n",
       " '1607.05836v3-Figure5-1',\n",
       " '1907.02208v1-Figure9-1',\n",
       " '1609.08925v2-Figure4.917-1',\n",
       " '1602.07399v1-Figure4-1',\n",
       " '1405.1008v1-Figure2.4-1',\n",
       " '1802.02140v1-Figure5-1',\n",
       " '2008.02386v1-Figure1-1',\n",
       " '1404.6563v2-Figure15-1',\n",
       " '1006.1565v1-Figure23-1',\n",
       " '1405.6200v1-Figure7-1',\n",
       " '1210.3552v2-Figure9-1',\n",
       " '1611.02552v1-Figure3-1',\n",
       " '2004.12353v1-Figure3-1',\n",
       " '1910.07442v1-Figure8-1',\n",
       " '1306.0239v4-Figure2-1',\n",
       " '1907.01572v1-Figure21-1',\n",
       " '1408.6493v1-Figure1-1',\n",
       " '1805.11681v3-Figure4-1',\n",
       " '2003.07339v1-Figure1-1',\n",
       " '2004.11414v1-Figure7-1',\n",
       " '1501.04038v2-Figure4-1',\n",
       " '1901.07499v2-Figure8-1',\n",
       " '2004.10058v1-Figure3-1',\n",
       " '1806.08342v1-Figure14-1',\n",
       " '1701.08526v2-Figure3-1',\n",
       " '1309.1485v3-Figure12-1',\n",
       " '1505.05405v1-Figure1-1',\n",
       " '1808.01457v2-Figure3-1',\n",
       " '1809.02203v1-Figure3-1',\n",
       " '1111.6682v2-Figure5-1',\n",
       " '1601.05069v1-Figure4.11-1',\n",
       " '1705.01389v3-Figure6-1',\n",
       " '2003.04684v2-Figure10-1',\n",
       " '1208.6454v1-Figure14-1',\n",
       " '1610.05653v2-Figure4-1',\n",
       " '2001.06840v2-Figure2-1',\n",
       " '1906.08867v1-Figure5-1',\n",
       " '1410.3899v3-Figure9-1',\n",
       " '1910.13104v2-Figure5-1',\n",
       " '2003.11080v5-Figure5-1',\n",
       " '1703.10607v1-Figure9-1',\n",
       " '1004.0542v3-Figure14-1',\n",
       " '2003.03033v1-Figure12-1',\n",
       " '1110.0594v1-Figure4-1',\n",
       " '1412.4542v1-Figure8-1',\n",
       " '1905.06077v2-Figure8-1',\n",
       " '1104.5466v1-Figure6.1-1',\n",
       " '1105.3977v2-Figure9-1',\n",
       " '1511.00905v1-Figure7-1',\n",
       " '1605.02233v2-Figure6-1',\n",
       " '1601.06869v1-Figure7-1',\n",
       " '1811.08656v2-Figure8-1',\n",
       " '1907.12733v1-Figure3-1',\n",
       " '1910.00807v1-Figure2-1',\n",
       " '1110.1347v1-Figure2-1',\n",
       " '1107.4016v1-Figure7-1',\n",
       " '1006.5829v1-Figure6-1',\n",
       " '1502.03990v1-Table6-1',\n",
       " '1706.00931v1-Figure3-1',\n",
       " '1812.00073v2-Figure3-1',\n",
       " '1904.04792v1-Figure20-1',\n",
       " '2011.03169v1-Figure3.10-1',\n",
       " '1805.02395v2-Figure3-1',\n",
       " '2002.03093v2-Figure9-1',\n",
       " '2005.06270v1-Figure6-1',\n",
       " '1809.04983v1-Figure2-1',\n",
       " '1901.01736v1-Figure10-1',\n",
       " '1311.3141v3-Figure7-1',\n",
       " '2007.06737v1-Figure3-1',\n",
       " '1901.01744v1-Figure5-1',\n",
       " '2004.14337v1-Figure10-1',\n",
       " '2004.07699v1-Figure7.6-1',\n",
       " '2011.06348v1-Figure20-1',\n",
       " '1809.09237v4-Figure2-1',\n",
       " '1509.04366v4-Figure12-1',\n",
       " '1902.03184v1-Figure1-1',\n",
       " '1808.07256v1-Figure6-1',\n",
       " '1401.1152v3-Figure7-1',\n",
       " '1608.06574v2-Figure2-1',\n",
       " '1809.08387v1-Figure4-1',\n",
       " '1302.5894v1-Figure7-1',\n",
       " '1909.08652v1-Figure6-1',\n",
       " '2001.05142v2-Figure4-1',\n",
       " '1905.11498v3-Table2-1',\n",
       " '2005.12894v1-Figure2-1',\n",
       " '2006.05852v1-Figure2-1',\n",
       " '1509.00453v2-Figure10-1',\n",
       " '1603.09436v1-Figure4-1',\n",
       " '1806.08230v1-Figure8-1',\n",
       " '1606.08023v1-Figure10-1',\n",
       " '1609.07837v2-Figure6-1',\n",
       " '1709.08600v3-Figure5-1',\n",
       " '1508.07724v1-Figure22-1',\n",
       " '2006.01442v1-Figure2-1',\n",
       " '1907.02759v4-Figure1-1',\n",
       " '1504.05383v1-Figure3-1',\n",
       " '1901.08949v5-Figure4-1',\n",
       " '1602.06166v3-Figure2-1',\n",
       " '1509.08071v1-Figure9-1',\n",
       " '2009.07008v1-Figure1-1',\n",
       " '1608.08445v2-Figure4-1',\n",
       " '1906.01698v1-Figure4-1',\n",
       " '1608.03749v2-Figure7-1',\n",
       " '1210.8024v2-Figure4-1',\n",
       " '2001.05618v2-Figure1-1',\n",
       " '1407.4723v1-Figure1-1',\n",
       " '1306.6116v1-Figure7-1',\n",
       " '1807.09091v5-Figure19-1',\n",
       " '1909.01153v1-Figure30-1',\n",
       " '1005.4826v1-Figure8-1',\n",
       " '1907.06846v1-Figure21-1',\n",
       " '1111.6677v1-Figure26-1',\n",
       " '1811.03064v2-Figure4.9-1',\n",
       " '1910.08944v1-Figure5-1',\n",
       " '1701.01544v3-Figure5-1',\n",
       " '1403.1460v1-Figure1-1',\n",
       " '1410.2628v2-Figure6-1',\n",
       " '1904.03297v1-Figure9-1',\n",
       " '1411.6622v1-Figure3.7-1',\n",
       " '1201.2046v1-Figure4-1',\n",
       " '1709.01712v1-Figure26-1',\n",
       " '1308.3324v1-Figure1-1',\n",
       " '1710.10398v2-Figure2-1',\n",
       " '1109.3227v2-Figure11-1',\n",
       " '1702.06382v1-Figure1-1',\n",
       " '1802.08915v2-Figure10-1',\n",
       " '2006.09946v2-Figure1-1',\n",
       " '2010.06987v1-Figure4-1',\n",
       " '1610.01922v1-Figure6-1',\n",
       " '1412.4576v1-Figure10-1',\n",
       " '2005.14676v1-Figure10-1',\n",
       " '1712.01975v3-Figure1-1',\n",
       " '2006.11432v1-Figure8-1',\n",
       " '1506.07849v2-Figure2-1',\n",
       " '1304.0004v2-Figure1-1',\n",
       " '1810.02970v1-Figure2-1',\n",
       " '2002.09809v2-Figure3-1',\n",
       " '1811.00656v3-Figure4-1',\n",
       " '1201.0686v1-Figure13-1',\n",
       " '1908.11096v1-Figure4-1',\n",
       " '1708.01610v2-Figure20-1',\n",
       " '1604.03075v1-Figure2-1',\n",
       " '1802.03557v1-Figure4-1',\n",
       " '2003.08483v2-Figure7-1',\n",
       " '1804.10727v2-Figure4-1',\n",
       " '1108.1530v1-Figure18-1',\n",
       " '1609.08925v2-Figure4.1515-1',\n",
       " '2004.14479v3-Figure5-1',\n",
       " '1903.00308v1-Figure13-1',\n",
       " '1504.00083v1-Figure2-1',\n",
       " '1304.0247v1-Figure8-1',\n",
       " '1507.05144v1-Figure2-1',\n",
       " '2005.11020v1-Figure23-1',\n",
       " '1206.5232v2-Figure2-1',\n",
       " '1906.00512v2-Figure1-1',\n",
       " '1909.10403v2-Figure5-1',\n",
       " '1912.09240v1-Figure1-1',\n",
       " '1805.03549v1-Figure5-1',\n",
       " '1808.04345v1-Figure6-1',\n",
       " '1302.2501v2-Figure4-1',\n",
       " '1901.05336v1-Figure3-1',\n",
       " '1901.09861v1-Figure3-1',\n",
       " '2008.10931v2-Figure3-1',\n",
       " '1106.3467v1-Figure9-1',\n",
       " '1601.07157v2-Figure6-1',\n",
       " '2010.11341v1-Figure3-1',\n",
       " '1905.02184v1-Figure2-1',\n",
       " '1603.04981v6-Figure11-1',\n",
       " '1605.02878v1-Figure4-1',\n",
       " '1605.00810v1-Figure7-1',\n",
       " '1704.00658v1-Figure8-1',\n",
       " '1809.00952v1-Figure7-1',\n",
       " '1905.06635v1-Figure10-1',\n",
       " '1802.06955v5-Figure9-1',\n",
       " '1901.05296v3-Figure1-1',\n",
       " '1806.08468v1-Figure5-1',\n",
       " '1109.1966v2-Figure11-1',\n",
       " '1809.03412v1-Figure8-1',\n",
       " '1502.07661v1-Figure13-1',\n",
       " '1606.07389v1-Figure8-1',\n",
       " '1511.00098v1-Figure8-1',\n",
       " '1706.07101v1-Figure2-1',\n",
       " '1707.00890v2-Figure3-1',\n",
       " '1812.05981v1-Figure6-1',\n",
       " '1203.3240v1-Figure19-1',\n",
       " '1701.05420v4-Figure3-1',\n",
       " '1807.07162v1-Figure2-1',\n",
       " '1306.2453v1-Figure8-1',\n",
       " '1309.1220v2-Figure3-1',\n",
       " '1508.03891v4-Figure7-1',\n",
       " '1012.2073v1-Figure2-1',\n",
       " '1103.2923v1-Figure6-1',\n",
       " '1711.01587v1-Figure2-1',\n",
       " '1906.01421v3-Figure15-1',\n",
       " '2007.02934v1-Figure8-1',\n",
       " '1904.10325v1-Figure3-1',\n",
       " '1105.5553v3-Figure4-1',\n",
       " '1902.05340v4-Figure12-1',\n",
       " '1909.06669v2-Figure10-1',\n",
       " '2002.06481v1-Figure12-1',\n",
       " '1603.00302v1-Figure4-1',\n",
       " '2007.12363v1-Figure7-1',\n",
       " '1910.12596v1-Figure1-1',\n",
       " '1904.10631v1-Figure5-1',\n",
       " '1812.02327v1-Figure10-1',\n",
       " '2003.02409v1-Figure5-1',\n",
       " '1712.10210v1-Figure7-1',\n",
       " '1112.4607v1-Figure4-1',\n",
       " '1510.01823v1-Figure1-1',\n",
       " '1609.00225v1-Figure10-1',\n",
       " '1906.02397v1-Figure4-1',\n",
       " '2008.11784v1-Figure5-1',\n",
       " '1904.03968v1-Figure9-1',\n",
       " '1905.02797v1-Figure2-1',\n",
       " '1904.13148v2-Figure8-1',\n",
       " '1909.13126v1-Figure3-1',\n",
       " '1804.06737v1-Figure4-1',\n",
       " '1902.01894v1-Figure9-1',\n",
       " '1805.05847v2-Figure8-1',\n",
       " '1307.4801v3-Figure5-1',\n",
       " '1803.08035v2-Figure3-1',\n",
       " '2006.01927v1-Figure6-1',\n",
       " '1709.09973v3-Figure3-1',\n",
       " '1707.03148v1-Figure9-1',\n",
       " '1407.3006v1-Figure2-1',\n",
       " '1803.09193v2-Figure12-1',\n",
       " '2008.00170v1-Figure8-1',\n",
       " '2010.08760v1-Figure8-1',\n",
       " '1803.08367v1-Figure2-1',\n",
       " '1910.09106v1-Figure3.3-1',\n",
       " '1902.03966v1-Figure13-1',\n",
       " '2006.15579v2-Figure4-1',\n",
       " '1407.5355v1-Figure5-1',\n",
       " '1907.03178v4-Figure13-1',\n",
       " '1202.3253v1-Figure4-1',\n",
       " '2001.03730v1-Figure14-1',\n",
       " '1609.06773v2-Figure2-1',\n",
       " '1004.0092v1-Figure1-1',\n",
       " '1909.06907v1-Figure9-1',\n",
       " '2003.08844v1-Figure1-1',\n",
       " '1712.08846v1-Figure7-1',\n",
       " '1906.05392v2-Figure9-1',\n",
       " '1703.06471v1-Figure5-1',\n",
       " '1601.04037v3-Figure19-1',\n",
       " '2009.01196v1-Figure7-1',\n",
       " '1006.0836v1-Figure6-1',\n",
       " '1406.5685v1-Figure4.4-1',\n",
       " '1510.02415v2-Figure5-1',\n",
       " '1708.01894v4-Figure3-1',\n",
       " '1804.00930v1-Figure11-1',\n",
       " '2004.00799v1-Figure7-1',\n",
       " '1009.0854v1-Figure3-1',\n",
       " '2010.02399v1-Figure3-1',\n",
       " '1409.3107v2-Figure4-1',\n",
       " '1807.01042v1-Figure4-1',\n",
       " '1912.08100v1-Figure7-1',\n",
       " '1309.6243v1-Figure3-1',\n",
       " '1711.00614v1-Figure8-1',\n",
       " '1803.06328v2-Figure2-1',\n",
       " '2010.01856v1-Figure8-1',\n",
       " '1807.04458v2-Figure5-1',\n",
       " '1609.05002v1-Figure9-1',\n",
       " '1901.09094v2-Figure6-1',\n",
       " '1610.03017v3-Figure2-1',\n",
       " '2008.05168v1-Figure12-1',\n",
       " '2007.03025v2-Figure11-1',\n",
       " '1711.00982v1-Figure7-1',\n",
       " '1406.4201v1-Figure1-1',\n",
       " '2008.07437v1-Figure5-1',\n",
       " '2007.13572v1-Figure6-1',\n",
       " '1710.02821v2-Figure9-1',\n",
       " '1510.08805v3-Figure8-1',\n",
       " '1611.07305v2-Figure3-1',\n",
       " '1107.4161v1-Figure5-1',\n",
       " '1210.3583v1-Figure7-1',\n",
       " '1807.05694v1-Figure2-1',\n",
       " '1209.0880v1-Figure3-1',\n",
       " '1011.0474v1-Figure5-1',\n",
       " '1710.10800v3-Figure8-1',\n",
       " '1412.7018v1-Figure12-1',\n",
       " '1811.03220v2-Figure10-1',\n",
       " '1902.03233v3-Figure8-1',\n",
       " '1909.05034v1-Figure1-1',\n",
       " '1910.06325v1-Figure16-1',\n",
       " '1002.3328v1-Figure3-1',\n",
       " '1912.13139v1-Figure4-1',\n",
       " '1212.3998v1-Figure1-1',\n",
       " '1911.03833v1-Figure9-1',\n",
       " '1602.07168v3-Figure6-1',\n",
       " '1811.01249v1-Figure3-1',\n",
       " '2011.08131v1-Figure6-1',\n",
       " '1308.3836v2-Figure7-1',\n",
       " '1211.5189v2-Figure3-1',\n",
       " '1209.0853v1-Figure8-1',\n",
       " '1309.1026v1-Figure6-1',\n",
       " '1910.12512v1-Figure2-1',\n",
       " '1109.1966v2-Figure20-1',\n",
       " '2009.02192v1-Figure2-1',\n",
       " '1707.09757v2-Figure8-1',\n",
       " '2009.12170v1-Figure9-1',\n",
       " '1602.07623v1-Figure3-1',\n",
       " '1911.11343v1-Figure14-1',\n",
       " '1804.03565v1-Figure5.1-1',\n",
       " '1705.10694v3-Figure12-1',\n",
       " '1705.01426v2-Figure13-1',\n",
       " '2005.11353v1-Figure8-1',\n",
       " '1912.09859v3-Figure9-1',\n",
       " '1512.01322v3-Figure3-1',\n",
       " '2005.13139v1-Figure6-1',\n",
       " '1010.0157v1-Figure3-1',\n",
       " '1407.1460v1-Figure7-1',\n",
       " '1903.11506v1-Figure10-1',\n",
       " '1205.2046v1-Figure7-1',\n",
       " '1904.05449v2-Figure5-1',\n",
       " '2006.01026v2-Figure3-1',\n",
       " '1911.09061v1-Figure5-1',\n",
       " '1704.01705v4-Figure4-1',\n",
       " '1906.00823v2-Figure5-1',\n",
       " '1606.08366v1-Figure8-1',\n",
       " '1509.08995v3-Figure2-1',\n",
       " '2009.00806v1-Figure11-1',\n",
       " '1907.08880v1-Figure2-1',\n",
       " '1310.6443v1-Figure12-1',\n",
       " '1804.05118v1-Figure7-1',\n",
       " '1712.07846v1-Figure5-1',\n",
       " '1408.2529v2-Figure10-1',\n",
       " '1908.11535v1-Figure1-1',\n",
       " '1912.07365v3-Figure4-1',\n",
       " '1912.03238v1-Figure4-1',\n",
       " '1108.1510v1-Figure7-1',\n",
       " '2011.00775v1-Figure4-1',\n",
       " '1409.5828v3-Figure5-1',\n",
       " '1802.08972v1-Figure3-1',\n",
       " '1403.3196v2-Figure4-1',\n",
       " '1012.3410v1-Figure2-1',\n",
       " '1202.1992v1-Figure6-1',\n",
       " '2010.08457v1-Figure11-1',\n",
       " '1410.4410v1-Figure6-1',\n",
       " '2006.00409v1-Figure4-1',\n",
       " '1607.08316v2-Figure1-1',\n",
       " '1805.07069v1-Figure3-1',\n",
       " '1912.02077v1-Figure1-1',\n",
       " '2001.09849v3-Figure2-1',\n",
       " '1708.01407v1-Figure4-1',\n",
       " '1912.03344v1-Figure1-1',\n",
       " '1810.03764v1-Figure3-1',\n",
       " '1909.06890v1-Figure11-1',\n",
       " '1910.00440v1-Figure6-1',\n",
       " '1910.13800v1-Figure8-1',\n",
       " '1012.3201v1-Figure11-1',\n",
       " '2006.16854v1-Figure4-1',\n",
       " '1409.2017v1-Figure1-1',\n",
       " '1401.7426v1-Figure9-1',\n",
       " '1503.06437v1-Figure3-1',\n",
       " '1510.05407v2-Figure7-1',\n",
       " '1903.11703v2-Figure9-1',\n",
       " '2010.15581v1-Figure5-1',\n",
       " '1912.08766v1-Figure3-1',\n",
       " '1508.05856v2-Figure5.1-1',\n",
       " '1201.4479v1-Figure1-1',\n",
       " '1301.1018v2-Figure4-1',\n",
       " '1508.02079v1-Figure1-1',\n",
       " '2002.09452v2-Figure14-1',\n",
       " '1906.03817v1-Figure4.5-1',\n",
       " '1109.3227v2-Figure2-1',\n",
       " '2006.15561v1-Figure6-1',\n",
       " '1309.0707v1-Figure9-1',\n",
       " '1412.5344v1-Figure2-1',\n",
       " '1909.09669v1-Figure6-1',\n",
       " '1605.04068v1-Figure3-1',\n",
       " '1611.07635v3-Figure5-1',\n",
       " '1907.08250v1-Figure1-1',\n",
       " '1505.04005v1-Figure1-1',\n",
       " '1210.2940v1-Figure12-1',\n",
       " '1611.05253v2-Figure3-1',\n",
       " '1906.06014v2-Figure9-1',\n",
       " '1912.06180v1-Figure17-1',\n",
       " '2008.12247v1-Figure5-1',\n",
       " '1707.07412v1-Figure3-1',\n",
       " '1711.00355v2-Figure4-1',\n",
       " '2002.01965v1-Figure6-1',\n",
       " '1902.00347v2-Figure3.3-1',\n",
       " '1704.02556v2-Figure15-1',\n",
       " '1511.03705v1-Figure6-1',\n",
       " '1810.04654v1-Figure2-1',\n",
       " '1411.5869v3-Figure8-1',\n",
       " '2001.10655v1-Figure4-1',\n",
       " '1812.09867v1-Figure3-1',\n",
       " '1611.03014v1-Figure6-1',\n",
       " '1606.08367v1-Figure7-1',\n",
       " '1202.2082v1-Figure6-1',\n",
       " '1905.03920v2-Figure8-1',\n",
       " '1610.06242v1-Figure8-1',\n",
       " '2007.13819v1-Figure3-1',\n",
       " '1309.4085v1-Figure3-1',\n",
       " '2006.03758v1-Figure9-1',\n",
       " '1911.03972v2-Figure5-1',\n",
       " '1804.07571v8-Figure6-1',\n",
       " '2008.09725v1-Figure13-1',\n",
       " '1802.06001v2-Figure6-1',\n",
       " '1203.3967v2-Figure152-1',\n",
       " '1510.09021v1-Figure6-1',\n",
       " '1912.10330v2-Figure3-1',\n",
       " '1602.08615v2-Figure3-1',\n",
       " '2006.03158v2-Figure2-1',\n",
       " '1710.03190v5-Figure11-1',\n",
       " '1901.05639v2-Figure3.6-1',\n",
       " '1011.3074v1-Figure7-1',\n",
       " '1304.2035v1-Figure8-1',\n",
       " '1710.03532v1-Figure4-1',\n",
       " '1708.00277v3-Figure4-1',\n",
       " '1905.07297v1-Figure1-1',\n",
       " '1503.06171v2-Figure3-1',\n",
       " '1704.06919v1-Figure3.1-1',\n",
       " '1811.07506v1-Figure7-1',\n",
       " '1511.01561v3-Figure11-1',\n",
       " '1607.05912v1-Figure2-1',\n",
       " '1902.04149v3-Figure3-1',\n",
       " '1604.03396v1-Figure6-1',\n",
       " '1205.4785v2-Figure5-1',\n",
       " '1401.5390v1-Figure10-1',\n",
       " '1911.01942v1-Figure6-1',\n",
       " '1107.3602v1-Figure6-1',\n",
       " '2007.02784v1-Figure6-1',\n",
       " '1011.4328v3-Figure11-1',\n",
       " '1203.3967v2-Figure493-1',\n",
       " '1611.04583v1-Figure5-1',\n",
       " '2010.03296v2-Figure4-1',\n",
       " '1310.4301v1-Figure3-1',\n",
       " '1710.00450v2-Figure2-1',\n",
       " '1810.11303v1-Figure6-1',\n",
       " '1910.01179v3-Figure4-1',\n",
       " '1508.03332v1-Figure11-1',\n",
       " '1305.7167v4-Figure8-1',\n",
       " '2009.05697v1-Figure8-1',\n",
       " '1601.01488v1-Figure10-1',\n",
       " '1910.14218v1-Figure5-1',\n",
       " '1910.12387v2-Figure6-1',\n",
       " '1501.05472v1-Figure6-1',\n",
       " '2006.04424v3-Figure3-1',\n",
       " '1202.6168v1-Figure11-1',\n",
       " '1504.06797v1-Figure7-1',\n",
       " '2002.05511v1-Figure1-1',\n",
       " '2004.07466v1-Figure7-1',\n",
       " '2003.01216v1-Figure10-1',\n",
       " '1809.01499v2-Figure6-1',\n",
       " '1109.0971v1-Figure8-1',\n",
       " '1006.2880v2-Figure1-1',\n",
       " '1608.05493v1-Figure5-1',\n",
       " '1504.00693v1-Figure9-1',\n",
       " '1710.07617v3-Figure6-1',\n",
       " '1908.07031v6-Figure3-1',\n",
       " '2003.07536v1-Figure3-1',\n",
       " '1806.02239v1-Figure8.1-1',\n",
       " '2008.02400v1-Figure10-1',\n",
       " '1906.11084v3-Figure10-1',\n",
       " '1603.01060v1-Figure7-1',\n",
       " '1112.2109v1-Figure13-1',\n",
       " '1506.03265v3-Figure4-1',\n",
       " '1906.05773v1-Figure3-1',\n",
       " '1205.3612v2-Figure6-1',\n",
       " '2002.01164v1-Figure18-1',\n",
       " '1108.1367v1-Figure8-1',\n",
       " '2007.01419v1-Figure4-1',\n",
       " '1102.2836v4-Figure10-1',\n",
       " '1403.5648v1-Figure5-1',\n",
       " '1906.05773v1-Figure10-1',\n",
       " '1512.04906v1-Figure7-1',\n",
       " '1910.06708v1-Figure8-1',\n",
       " '2010.12683v1-Figure3-1',\n",
       " '1712.04564v2-Figure9-1',\n",
       " '1703.01261v1-Figure15-1',\n",
       " '1711.11114v1-Figure3-1',\n",
       " '1111.4898v1-Figure8-1',\n",
       " '2010.02870v1-Figure3-1',\n",
       " '1911.07621v1-Figure3-1',\n",
       " '1810.09202v5-Figure8-1',\n",
       " '1808.09280v1-Figure5-1',\n",
       " '1410.5401v2-Figure13-1',\n",
       " '1610.05358v1-Figure3-1',\n",
       " '1905.13450v2-Figure10-1',\n",
       " '1407.4409v1-Figure6-1',\n",
       " '1907.05182v3-Figure9-1',\n",
       " '2009.13770v1-Figure3-1',\n",
       " '2002.01045v2-Figure2-1',\n",
       " '1612.08861v1-Figure8-1',\n",
       " '1511.04435v2-Figure14-1',\n",
       " '1405.6908v1-Figure1-1',\n",
       " '1808.01353v1-Figure12-1',\n",
       " '1307.0049v1-Figure5-1',\n",
       " '1703.04995v1-Figure6-1',\n",
       " '1804.01351v1-Figure6-1',\n",
       " '1610.05434v1-Figure7-1',\n",
       " '1702.08635v1-Figure5-1',\n",
       " '2010.00207v1-Figure5-1',\n",
       " '1902.04215v1-Figure5-1',\n",
       " '1304.0984v1-Figure6-1',\n",
       " '1501.00299v1-Figure6-1',\n",
       " '1302.6569v1-Figure13-1',\n",
       " '1901.03846v2-Figure6-1',\n",
       " '2004.04139v1-Figure1-1',\n",
       " '1802.10252v4-Figure4-1',\n",
       " '1806.00814v1-Figure2-1',\n",
       " '1101.2229v2-Figure10-1',\n",
       " '1504.05723v1-Figure1-1',\n",
       " '1910.09309v1-Figure19-1',\n",
       " '1912.10768v1-Figure4-1',\n",
       " '1810.09381v1-Figure9-1',\n",
       " '1702.08357v1-Figure9-1',\n",
       " '2006.09874v1-Figure12-1',\n",
       " '1902.08380v1-Figure6-1',\n",
       " '1106.2888v1-Figure2-1',\n",
       " '2011.06100v2-Figure5-1',\n",
       " '1911.11460v2-Figure4-1',\n",
       " '1001.2279v1-Figure1-1',\n",
       " '1809.07702v1-Figure9-1',\n",
       " '1503.03669v2-Figure2-1',\n",
       " '1404.4386v1-Figure2-1',\n",
       " '1805.09863v3-Figure3-1',\n",
       " '1012.2628v1-Figure6-1',\n",
       " '1903.03399v1-Figure3-1',\n",
       " '1707.03819v1-Figure1-1',\n",
       " '1205.5906v2-Figure10-1',\n",
       " '1511.06940v2-Figure5-1',\n",
       " '1709.04412v2-Figure6-1',\n",
       " '1907.02789v1-Figure8-1',\n",
       " '2006.13432v2-Figure8-1',\n",
       " '1202.3987v1-Figure4-1',\n",
       " '1305.1319v1-Figure1-1',\n",
       " '1706.01939v2-Figure1-1',\n",
       " '1807.05527v2-Figure2-1',\n",
       " '1909.07596v1-Figure9-1',\n",
       " '1401.7745v1-Figure6-1',\n",
       " '1609.06577v1-Figure3-1',\n",
       " '1709.06713v1-Figure1-1',\n",
       " '1001.1603v1-Figure5-1',\n",
       " '2007.01814v1-Figure7-1',\n",
       " '1709.01921v1-Figure7-1',\n",
       " '1409.3367v1-Figure3.7-1',\n",
       " '1411.3508v1-Figure8-1',\n",
       " '1804.00907v1-Figure3-1',\n",
       " '1709.07552v1-Figure13-1',\n",
       " '1211.2960v1-Figure14-1',\n",
       " '2005.13539v1-Figure4.18-1',\n",
       " '1204.6250v1-Figure5-1',\n",
       " '1609.08925v2-Figure4.121-1',\n",
       " '1603.03921v1-Figure15-1',\n",
       " '2007.14321v1-Figure7-1',\n",
       " '1501.01083v1-Figure9-1',\n",
       " '1808.09410v2-Figure7-1',\n",
       " '1912.06831v1-Figure6-1',\n",
       " '1002.1335v1-Figure5-1',\n",
       " '1511.03688v1-Figure1-1',\n",
       " '1705.01191v1-Figure7-1',\n",
       " '1408.3025v2-Figure7-1',\n",
       " '2005.04809v2-Figure11-1',\n",
       " '1603.06560v4-Figure13-1',\n",
       " '1511.08334v3-Figure3-1',\n",
       " '1201.0228v1-Figure4-1',\n",
       " '1709.02977v1-Figure9-1',\n",
       " '1407.0756v1-Figure8-1',\n",
       " '2011.08461v1-Figure2-1',\n",
       " '1902.01812v1-Figure7-1',\n",
       " '1605.01020v1-Figure8-1',\n",
       " '1011.1135v5-Figure3-1',\n",
       " '1406.0380v1-Figure22-1',\n",
       " '1601.02076v1-Figure11-1',\n",
       " '1604.03526v1-Figure4-1',\n",
       " '1902.02104v1-Figure6-1',\n",
       " '1402.2845v2-Figure5.8-1',\n",
       " '1912.13241v1-Figure1-1',\n",
       " '2005.10855v1-Figure5.4-1',\n",
       " '1106.1577v1-Figure1-1',\n",
       " '1804.10934v1-Figure3-1',\n",
       " '1806.00885v1-Figure12-1',\n",
       " '2006.03044v1-Figure2-1',\n",
       " '1708.01358v1-Figure3-1',\n",
       " '1105.4143v2-Figure5-1',\n",
       " '1902.05804v2-Figure3-1',\n",
       " '1704.06326v2-Figure5-1',\n",
       " '1301.2613v1-Figure4-1',\n",
       " '2005.00856v3-Figure3-1']"
      ]
     },
     "execution_count": 31,
     "metadata": {},
     "output_type": "execute_result"
    }
   ],
   "source": [
    "test"
   ]
  },
  {
   "cell_type": "markdown",
   "id": "10eae232",
   "metadata": {
    "papermill": {
     "duration": 2.37741,
     "end_time": "2024-03-30T19:50:14.389516",
     "exception": false,
     "start_time": "2024-03-30T19:50:12.012106",
     "status": "completed"
    },
    "tags": []
   },
   "source": [
    "## Visualize the Results"
   ]
  },
  {
   "cell_type": "code",
   "execution_count": 32,
   "id": "ad2595f7",
   "metadata": {
    "execution": {
     "iopub.execute_input": "2024-03-30T19:50:19.128055Z",
     "iopub.status.busy": "2024-03-30T19:50:19.127094Z",
     "iopub.status.idle": "2024-03-30T19:50:19.134665Z",
     "shell.execute_reply": "2024-03-30T19:50:19.133565Z"
    },
    "papermill": {
     "duration": 2.364067,
     "end_time": "2024-03-30T19:50:19.136685",
     "exception": false,
     "start_time": "2024-03-30T19:50:16.772618",
     "status": "completed"
    },
    "tags": []
   },
   "outputs": [],
   "source": [
    "from PIL import Image\n",
    "import matplotlib.pyplot as plt\n",
    "def generate_caption(image_name):\n",
    "    # load the image\n",
    "    # image_name = \"1001773457_577c3a7d70.jpg\"\n",
    "    image_id = image_name.split('.png')[0]\n",
    "    img_path = os.path.join(BASE_DIR, \"image-train\", image_name)\n",
    "    image = Image.open(img_path)\n",
    "    captions = mapping[image_id]\n",
    "    print('---------------------Actual---------------------')\n",
    "    for caption in captions:\n",
    "        print(caption)\n",
    "    # predict the caption\n",
    "    y_pred = predict_caption(model, features[image_id], tokenizer, max_length)\n",
    "    print('--------------------Predicted--------------------')\n",
    "    print(y_pred)\n",
    "    plt.imshow(image)"
   ]
  },
  {
   "cell_type": "markdown",
   "id": "1bc33e51",
   "metadata": {
    "papermill": {
     "duration": 2.394743,
     "end_time": "2024-03-30T19:50:23.911965",
     "exception": false,
     "start_time": "2024-03-30T19:50:21.517222",
     "status": "completed"
    },
    "tags": []
   },
   "source": [
    "+ Image caption generator defined\n",
    "\n",
    "+ First prints the actual captions of the image then prints a predicted caption of the image"
   ]
  },
  {
   "cell_type": "code",
   "execution_count": 33,
   "id": "fc5c7267",
   "metadata": {
    "execution": {
     "iopub.execute_input": "2024-03-30T19:50:28.618793Z",
     "iopub.status.busy": "2024-03-30T19:50:28.617839Z",
     "iopub.status.idle": "2024-03-30T19:50:30.480865Z",
     "shell.execute_reply": "2024-03-30T19:50:30.479900Z"
    },
    "papermill": {
     "duration": 4.29339,
     "end_time": "2024-03-30T19:50:30.483088",
     "exception": false,
     "start_time": "2024-03-30T19:50:26.189698",
     "status": "completed"
    },
    "tags": []
   },
   "outputs": [
    {
     "name": "stdout",
     "output_type": "stream",
     "text": [
      "---------------------Actual---------------------\n",
      "startseq \"if eve wiretaps all the messages of node and has access to node dynamics and interaction topology then the initial state of node can be estimated under the privacy protocol in 13 .\" endseq\n",
      "--------------------Predicted--------------------\n",
      "startseq the average sum rate vs the qos requirement endseq\n"
     ]
    },
    {
     "data": {
      "image/png": "[encoded data removed]",
      "text/plain": [
       "<Figure size 640x480 with 1 Axes>"
      ]
     },
     "metadata": {},
     "output_type": "display_data"
    }
   ],
   "source": [
    "generate_caption(\"1707.04491v4-Figure9-1.png\")"
   ]
  },
  {
   "cell_type": "code",
   "execution_count": 34,
   "id": "e094dc55",
   "metadata": {
    "execution": {
     "iopub.execute_input": "2024-03-30T19:50:35.191825Z",
     "iopub.status.busy": "2024-03-30T19:50:35.191442Z",
     "iopub.status.idle": "2024-03-30T19:50:37.598383Z",
     "shell.execute_reply": "2024-03-30T19:50:37.597410Z"
    },
    "papermill": {
     "duration": 4.722681,
     "end_time": "2024-03-30T19:50:37.600336",
     "exception": false,
     "start_time": "2024-03-30T19:50:32.877655",
     "status": "completed"
    },
    "tags": []
   },
   "outputs": [
    {
     "name": "stdout",
     "output_type": "stream",
     "text": [
      "---------------------Actual---------------------\n",
      "startseq \"ata-p speed-up matrix size 5000 10000 .\" endseq\n",
      "--------------------Predicted--------------------\n",
      "startseq the average sum rate vs the qos exponent for the xp harq scheme endseq\n"
     ]
    },
    {
     "data": {
      "image/png": "[encoded data removed]",
      "text/plain": [
       "<Figure size 640x480 with 1 Axes>"
      ]
     },
     "metadata": {},
     "output_type": "display_data"
    }
   ],
   "source": [
    "generate_caption(\"1902.02104v1-Figure6-1.png\")"
   ]
  },
  {
   "cell_type": "code",
   "execution_count": 35,
   "id": "d9d41700",
   "metadata": {
    "execution": {
     "iopub.execute_input": "2024-03-30T19:50:42.391768Z",
     "iopub.status.busy": "2024-03-30T19:50:42.390826Z",
     "iopub.status.idle": "2024-03-30T19:50:44.770738Z",
     "shell.execute_reply": "2024-03-30T19:50:44.769808Z"
    },
    "papermill": {
     "duration": 4.766485,
     "end_time": "2024-03-30T19:50:44.772745",
     "exception": false,
     "start_time": "2024-03-30T19:50:40.006260",
     "status": "completed"
    },
    "tags": []
   },
   "outputs": [
    {
     "name": "stdout",
     "output_type": "stream",
     "text": [
      "---------------------Actual---------------------\n",
      "startseq \"average transmission bit rate per available resources rq pq∆q in terms of total nlis and ase noise xq yq eq for different values of osnr margin in european cost239 optical network with 46 transmit transponders .\" endseq\n",
      "--------------------Predicted--------------------\n",
      "startseq the average sum rate vs the qos exponent for the xp harq scheme endseq\n"
     ]
    },
    {
     "data": {
      "image/png": "[encoded data removed]",
      "text/plain": [
       "<Figure size 640x480 with 1 Axes>"
      ]
     },
     "metadata": {},
     "output_type": "display_data"
    }
   ],
   "source": [
    "generate_caption(\"1705.01191v1-Figure7-1.png\")"
   ]
  },
  {
   "cell_type": "markdown",
   "id": "99518ed9",
   "metadata": {
    "papermill": {
     "duration": 2.445298,
     "end_time": "2024-03-30T19:50:49.518949",
     "exception": false,
     "start_time": "2024-03-30T19:50:47.073651",
     "status": "completed"
    },
    "tags": []
   },
   "source": [
    "# Final Thoughts\n",
    "\n",
    "+ Training the model by increasing the no. of epochs can give better and more accurate results.\n",
    "\n",
    "+ Processing large amount of data can take a lot of time and system resource.\n",
    "\n",
    "+ The no. of layers of the model can be increased if you want to process large dataset like flickr32k.\n",
    "\n",
    "\n",
    "\n",
    "**In this project , we have built an Image Caption Generator exploring the Flickr Dataset as an advanced deep learning project using different models from image extraction and text based processing.** "
   ]
  },
  {
   "cell_type": "code",
   "execution_count": null,
   "id": "54679926",
   "metadata": {
    "papermill": {
     "duration": 2.279207,
     "end_time": "2024-03-30T19:50:54.213463",
     "exception": false,
     "start_time": "2024-03-30T19:50:51.934256",
     "status": "completed"
    },
    "tags": []
   },
   "outputs": [],
   "source": []
  },
  {
   "cell_type": "code",
   "execution_count": null,
   "id": "d5622137",
   "metadata": {
    "papermill": {
     "duration": 2.519396,
     "end_time": "2024-03-30T19:50:59.108491",
     "exception": false,
     "start_time": "2024-03-30T19:50:56.589095",
     "status": "completed"
    },
    "tags": []
   },
   "outputs": [],
   "source": []
  }
 ],
 "metadata": {
  "kaggle": {
   "accelerator": "nvidiaTeslaT4",
   "dataSources": [
    {
     "datasetId": 4697448,
     "sourceId": 7981479,
     "sourceType": "datasetVersion"
    }
   ],
   "dockerImageVersionId": 30674,
   "isGpuEnabled": true,
   "isInternetEnabled": true,
   "language": "python",
   "sourceType": "notebook"
  },
  "kernelspec": {
   "display_name": "Python 3",
   "language": "python",
   "name": "python3"
  },
  "language_info": {
   "codemirror_mode": {
    "name": "ipython",
    "version": 3
   },
   "file_extension": ".py",
   "mimetype": "text/x-python",
   "name": "python",
   "nbconvert_exporter": "python",
   "pygments_lexer": "ipython3",
   "version": "3.10.13"
  },
  "papermill": {
   "default_parameters": {},
   "duration": 18132.346868,
   "end_time": "2024-03-30T19:51:05.249197",
   "environment_variables": {},
   "exception": null,
   "input_path": "__notebook__.ipynb",
   "output_path": "__notebook__.ipynb",
   "parameters": {},
   "start_time": "2024-03-30T14:48:52.902329",
   "version": "2.3.4"
  },
  "widgets": {
   "application/vnd.jupyter.widget-state+json": {
    "state": {
     "006ed76e5266402781044a9b7accbf17": {
      "model_module": "@jupyter-widgets/controls",
      "model_module_version": "1.5.0",
      "model_name": "HBoxModel",
      "state": {
       "_dom_classes": [],
       "_model_module": "@jupyter-widgets/controls",
       "_model_module_version": "1.5.0",
       "_model_name": "HBoxModel",
       "_view_count": null,
       "_view_module": "@jupyter-widgets/controls",
       "_view_module_version": "1.5.0",
       "_view_name": "HBoxView",
       "box_style": "",
       "children": [
        "IPY_MODEL_3a59a51f2dbc457d8e4420f4eeeb43c7",
        "IPY_MODEL_4b2fa1a43bc542cab6fa6660df9c06c2",
        "IPY_MODEL_299545d4c6b84e48bb418c7bc16e0e4b"
       ],
       "layout": "IPY_MODEL_46e33e49899e45a290b1b25fb4042408"
      }
     },
     "0911e0ce71cf48e79d1e026638a11ea5": {
      "model_module": "@jupyter-widgets/base",
      "model_module_version": "1.2.0",
      "model_name": "LayoutModel",
      "state": {
       "_model_module": "@jupyter-widgets/base",
       "_model_module_version": "1.2.0",
       "_model_name": "LayoutModel",
       "_view_count": null,
       "_view_module": "@jupyter-widgets/base",
       "_view_module_version": "1.2.0",
       "_view_name": "LayoutView",
       "align_content": null,
       "align_items": null,
       "align_self": null,
       "border": null,
       "bottom": null,
       "display": null,
       "flex": null,
       "flex_flow": null,
       "grid_area": null,
       "grid_auto_columns": null,
       "grid_auto_flow": null,
       "grid_auto_rows": null,
       "grid_column": null,
       "grid_gap": null,
       "grid_row": null,
       "grid_template_areas": null,
       "grid_template_columns": null,
       "grid_template_rows": null,
       "height": null,
       "justify_content": null,
       "justify_items": null,
       "left": null,
       "margin": null,
       "max_height": null,
       "max_width": null,
       "min_height": null,
       "min_width": null,
       "object_fit": null,
       "object_position": null,
       "order": null,
       "overflow": null,
       "overflow_x": null,
       "overflow_y": null,
       "padding": null,
       "right": null,
       "top": null,
       "visibility": null,
       "width": null
      }
     },
     "163a67b12d7d4ce69cbf390a90cb185e": {
      "model_module": "@jupyter-widgets/controls",
      "model_module_version": "1.5.0",
      "model_name": "HBoxModel",
      "state": {
       "_dom_classes": [],
       "_model_module": "@jupyter-widgets/controls",
       "_model_module_version": "1.5.0",
       "_model_name": "HBoxModel",
       "_view_count": null,
       "_view_module": "@jupyter-widgets/controls",
       "_view_module_version": "1.5.0",
       "_view_name": "HBoxView",
       "box_style": "",
       "children": [
        "IPY_MODEL_d53d00cf2a994f8e8ee77478d678be96",
        "IPY_MODEL_8c36e17ecd8c4f14a804d1530d8f5a9f",
        "IPY_MODEL_74891225dedb4a5e872c83c8c92ef9e6"
       ],
       "layout": "IPY_MODEL_fb2edeac30bc4764bdcaeaccb6407a6f"
      }
     },
     "17337934bb2b45a586ea9b92110086f4": {
      "model_module": "@jupyter-widgets/base",
      "model_module_version": "1.2.0",
      "model_name": "LayoutModel",
      "state": {
       "_model_module": "@jupyter-widgets/base",
       "_model_module_version": "1.2.0",
       "_model_name": "LayoutModel",
       "_view_count": null,
       "_view_module": "@jupyter-widgets/base",
       "_view_module_version": "1.2.0",
       "_view_name": "LayoutView",
       "align_content": null,
       "align_items": null,
       "align_self": null,
       "border": null,
       "bottom": null,
       "display": null,
       "flex": null,
       "flex_flow": null,
       "grid_area": null,
       "grid_auto_columns": null,
       "grid_auto_flow": null,
       "grid_auto_rows": null,
       "grid_column": null,
       "grid_gap": null,
       "grid_row": null,
       "grid_template_areas": null,
       "grid_template_columns": null,
       "grid_template_rows": null,
       "height": null,
       "justify_content": null,
       "justify_items": null,
       "left": null,
       "margin": null,
       "max_height": null,
       "max_width": null,
       "min_height": null,
       "min_width": null,
       "object_fit": null,
       "object_position": null,
       "order": null,
       "overflow": null,
       "overflow_x": null,
       "overflow_y": null,
       "padding": null,
       "right": null,
       "top": null,
       "visibility": null,
       "width": null
      }
     },
     "1ef014fc10714d2c9e5d042cc96c6410": {
      "model_module": "@jupyter-widgets/controls",
      "model_module_version": "1.5.0",
      "model_name": "FloatProgressModel",
      "state": {
       "_dom_classes": [],
       "_model_module": "@jupyter-widgets/controls",
       "_model_module_version": "1.5.0",
       "_model_name": "FloatProgressModel",
       "_view_count": null,
       "_view_module": "@jupyter-widgets/controls",
       "_view_module_version": "1.5.0",
       "_view_name": "ProgressView",
       "bar_style": "success",
       "description": "",
       "description_tooltip": null,
       "layout": "IPY_MODEL_f5cc3bee77e94bb2b76dc39767e3a5d0",
       "max": 10000.0,
       "min": 0.0,
       "orientation": "horizontal",
       "style": "IPY_MODEL_9439c8fd74f84c4aa8bfc627e3c236ee",
       "value": 10000.0
      }
     },
     "27153681544046d0b16e6a924e7a7f41": {
      "model_module": "@jupyter-widgets/base",
      "model_module_version": "1.2.0",
      "model_name": "LayoutModel",
      "state": {
       "_model_module": "@jupyter-widgets/base",
       "_model_module_version": "1.2.0",
       "_model_name": "LayoutModel",
       "_view_count": null,
       "_view_module": "@jupyter-widgets/base",
       "_view_module_version": "1.2.0",
       "_view_name": "LayoutView",
       "align_content": null,
       "align_items": null,
       "align_self": null,
       "border": null,
       "bottom": null,
       "display": null,
       "flex": null,
       "flex_flow": null,
       "grid_area": null,
       "grid_auto_columns": null,
       "grid_auto_flow": null,
       "grid_auto_rows": null,
       "grid_column": null,
       "grid_gap": null,
       "grid_row": null,
       "grid_template_areas": null,
       "grid_template_columns": null,
       "grid_template_rows": null,
       "height": null,
       "justify_content": null,
       "justify_items": null,
       "left": null,
       "margin": null,
       "max_height": null,
       "max_width": null,
       "min_height": null,
       "min_width": null,
       "object_fit": null,
       "object_position": null,
       "order": null,
       "overflow": null,
       "overflow_x": null,
       "overflow_y": null,
       "padding": null,
       "right": null,
       "top": null,
       "visibility": null,
       "width": null
      }
     },
     "299545d4c6b84e48bb418c7bc16e0e4b": {
      "model_module": "@jupyter-widgets/controls",
      "model_module_version": "1.5.0",
      "model_name": "HTMLModel",
      "state": {
       "_dom_classes": [],
       "_model_module": "@jupyter-widgets/controls",
       "_model_module_version": "1.5.0",
       "_model_name": "HTMLModel",
       "_view_count": null,
       "_view_module": "@jupyter-widgets/controls",
       "_view_module_version": "1.5.0",
       "_view_name": "HTMLView",
       "description": "",
       "description_tooltip": null,
       "layout": "IPY_MODEL_3d1ff6be5d4148c9b9090703d5db9911",
       "placeholder": "​",
       "style": "IPY_MODEL_5783a2a64ff1412195ccc7868e735dfb",
       "value": " 1000/1000 [37:49&lt;00:00,  2.18s/it]"
      }
     },
     "3542943ba8624263b98e1a055f049623": {
      "model_module": "@jupyter-widgets/controls",
      "model_module_version": "1.5.0",
      "model_name": "DescriptionStyleModel",
      "state": {
       "_model_module": "@jupyter-widgets/controls",
       "_model_module_version": "1.5.0",
       "_model_name": "DescriptionStyleModel",
       "_view_count": null,
       "_view_module": "@jupyter-widgets/base",
       "_view_module_version": "1.2.0",
       "_view_name": "StyleView",
       "description_width": ""
      }
     },
     "3a59a51f2dbc457d8e4420f4eeeb43c7": {
      "model_module": "@jupyter-widgets/controls",
      "model_module_version": "1.5.0",
      "model_name": "HTMLModel",
      "state": {
       "_dom_classes": [],
       "_model_module": "@jupyter-widgets/controls",
       "_model_module_version": "1.5.0",
       "_model_name": "HTMLModel",
       "_view_count": null,
       "_view_module": "@jupyter-widgets/controls",
       "_view_module_version": "1.5.0",
       "_view_name": "HTMLView",
       "description": "",
       "description_tooltip": null,
       "layout": "IPY_MODEL_0911e0ce71cf48e79d1e026638a11ea5",
       "placeholder": "​",
       "style": "IPY_MODEL_fe86305abf1745f1be417ce8b2bca8e4",
       "value": "100%"
      }
     },
     "3d1ff6be5d4148c9b9090703d5db9911": {
      "model_module": "@jupyter-widgets/base",
      "model_module_version": "1.2.0",
      "model_name": "LayoutModel",
      "state": {
       "_model_module": "@jupyter-widgets/base",
       "_model_module_version": "1.2.0",
       "_model_name": "LayoutModel",
       "_view_count": null,
       "_view_module": "@jupyter-widgets/base",
       "_view_module_version": "1.2.0",
       "_view_name": "LayoutView",
       "align_content": null,
       "align_items": null,
       "align_self": null,
       "border": null,
       "bottom": null,
       "display": null,
       "flex": null,
       "flex_flow": null,
       "grid_area": null,
       "grid_auto_columns": null,
       "grid_auto_flow": null,
       "grid_auto_rows": null,
       "grid_column": null,
       "grid_gap": null,
       "grid_row": null,
       "grid_template_areas": null,
       "grid_template_columns": null,
       "grid_template_rows": null,
       "height": null,
       "justify_content": null,
       "justify_items": null,
       "left": null,
       "margin": null,
       "max_height": null,
       "max_width": null,
       "min_height": null,
       "min_width": null,
       "object_fit": null,
       "object_position": null,
       "order": null,
       "overflow": null,
       "overflow_x": null,
       "overflow_y": null,
       "padding": null,
       "right": null,
       "top": null,
       "visibility": null,
       "width": null
      }
     },
     "46e33e49899e45a290b1b25fb4042408": {
      "model_module": "@jupyter-widgets/base",
      "model_module_version": "1.2.0",
      "model_name": "LayoutModel",
      "state": {
       "_model_module": "@jupyter-widgets/base",
       "_model_module_version": "1.2.0",
       "_model_name": "LayoutModel",
       "_view_count": null,
       "_view_module": "@jupyter-widgets/base",
       "_view_module_version": "1.2.0",
       "_view_name": "LayoutView",
       "align_content": null,
       "align_items": null,
       "align_self": null,
       "border": null,
       "bottom": null,
       "display": null,
       "flex": null,
       "flex_flow": null,
       "grid_area": null,
       "grid_auto_columns": null,
       "grid_auto_flow": null,
       "grid_auto_rows": null,
       "grid_column": null,
       "grid_gap": null,
       "grid_row": null,
       "grid_template_areas": null,
       "grid_template_columns": null,
       "grid_template_rows": null,
       "height": null,
       "justify_content": null,
       "justify_items": null,
       "left": null,
       "margin": null,
       "max_height": null,
       "max_width": null,
       "min_height": null,
       "min_width": null,
       "object_fit": null,
       "object_position": null,
       "order": null,
       "overflow": null,
       "overflow_x": null,
       "overflow_y": null,
       "padding": null,
       "right": null,
       "top": null,
       "visibility": null,
       "width": null
      }
     },
     "4b2fa1a43bc542cab6fa6660df9c06c2": {
      "model_module": "@jupyter-widgets/controls",
      "model_module_version": "1.5.0",
      "model_name": "FloatProgressModel",
      "state": {
       "_dom_classes": [],
       "_model_module": "@jupyter-widgets/controls",
       "_model_module_version": "1.5.0",
       "_model_name": "FloatProgressModel",
       "_view_count": null,
       "_view_module": "@jupyter-widgets/controls",
       "_view_module_version": "1.5.0",
       "_view_name": "ProgressView",
       "bar_style": "success",
       "description": "",
       "description_tooltip": null,
       "layout": "IPY_MODEL_e33f93a030f14222bc4d60e0909701f8",
       "max": 1000.0,
       "min": 0.0,
       "orientation": "horizontal",
       "style": "IPY_MODEL_c9732fdeb29c4b58b8de56ac347689a0",
       "value": 1000.0
      }
     },
     "50f33f00d2a4461cb846d7070462ec6b": {
      "model_module": "@jupyter-widgets/base",
      "model_module_version": "1.2.0",
      "model_name": "LayoutModel",
      "state": {
       "_model_module": "@jupyter-widgets/base",
       "_model_module_version": "1.2.0",
       "_model_name": "LayoutModel",
       "_view_count": null,
       "_view_module": "@jupyter-widgets/base",
       "_view_module_version": "1.2.0",
       "_view_name": "LayoutView",
       "align_content": null,
       "align_items": null,
       "align_self": null,
       "border": null,
       "bottom": null,
       "display": null,
       "flex": null,
       "flex_flow": null,
       "grid_area": null,
       "grid_auto_columns": null,
       "grid_auto_flow": null,
       "grid_auto_rows": null,
       "grid_column": null,
       "grid_gap": null,
       "grid_row": null,
       "grid_template_areas": null,
       "grid_template_columns": null,
       "grid_template_rows": null,
       "height": null,
       "justify_content": null,
       "justify_items": null,
       "left": null,
       "margin": null,
       "max_height": null,
       "max_width": null,
       "min_height": null,
       "min_width": null,
       "object_fit": null,
       "object_position": null,
       "order": null,
       "overflow": null,
       "overflow_x": null,
       "overflow_y": null,
       "padding": null,
       "right": null,
       "top": null,
       "visibility": null,
       "width": null
      }
     },
     "5783a2a64ff1412195ccc7868e735dfb": {
      "model_module": "@jupyter-widgets/controls",
      "model_module_version": "1.5.0",
      "model_name": "DescriptionStyleModel",
      "state": {
       "_model_module": "@jupyter-widgets/controls",
       "_model_module_version": "1.5.0",
       "_model_name": "DescriptionStyleModel",
       "_view_count": null,
       "_view_module": "@jupyter-widgets/base",
       "_view_module_version": "1.2.0",
       "_view_name": "StyleView",
       "description_width": ""
      }
     },
     "5f7ccbc9df02455aafb1daa3f19dda98": {
      "model_module": "@jupyter-widgets/controls",
      "model_module_version": "1.5.0",
      "model_name": "DescriptionStyleModel",
      "state": {
       "_model_module": "@jupyter-widgets/controls",
       "_model_module_version": "1.5.0",
       "_model_name": "DescriptionStyleModel",
       "_view_count": null,
       "_view_module": "@jupyter-widgets/base",
       "_view_module_version": "1.2.0",
       "_view_name": "StyleView",
       "description_width": ""
      }
     },
     "74891225dedb4a5e872c83c8c92ef9e6": {
      "model_module": "@jupyter-widgets/controls",
      "model_module_version": "1.5.0",
      "model_name": "HTMLModel",
      "state": {
       "_dom_classes": [],
       "_model_module": "@jupyter-widgets/controls",
       "_model_module_version": "1.5.0",
       "_model_name": "HTMLModel",
       "_view_count": null,
       "_view_module": "@jupyter-widgets/controls",
       "_view_module_version": "1.5.0",
       "_view_name": "HTMLView",
       "description": "",
       "description_tooltip": null,
       "layout": "IPY_MODEL_17337934bb2b45a586ea9b92110086f4",
       "placeholder": "​",
       "style": "IPY_MODEL_5f7ccbc9df02455aafb1daa3f19dda98",
       "value": " 10001/10001 [00:00&lt;00:00, 192343.51it/s]"
      }
     },
     "7dc47c771ec7432faee3d4dee0142caa": {
      "model_module": "@jupyter-widgets/controls",
      "model_module_version": "1.5.0",
      "model_name": "HBoxModel",
      "state": {
       "_dom_classes": [],
       "_model_module": "@jupyter-widgets/controls",
       "_model_module_version": "1.5.0",
       "_model_name": "HBoxModel",
       "_view_count": null,
       "_view_module": "@jupyter-widgets/controls",
       "_view_module_version": "1.5.0",
       "_view_name": "HBoxView",
       "box_style": "",
       "children": [
        "IPY_MODEL_d797ad37089c42aea6ac9ed995021479",
        "IPY_MODEL_1ef014fc10714d2c9e5d042cc96c6410",
        "IPY_MODEL_dbb6dbcd70314e5aba639377f7589fa0"
       ],
       "layout": "IPY_MODEL_27153681544046d0b16e6a924e7a7f41"
      }
     },
     "80479fc0c23f47c59af43a12be445940": {
      "model_module": "@jupyter-widgets/controls",
      "model_module_version": "1.5.0",
      "model_name": "DescriptionStyleModel",
      "state": {
       "_model_module": "@jupyter-widgets/controls",
       "_model_module_version": "1.5.0",
       "_model_name": "DescriptionStyleModel",
       "_view_count": null,
       "_view_module": "@jupyter-widgets/base",
       "_view_module_version": "1.2.0",
       "_view_name": "StyleView",
       "description_width": ""
      }
     },
     "8c36e17ecd8c4f14a804d1530d8f5a9f": {
      "model_module": "@jupyter-widgets/controls",
      "model_module_version": "1.5.0",
      "model_name": "FloatProgressModel",
      "state": {
       "_dom_classes": [],
       "_model_module": "@jupyter-widgets/controls",
       "_model_module_version": "1.5.0",
       "_model_name": "FloatProgressModel",
       "_view_count": null,
       "_view_module": "@jupyter-widgets/controls",
       "_view_module_version": "1.5.0",
       "_view_name": "ProgressView",
       "bar_style": "success",
       "description": "",
       "description_tooltip": null,
       "layout": "IPY_MODEL_50f33f00d2a4461cb846d7070462ec6b",
       "max": 10001.0,
       "min": 0.0,
       "orientation": "horizontal",
       "style": "IPY_MODEL_a0ad82b6225b43148538e947c1cf85df",
       "value": 10001.0
      }
     },
     "9439c8fd74f84c4aa8bfc627e3c236ee": {
      "model_module": "@jupyter-widgets/controls",
      "model_module_version": "1.5.0",
      "model_name": "ProgressStyleModel",
      "state": {
       "_model_module": "@jupyter-widgets/controls",
       "_model_module_version": "1.5.0",
       "_model_name": "ProgressStyleModel",
       "_view_count": null,
       "_view_module": "@jupyter-widgets/base",
       "_view_module_version": "1.2.0",
       "_view_name": "StyleView",
       "bar_color": null,
       "description_width": ""
      }
     },
     "9f8134d35e2e4adfb30c2c095130b0aa": {
      "model_module": "@jupyter-widgets/controls",
      "model_module_version": "1.5.0",
      "model_name": "DescriptionStyleModel",
      "state": {
       "_model_module": "@jupyter-widgets/controls",
       "_model_module_version": "1.5.0",
       "_model_name": "DescriptionStyleModel",
       "_view_count": null,
       "_view_module": "@jupyter-widgets/base",
       "_view_module_version": "1.2.0",
       "_view_name": "StyleView",
       "description_width": ""
      }
     },
     "a0ad82b6225b43148538e947c1cf85df": {
      "model_module": "@jupyter-widgets/controls",
      "model_module_version": "1.5.0",
      "model_name": "ProgressStyleModel",
      "state": {
       "_model_module": "@jupyter-widgets/controls",
       "_model_module_version": "1.5.0",
       "_model_name": "ProgressStyleModel",
       "_view_count": null,
       "_view_module": "@jupyter-widgets/base",
       "_view_module_version": "1.2.0",
       "_view_name": "StyleView",
       "bar_color": null,
       "description_width": ""
      }
     },
     "a5f25926fc0e46cb9916675a20688e82": {
      "model_module": "@jupyter-widgets/base",
      "model_module_version": "1.2.0",
      "model_name": "LayoutModel",
      "state": {
       "_model_module": "@jupyter-widgets/base",
       "_model_module_version": "1.2.0",
       "_model_name": "LayoutModel",
       "_view_count": null,
       "_view_module": "@jupyter-widgets/base",
       "_view_module_version": "1.2.0",
       "_view_name": "LayoutView",
       "align_content": null,
       "align_items": null,
       "align_self": null,
       "border": null,
       "bottom": null,
       "display": null,
       "flex": null,
       "flex_flow": null,
       "grid_area": null,
       "grid_auto_columns": null,
       "grid_auto_flow": null,
       "grid_auto_rows": null,
       "grid_column": null,
       "grid_gap": null,
       "grid_row": null,
       "grid_template_areas": null,
       "grid_template_columns": null,
       "grid_template_rows": null,
       "height": null,
       "justify_content": null,
       "justify_items": null,
       "left": null,
       "margin": null,
       "max_height": null,
       "max_width": null,
       "min_height": null,
       "min_width": null,
       "object_fit": null,
       "object_position": null,
       "order": null,
       "overflow": null,
       "overflow_x": null,
       "overflow_y": null,
       "padding": null,
       "right": null,
       "top": null,
       "visibility": null,
       "width": null
      }
     },
     "c9732fdeb29c4b58b8de56ac347689a0": {
      "model_module": "@jupyter-widgets/controls",
      "model_module_version": "1.5.0",
      "model_name": "ProgressStyleModel",
      "state": {
       "_model_module": "@jupyter-widgets/controls",
       "_model_module_version": "1.5.0",
       "_model_name": "ProgressStyleModel",
       "_view_count": null,
       "_view_module": "@jupyter-widgets/base",
       "_view_module_version": "1.2.0",
       "_view_name": "StyleView",
       "bar_color": null,
       "description_width": ""
      }
     },
     "cf1219c4aa3b4a0ebc0d05f0461ae6dc": {
      "model_module": "@jupyter-widgets/base",
      "model_module_version": "1.2.0",
      "model_name": "LayoutModel",
      "state": {
       "_model_module": "@jupyter-widgets/base",
       "_model_module_version": "1.2.0",
       "_model_name": "LayoutModel",
       "_view_count": null,
       "_view_module": "@jupyter-widgets/base",
       "_view_module_version": "1.2.0",
       "_view_name": "LayoutView",
       "align_content": null,
       "align_items": null,
       "align_self": null,
       "border": null,
       "bottom": null,
       "display": null,
       "flex": null,
       "flex_flow": null,
       "grid_area": null,
       "grid_auto_columns": null,
       "grid_auto_flow": null,
       "grid_auto_rows": null,
       "grid_column": null,
       "grid_gap": null,
       "grid_row": null,
       "grid_template_areas": null,
       "grid_template_columns": null,
       "grid_template_rows": null,
       "height": null,
       "justify_content": null,
       "justify_items": null,
       "left": null,
       "margin": null,
       "max_height": null,
       "max_width": null,
       "min_height": null,
       "min_width": null,
       "object_fit": null,
       "object_position": null,
       "order": null,
       "overflow": null,
       "overflow_x": null,
       "overflow_y": null,
       "padding": null,
       "right": null,
       "top": null,
       "visibility": null,
       "width": null
      }
     },
     "d53d00cf2a994f8e8ee77478d678be96": {
      "model_module": "@jupyter-widgets/controls",
      "model_module_version": "1.5.0",
      "model_name": "HTMLModel",
      "state": {
       "_dom_classes": [],
       "_model_module": "@jupyter-widgets/controls",
       "_model_module_version": "1.5.0",
       "_model_name": "HTMLModel",
       "_view_count": null,
       "_view_module": "@jupyter-widgets/controls",
       "_view_module_version": "1.5.0",
       "_view_name": "HTMLView",
       "description": "",
       "description_tooltip": null,
       "layout": "IPY_MODEL_cf1219c4aa3b4a0ebc0d05f0461ae6dc",
       "placeholder": "​",
       "style": "IPY_MODEL_3542943ba8624263b98e1a055f049623",
       "value": "100%"
      }
     },
     "d797ad37089c42aea6ac9ed995021479": {
      "model_module": "@jupyter-widgets/controls",
      "model_module_version": "1.5.0",
      "model_name": "HTMLModel",
      "state": {
       "_dom_classes": [],
       "_model_module": "@jupyter-widgets/controls",
       "_model_module_version": "1.5.0",
       "_model_name": "HTMLModel",
       "_view_count": null,
       "_view_module": "@jupyter-widgets/controls",
       "_view_module_version": "1.5.0",
       "_view_name": "HTMLView",
       "description": "",
       "description_tooltip": null,
       "layout": "IPY_MODEL_e1d1b0cdfd2a4d4ab4b029e62240dd01",
       "placeholder": "​",
       "style": "IPY_MODEL_80479fc0c23f47c59af43a12be445940",
       "value": "100%"
      }
     },
     "dbb6dbcd70314e5aba639377f7589fa0": {
      "model_module": "@jupyter-widgets/controls",
      "model_module_version": "1.5.0",
      "model_name": "HTMLModel",
      "state": {
       "_dom_classes": [],
       "_model_module": "@jupyter-widgets/controls",
       "_model_module_version": "1.5.0",
       "_model_name": "HTMLModel",
       "_view_count": null,
       "_view_module": "@jupyter-widgets/controls",
       "_view_module_version": "1.5.0",
       "_view_name": "HTMLView",
       "description": "",
       "description_tooltip": null,
       "layout": "IPY_MODEL_a5f25926fc0e46cb9916675a20688e82",
       "placeholder": "​",
       "style": "IPY_MODEL_9f8134d35e2e4adfb30c2c095130b0aa",
       "value": " 10000/10000 [13:35&lt;00:00, 11.88it/s]"
      }
     },
     "e1d1b0cdfd2a4d4ab4b029e62240dd01": {
      "model_module": "@jupyter-widgets/base",
      "model_module_version": "1.2.0",
      "model_name": "LayoutModel",
      "state": {
       "_model_module": "@jupyter-widgets/base",
       "_model_module_version": "1.2.0",
       "_model_name": "LayoutModel",
       "_view_count": null,
       "_view_module": "@jupyter-widgets/base",
       "_view_module_version": "1.2.0",
       "_view_name": "LayoutView",
       "align_content": null,
       "align_items": null,
       "align_self": null,
       "border": null,
       "bottom": null,
       "display": null,
       "flex": null,
       "flex_flow": null,
       "grid_area": null,
       "grid_auto_columns": null,
       "grid_auto_flow": null,
       "grid_auto_rows": null,
       "grid_column": null,
       "grid_gap": null,
       "grid_row": null,
       "grid_template_areas": null,
       "grid_template_columns": null,
       "grid_template_rows": null,
       "height": null,
       "justify_content": null,
       "justify_items": null,
       "left": null,
       "margin": null,
       "max_height": null,
       "max_width": null,
       "min_height": null,
       "min_width": null,
       "object_fit": null,
       "object_position": null,
       "order": null,
       "overflow": null,
       "overflow_x": null,
       "overflow_y": null,
       "padding": null,
       "right": null,
       "top": null,
       "visibility": null,
       "width": null
      }
     },
     "e33f93a030f14222bc4d60e0909701f8": {
      "model_module": "@jupyter-widgets/base",
      "model_module_version": "1.2.0",
      "model_name": "LayoutModel",
      "state": {
       "_model_module": "@jupyter-widgets/base",
       "_model_module_version": "1.2.0",
       "_model_name": "LayoutModel",
       "_view_count": null,
       "_view_module": "@jupyter-widgets/base",
       "_view_module_version": "1.2.0",
       "_view_name": "LayoutView",
       "align_content": null,
       "align_items": null,
       "align_self": null,
       "border": null,
       "bottom": null,
       "display": null,
       "flex": null,
       "flex_flow": null,
       "grid_area": null,
       "grid_auto_columns": null,
       "grid_auto_flow": null,
       "grid_auto_rows": null,
       "grid_column": null,
       "grid_gap": null,
       "grid_row": null,
       "grid_template_areas": null,
       "grid_template_columns": null,
       "grid_template_rows": null,
       "height": null,
       "justify_content": null,
       "justify_items": null,
       "left": null,
       "margin": null,
       "max_height": null,
       "max_width": null,
       "min_height": null,
       "min_width": null,
       "object_fit": null,
       "object_position": null,
       "order": null,
       "overflow": null,
       "overflow_x": null,
       "overflow_y": null,
       "padding": null,
       "right": null,
       "top": null,
       "visibility": null,
       "width": null
      }
     },
     "f5cc3bee77e94bb2b76dc39767e3a5d0": {
      "model_module": "@jupyter-widgets/base",
      "model_module_version": "1.2.0",
      "model_name": "LayoutModel",
      "state": {
       "_model_module": "@jupyter-widgets/base",
       "_model_module_version": "1.2.0",
       "_model_name": "LayoutModel",
       "_view_count": null,
       "_view_module": "@jupyter-widgets/base",
       "_view_module_version": "1.2.0",
       "_view_name": "LayoutView",
       "align_content": null,
       "align_items": null,
       "align_self": null,
       "border": null,
       "bottom": null,
       "display": null,
       "flex": null,
       "flex_flow": null,
       "grid_area": null,
       "grid_auto_columns": null,
       "grid_auto_flow": null,
       "grid_auto_rows": null,
       "grid_column": null,
       "grid_gap": null,
       "grid_row": null,
       "grid_template_areas": null,
       "grid_template_columns": null,
       "grid_template_rows": null,
       "height": null,
       "justify_content": null,
       "justify_items": null,
       "left": null,
       "margin": null,
       "max_height": null,
       "max_width": null,
       "min_height": null,
       "min_width": null,
       "object_fit": null,
       "object_position": null,
       "order": null,
       "overflow": null,
       "overflow_x": null,
       "overflow_y": null,
       "padding": null,
       "right": null,
       "top": null,
       "visibility": null,
       "width": null
      }
     },
     "fb2edeac30bc4764bdcaeaccb6407a6f": {
      "model_module": "@jupyter-widgets/base",
      "model_module_version": "1.2.0",
      "model_name": "LayoutModel",
      "state": {
       "_model_module": "@jupyter-widgets/base",
       "_model_module_version": "1.2.0",
       "_model_name": "LayoutModel",
       "_view_count": null,
       "_view_module": "@jupyter-widgets/base",
       "_view_module_version": "1.2.0",
       "_view_name": "LayoutView",
       "align_content": null,
       "align_items": null,
       "align_self": null,
       "border": null,
       "bottom": null,
       "display": null,
       "flex": null,
       "flex_flow": null,
       "grid_area": null,
       "grid_auto_columns": null,
       "grid_auto_flow": null,
       "grid_auto_rows": null,
       "grid_column": null,
       "grid_gap": null,
       "grid_row": null,
       "grid_template_areas": null,
       "grid_template_columns": null,
       "grid_template_rows": null,
       "height": null,
       "justify_content": null,
       "justify_items": null,
       "left": null,
       "margin": null,
       "max_height": null,
       "max_width": null,
       "min_height": null,
       "min_width": null,
       "object_fit": null,
       "object_position": null,
       "order": null,
       "overflow": null,
       "overflow_x": null,
       "overflow_y": null,
       "padding": null,
       "right": null,
       "top": null,
       "visibility": null,
       "width": null
      }
     },
     "fe86305abf1745f1be417ce8b2bca8e4": {
      "model_module": "@jupyter-widgets/controls",
      "model_module_version": "1.5.0",
      "model_name": "DescriptionStyleModel",
      "state": {
       "_model_module": "@jupyter-widgets/controls",
       "_model_module_version": "1.5.0",
       "_model_name": "DescriptionStyleModel",
       "_view_count": null,
       "_view_module": "@jupyter-widgets/base",
       "_view_module_version": "1.2.0",
       "_view_name": "StyleView",
       "description_width": ""
      }
     }
    },
    "version_major": 2,
    "version_minor": 0
   }
  }
 },
 "nbformat": 4,
 "nbformat_minor": 5
}
